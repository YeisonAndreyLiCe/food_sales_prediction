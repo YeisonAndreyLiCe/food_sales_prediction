{
 "cells": [
  {
   "cell_type": "markdown",
   "id": "b02a2618-0caf-49ab-980e-d66df478abd5",
   "metadata": {},
   "source": [
    "# Food Sales Prediction Project\n",
    "The information use in this project corresponds to 2013 sales of **1559** products and was collected by data scientist at BigMart across 10 stores in different cities. Some features of each product have been defined.   \n",
    "In order to help to the retailer to understand the product properties and the outlets that play a crucial role in the sales, **this project aims to predict the sales of food products in each outlet, it will try to understand the properties of products and outlets which play a key role in increasing sales.** \n",
    "\n",
    "In this section the data provided for training is cleaned.\n",
    "<p><a href=\"https://datahack.analyticsvidhya.com/contest/practice-problem-big-mart-sales-iii/#ProblemStatement\" target:\"_blank\">source: <i>Analytics Vidhya 2013-2022</i></a></p>\n",
    "<table>\n",
    "    <tbody>\n",
    "        <tr>\n",
    "            <td>Variable</td>\n",
    "            <td >Description</td>\n",
    "        </tr>\n",
    "        <tr>\n",
    "            <td >Item_Identifier</td>\n",
    "            <td >Unique product ID</td>\n",
    "        </tr>\n",
    "        <tr>\n",
    "            <td>Item_Weight</td>\n",
    "            <td >Weight of product</td>\n",
    "        </tr>\n",
    "        <tr>\n",
    "            <td>Item_Fat_Content</td>\n",
    "            <td>Whether the product is low fat or not</td>\n",
    "        </tr>\n",
    "        <tr>\n",
    "            <td>Item_Visibility</td>\n",
    "            <td>The % of total display area of all products in a store allocated to the particular product</td>\n",
    "        </tr>\n",
    "        <tr>\n",
    "            <td>Item_Type</td>\n",
    "            <td>The category to which the product belongs</td>\n",
    "        </tr>\n",
    "        <tr>\n",
    "            <td>Item_MRP</td>\n",
    "            <td>Maximum Retail Price (list price) of the product</td>\n",
    "        </tr>\n",
    "        <tr>\n",
    "            <td>Outlet_Identifier</td>\n",
    "            <td>Unique store ID</td>\n",
    "        </tr>\n",
    "        <tr>\n",
    "            <td>Outlet_Establishment_Year</td>\n",
    "            <td>The year in which store was established</td>\n",
    "        </tr>\n",
    "        <tr>\n",
    "            <td>Outlet_Size</td>\n",
    "            <td>The size of the store in terms of ground area covered</td>\n",
    "        </tr>\n",
    "        <tr>\n",
    "            <td>Outlet_Location_Type</td>\n",
    "            <td>The type of city in which the store is located</td>\n",
    "        </tr>\n",
    "        <tr>\n",
    "            <td>Outlet_Type</td>\n",
    "            <td>Whether the outlet is just a grocery store or some sort of supermarket</td>\n",
    "        </tr>\n",
    "    </tbody>\n",
    "</table>"
   ]
  },
  {
   "cell_type": "code",
   "execution_count": null,
   "id": "de8e7653-505b-4104-8cba-bdafaaaea296",
   "metadata": {},
   "outputs": [],
   "source": [
    "from sklearn.compose import make_column_selector\n",
    "import numpy as np\n",
    "import pandas as pd"
   ]
  },
  {
   "cell_type": "markdown",
   "id": "4ac4d49b-c9c2-43f4-b2bc-c4a613494c83",
   "metadata": {},
   "source": [
    "## Charging Information"
   ]
  },
  {
   "cell_type": "code",
   "execution_count": 2,
   "id": "9d0dc0c2-7d73-4cb8-8103-47540d47dc28",
   "metadata": {},
   "outputs": [
    {
     "data": {
      "text/html": [
       "<div>\n",
       "<style scoped>\n",
       "    .dataframe tbody tr th:only-of-type {\n",
       "        vertical-align: middle;\n",
       "    }\n",
       "\n",
       "    .dataframe tbody tr th {\n",
       "        vertical-align: top;\n",
       "    }\n",
       "\n",
       "    .dataframe thead th {\n",
       "        text-align: right;\n",
       "    }\n",
       "</style>\n",
       "<table border=\"1\" class=\"dataframe\">\n",
       "  <thead>\n",
       "    <tr style=\"text-align: right;\">\n",
       "      <th></th>\n",
       "      <th>Item_Identifier</th>\n",
       "      <th>Item_Weight</th>\n",
       "      <th>Item_Fat_Content</th>\n",
       "      <th>Item_Visibility</th>\n",
       "      <th>Item_Type</th>\n",
       "      <th>Item_MRP</th>\n",
       "      <th>Outlet_Identifier</th>\n",
       "      <th>Outlet_Establishment_Year</th>\n",
       "      <th>Outlet_Size</th>\n",
       "      <th>Outlet_Location_Type</th>\n",
       "      <th>Outlet_Type</th>\n",
       "      <th>Item_Outlet_Sales</th>\n",
       "    </tr>\n",
       "  </thead>\n",
       "  <tbody>\n",
       "    <tr>\n",
       "      <th>0</th>\n",
       "      <td>FDA15</td>\n",
       "      <td>9.30</td>\n",
       "      <td>Low Fat</td>\n",
       "      <td>0.016047</td>\n",
       "      <td>Dairy</td>\n",
       "      <td>249.8092</td>\n",
       "      <td>OUT049</td>\n",
       "      <td>1999</td>\n",
       "      <td>Medium</td>\n",
       "      <td>Tier 1</td>\n",
       "      <td>Supermarket Type1</td>\n",
       "      <td>3735.1380</td>\n",
       "    </tr>\n",
       "    <tr>\n",
       "      <th>1</th>\n",
       "      <td>DRC01</td>\n",
       "      <td>5.92</td>\n",
       "      <td>Regular</td>\n",
       "      <td>0.019278</td>\n",
       "      <td>Soft Drinks</td>\n",
       "      <td>48.2692</td>\n",
       "      <td>OUT018</td>\n",
       "      <td>2009</td>\n",
       "      <td>Medium</td>\n",
       "      <td>Tier 3</td>\n",
       "      <td>Supermarket Type2</td>\n",
       "      <td>443.4228</td>\n",
       "    </tr>\n",
       "    <tr>\n",
       "      <th>2</th>\n",
       "      <td>FDN15</td>\n",
       "      <td>17.50</td>\n",
       "      <td>Low Fat</td>\n",
       "      <td>0.016760</td>\n",
       "      <td>Meat</td>\n",
       "      <td>141.6180</td>\n",
       "      <td>OUT049</td>\n",
       "      <td>1999</td>\n",
       "      <td>Medium</td>\n",
       "      <td>Tier 1</td>\n",
       "      <td>Supermarket Type1</td>\n",
       "      <td>2097.2700</td>\n",
       "    </tr>\n",
       "    <tr>\n",
       "      <th>3</th>\n",
       "      <td>FDX07</td>\n",
       "      <td>19.20</td>\n",
       "      <td>Regular</td>\n",
       "      <td>0.000000</td>\n",
       "      <td>Fruits and Vegetables</td>\n",
       "      <td>182.0950</td>\n",
       "      <td>OUT010</td>\n",
       "      <td>1998</td>\n",
       "      <td>NaN</td>\n",
       "      <td>Tier 3</td>\n",
       "      <td>Grocery Store</td>\n",
       "      <td>732.3800</td>\n",
       "    </tr>\n",
       "    <tr>\n",
       "      <th>4</th>\n",
       "      <td>NCD19</td>\n",
       "      <td>8.93</td>\n",
       "      <td>Low Fat</td>\n",
       "      <td>0.000000</td>\n",
       "      <td>Household</td>\n",
       "      <td>53.8614</td>\n",
       "      <td>OUT013</td>\n",
       "      <td>1987</td>\n",
       "      <td>High</td>\n",
       "      <td>Tier 3</td>\n",
       "      <td>Supermarket Type1</td>\n",
       "      <td>994.7052</td>\n",
       "    </tr>\n",
       "  </tbody>\n",
       "</table>\n",
       "</div>"
      ],
      "text/plain": [
       "  Item_Identifier  Item_Weight Item_Fat_Content  Item_Visibility  \\\n",
       "0           FDA15         9.30          Low Fat         0.016047   \n",
       "1           DRC01         5.92          Regular         0.019278   \n",
       "2           FDN15        17.50          Low Fat         0.016760   \n",
       "3           FDX07        19.20          Regular         0.000000   \n",
       "4           NCD19         8.93          Low Fat         0.000000   \n",
       "\n",
       "               Item_Type  Item_MRP Outlet_Identifier  \\\n",
       "0                  Dairy  249.8092            OUT049   \n",
       "1            Soft Drinks   48.2692            OUT018   \n",
       "2                   Meat  141.6180            OUT049   \n",
       "3  Fruits and Vegetables  182.0950            OUT010   \n",
       "4              Household   53.8614            OUT013   \n",
       "\n",
       "   Outlet_Establishment_Year Outlet_Size Outlet_Location_Type  \\\n",
       "0                       1999      Medium               Tier 1   \n",
       "1                       2009      Medium               Tier 3   \n",
       "2                       1999      Medium               Tier 1   \n",
       "3                       1998         NaN               Tier 3   \n",
       "4                       1987        High               Tier 3   \n",
       "\n",
       "         Outlet_Type  Item_Outlet_Sales  \n",
       "0  Supermarket Type1          3735.1380  \n",
       "1  Supermarket Type2           443.4228  \n",
       "2  Supermarket Type1          2097.2700  \n",
       "3      Grocery Store           732.3800  \n",
       "4  Supermarket Type1           994.7052  "
      ]
     },
     "execution_count": 2,
     "metadata": {},
     "output_type": "execute_result"
    }
   ],
   "source": [
    "df = pd.read_csv(\"../data/raw/train_data.csv\")\n",
    "df.head()"
   ]
  },
  {
   "cell_type": "markdown",
   "id": "0cb23bfb-8911-4bc8-ba25-63b2cab1a029",
   "metadata": {
    "tags": []
   },
   "source": [
    "## Characterizing DataFrame"
   ]
  },
  {
   "cell_type": "code",
   "execution_count": 11,
   "id": "4fcc390c-6d82-408a-aa52-890d3838f566",
   "metadata": {},
   "outputs": [
    {
     "data": {
      "text/plain": [
       "(8523, 12)"
      ]
     },
     "execution_count": 11,
     "metadata": {},
     "output_type": "execute_result"
    }
   ],
   "source": [
    "df.shape"
   ]
  },
  {
   "cell_type": "code",
   "execution_count": 12,
   "id": "d12b26a1-ae00-4fb0-9eb4-d68439caf2f8",
   "metadata": {},
   "outputs": [
    {
     "name": "stdout",
     "output_type": "stream",
     "text": [
      "<class 'pandas.core.frame.DataFrame'>\n",
      "RangeIndex: 8523 entries, 0 to 8522\n",
      "Data columns (total 12 columns):\n",
      " #   Column                     Non-Null Count  Dtype  \n",
      "---  ------                     --------------  -----  \n",
      " 0   Item_Identifier            8523 non-null   object \n",
      " 1   Item_Weight                7060 non-null   float64\n",
      " 2   Item_Fat_Content           8523 non-null   object \n",
      " 3   Item_Visibility            8523 non-null   float64\n",
      " 4   Item_Type                  8523 non-null   object \n",
      " 5   Item_MRP                   8523 non-null   float64\n",
      " 6   Outlet_Identifier          8523 non-null   object \n",
      " 7   Outlet_Establishment_Year  8523 non-null   int64  \n",
      " 8   Outlet_Size                6113 non-null   object \n",
      " 9   Outlet_Location_Type       8523 non-null   object \n",
      " 10  Outlet_Type                8523 non-null   object \n",
      " 11  Item_Outlet_Sales          8523 non-null   float64\n",
      "dtypes: float64(4), int64(1), object(7)\n",
      "memory usage: 799.2+ KB\n"
     ]
    }
   ],
   "source": [
    "df.info()"
   ]
  },
  {
   "cell_type": "markdown",
   "id": "ec222f58-6026-4205-bc93-e418277bc742",
   "metadata": {},
   "source": [
    "Observations: \n",
    "- There is consistency in the type of data in each column\n",
    "- <p style=\"color:rgb(150,0,0);\">There are missing data in the columns: Item_Weight - 1463 missing values, and Outlet_Size - 2410 missing values.</p>"
   ]
  },
  {
   "cell_type": "markdown",
   "id": "e6e8783c-c3da-4408-9c63-0a32773eebf4",
   "metadata": {},
   "source": [
    "## Data Cleaning\n",
    "\n",
    "Let's check if there is duplicated info"
   ]
  },
  {
   "cell_type": "markdown",
   "id": "8fe281e5-5332-420e-8e1e-0293c9839601",
   "metadata": {
    "tags": []
   },
   "source": [
    "### Remove Duplicate or Irrelevant Observations"
   ]
  },
  {
   "cell_type": "code",
   "execution_count": 13,
   "id": "d0d5fcda-725f-40e4-9f48-07246d13c653",
   "metadata": {},
   "outputs": [
    {
     "data": {
      "text/plain": [
       "0"
      ]
     },
     "execution_count": 13,
     "metadata": {},
     "output_type": "execute_result"
    }
   ],
   "source": [
    "df.duplicated().sum()"
   ]
  },
  {
   "cell_type": "markdown",
   "id": "50e350b7-3ea0-4897-b2ac-65f15afee5d6",
   "metadata": {},
   "source": [
    "<p style=\"color:green;\">There is not duplicated rows.</p>\n"
   ]
  },
  {
   "cell_type": "markdown",
   "id": "5fa23f15-eade-4836-843c-e26fc86b371d",
   "metadata": {
    "tags": []
   },
   "source": [
    "### Irrelevant Observations"
   ]
  },
  {
   "cell_type": "markdown",
   "id": "b3d87929-f349-4f93-aabf-3c24edb8f23a",
   "metadata": {},
   "source": [
    "Since the year in which store was established can be categorized as an irrelevant feature in the sales prediction and in this column there is missing information this column will be delete."
   ]
  },
  {
   "cell_type": "code",
   "execution_count": 4,
   "id": "0ec95e71-162a-433f-a893-7d81f2df8d41",
   "metadata": {},
   "outputs": [
    {
     "data": {
      "text/html": [
       "<div>\n",
       "<style scoped>\n",
       "    .dataframe tbody tr th:only-of-type {\n",
       "        vertical-align: middle;\n",
       "    }\n",
       "\n",
       "    .dataframe tbody tr th {\n",
       "        vertical-align: top;\n",
       "    }\n",
       "\n",
       "    .dataframe thead th {\n",
       "        text-align: right;\n",
       "    }\n",
       "</style>\n",
       "<table border=\"1\" class=\"dataframe\">\n",
       "  <thead>\n",
       "    <tr style=\"text-align: right;\">\n",
       "      <th></th>\n",
       "      <th>Item_Identifier</th>\n",
       "      <th>Item_Fat_Content</th>\n",
       "      <th>Item_Visibility</th>\n",
       "      <th>Item_Type</th>\n",
       "      <th>Item_MRP</th>\n",
       "      <th>Outlet_Identifier</th>\n",
       "      <th>Outlet_Size</th>\n",
       "      <th>Outlet_Location_Type</th>\n",
       "      <th>Outlet_Type</th>\n",
       "      <th>Item_Outlet_Sales</th>\n",
       "    </tr>\n",
       "  </thead>\n",
       "  <tbody>\n",
       "    <tr>\n",
       "      <th>0</th>\n",
       "      <td>FDA15</td>\n",
       "      <td>Low Fat</td>\n",
       "      <td>0.016047</td>\n",
       "      <td>Dairy</td>\n",
       "      <td>249.8092</td>\n",
       "      <td>OUT049</td>\n",
       "      <td>Medium</td>\n",
       "      <td>Tier 1</td>\n",
       "      <td>Supermarket Type1</td>\n",
       "      <td>3735.1380</td>\n",
       "    </tr>\n",
       "    <tr>\n",
       "      <th>1</th>\n",
       "      <td>DRC01</td>\n",
       "      <td>Regular</td>\n",
       "      <td>0.019278</td>\n",
       "      <td>Soft Drinks</td>\n",
       "      <td>48.2692</td>\n",
       "      <td>OUT018</td>\n",
       "      <td>Medium</td>\n",
       "      <td>Tier 3</td>\n",
       "      <td>Supermarket Type2</td>\n",
       "      <td>443.4228</td>\n",
       "    </tr>\n",
       "    <tr>\n",
       "      <th>2</th>\n",
       "      <td>FDN15</td>\n",
       "      <td>Low Fat</td>\n",
       "      <td>0.016760</td>\n",
       "      <td>Meat</td>\n",
       "      <td>141.6180</td>\n",
       "      <td>OUT049</td>\n",
       "      <td>Medium</td>\n",
       "      <td>Tier 1</td>\n",
       "      <td>Supermarket Type1</td>\n",
       "      <td>2097.2700</td>\n",
       "    </tr>\n",
       "    <tr>\n",
       "      <th>3</th>\n",
       "      <td>FDX07</td>\n",
       "      <td>Regular</td>\n",
       "      <td>0.000000</td>\n",
       "      <td>Fruits and Vegetables</td>\n",
       "      <td>182.0950</td>\n",
       "      <td>OUT010</td>\n",
       "      <td>NaN</td>\n",
       "      <td>Tier 3</td>\n",
       "      <td>Grocery Store</td>\n",
       "      <td>732.3800</td>\n",
       "    </tr>\n",
       "    <tr>\n",
       "      <th>4</th>\n",
       "      <td>NCD19</td>\n",
       "      <td>Low Fat</td>\n",
       "      <td>0.000000</td>\n",
       "      <td>Household</td>\n",
       "      <td>53.8614</td>\n",
       "      <td>OUT013</td>\n",
       "      <td>High</td>\n",
       "      <td>Tier 3</td>\n",
       "      <td>Supermarket Type1</td>\n",
       "      <td>994.7052</td>\n",
       "    </tr>\n",
       "  </tbody>\n",
       "</table>\n",
       "</div>"
      ],
      "text/plain": [
       "  Item_Identifier Item_Fat_Content  Item_Visibility              Item_Type  \\\n",
       "0           FDA15          Low Fat         0.016047                  Dairy   \n",
       "1           DRC01          Regular         0.019278            Soft Drinks   \n",
       "2           FDN15          Low Fat         0.016760                   Meat   \n",
       "3           FDX07          Regular         0.000000  Fruits and Vegetables   \n",
       "4           NCD19          Low Fat         0.000000              Household   \n",
       "\n",
       "   Item_MRP Outlet_Identifier Outlet_Size Outlet_Location_Type  \\\n",
       "0  249.8092            OUT049      Medium               Tier 1   \n",
       "1   48.2692            OUT018      Medium               Tier 3   \n",
       "2  141.6180            OUT049      Medium               Tier 1   \n",
       "3  182.0950            OUT010         NaN               Tier 3   \n",
       "4   53.8614            OUT013        High               Tier 3   \n",
       "\n",
       "         Outlet_Type  Item_Outlet_Sales  \n",
       "0  Supermarket Type1          3735.1380  \n",
       "1  Supermarket Type2           443.4228  \n",
       "2  Supermarket Type1          2097.2700  \n",
       "3      Grocery Store           732.3800  \n",
       "4  Supermarket Type1           994.7052  "
      ]
     },
     "execution_count": 4,
     "metadata": {},
     "output_type": "execute_result"
    }
   ],
   "source": [
    "df.drop(columns = [\"Item_Weight\",\"Outlet_Establishment_Year\"], inplace=True)\n",
    "df.head()"
   ]
  },
  {
   "cell_type": "code",
   "execution_count": 15,
   "id": "1e60e0ef-fabd-44c3-8f73-575bb439c676",
   "metadata": {},
   "outputs": [
    {
     "data": {
      "text/plain": [
       "1559"
      ]
     },
     "execution_count": 15,
     "metadata": {},
     "output_type": "execute_result"
    }
   ],
   "source": [
    "len(df[\"Item_Identifier\"].unique()) # this will give us the number of products. As was said the numbero of products os 1559a"
   ]
  },
  {
   "cell_type": "markdown",
   "id": "3f5662f3-81de-413a-afa8-f4cc1eedae4f",
   "metadata": {},
   "source": [
    "Missing values in the column \"Outlet_size\" will be covered in the next section. The rest of the columns do not seem to present categorical inconsistencies. "
   ]
  },
  {
   "cell_type": "markdown",
   "id": "134c16b3-679e-4395-811f-f36dc5d38de9",
   "metadata": {
    "tags": []
   },
   "source": [
    "### Fixing Structural Errors"
   ]
  },
  {
   "cell_type": "markdown",
   "id": "55351fed-8b6a-423a-9c56-29074a5e6e5e",
   "metadata": {
    "tags": []
   },
   "source": [
    "#### Type of Information in Each Column"
   ]
  },
  {
   "cell_type": "code",
   "execution_count": 46,
   "id": "4acc54f1-a609-4a75-9529-9a70f6c53fd3",
   "metadata": {},
   "outputs": [
    {
     "data": {
      "text/plain": [
       "Item_Identifier          object\n",
       "Item_Weight             float64\n",
       "Item_Fat_Content         object\n",
       "Item_Visibility         float64\n",
       "Item_Type                object\n",
       "Item_MRP                float64\n",
       "Outlet_Identifier        object\n",
       "Outlet_Size              object\n",
       "Outlet_Location_Type     object\n",
       "Outlet_Type              object\n",
       "Item_Outlet_Sales       float64\n",
       "dtype: object"
      ]
     },
     "execution_count": 46,
     "metadata": {},
     "output_type": "execute_result"
    }
   ],
   "source": [
    "df.dtypes"
   ]
  },
  {
   "cell_type": "markdown",
   "id": "9cf31989-b8d6-4947-addd-233edd91f902",
   "metadata": {
    "tags": []
   },
   "source": [
    "#### Checking Features\n",
    "Let's create a function to check the features in the dataset."
   ]
  },
  {
   "cell_type": "code",
   "execution_count": 5,
   "id": "e8291b82-fcf3-4cdc-8e84-fa652c07aeeb",
   "metadata": {},
   "outputs": [
    {
     "name": "stdout",
     "output_type": "stream",
     "text": [
      "\n",
      " max_Item_Visibility: 0.328390948 ----- min_Item_Visibility: 0.0\n",
      "\n",
      " max_Item_MRP: 266.8884 ----- min_Item_MRP: 31.29\n",
      "\n",
      " max_Item_Outlet_Sales: 13086.9648 ----- min_Item_Outlet_Sales: 33.29\n"
     ]
    }
   ],
   "source": [
    "num_features = make_column_selector(dtype_include=\"number\")(df) \n",
    "_ = df[num_features].apply(lambda x: print(\"\\n\",f\"max_{x.name}: {x.max()} ----- min_{x.name}: {x.min()}\"))"
   ]
  },
  {
   "cell_type": "code",
   "execution_count": 6,
   "id": "a399a6b9-ae07-416e-b3a3-f0710022f8af",
   "metadata": {},
   "outputs": [
    {
     "name": "stdout",
     "output_type": "stream",
     "text": [
      "\n",
      " Item_Identifier: ['FDA15' 'DRC01' 'FDN15' ... 'NCF55' 'NCW30' 'NCW05']\n",
      "\n",
      " Item_Fat_Content: ['Low Fat' 'Regular' 'low fat' 'LF' 'reg']\n",
      "\n",
      " Item_Type: ['Dairy' 'Soft Drinks' 'Meat' 'Fruits and Vegetables' 'Household'\n",
      " 'Baking Goods' 'Snack Foods' 'Frozen Foods' 'Breakfast'\n",
      " 'Health and Hygiene' 'Hard Drinks' 'Canned' 'Breads' 'Starchy Foods'\n",
      " 'Others' 'Seafood']\n",
      "\n",
      " Outlet_Identifier: ['OUT049' 'OUT018' 'OUT010' 'OUT013' 'OUT027' 'OUT045' 'OUT017' 'OUT046'\n",
      " 'OUT035' 'OUT019']\n",
      "\n",
      " Outlet_Size: ['Medium' nan 'High' 'Small']\n",
      "\n",
      " Outlet_Location_Type: ['Tier 1' 'Tier 3' 'Tier 2']\n",
      "\n",
      " Outlet_Type: ['Supermarket Type1' 'Supermarket Type2' 'Grocery Store'\n",
      " 'Supermarket Type3']\n"
     ]
    }
   ],
   "source": [
    "cat_features = make_column_selector(dtype_include=\"object\")(df)\n",
    "_ = df[cat_features].apply(lambda x: print(\"\\n\", f\"{x.name}: {x.unique()}\"))"
   ]
  },
  {
   "cell_type": "markdown",
   "id": "ce24b706-a06f-416a-8539-2e33237f6a85",
   "metadata": {
    "tags": []
   },
   "source": [
    "<div style=\"background-color:rgb(150,50,50); padding:10px;\">\n",
    "    <p>There are some irregularities in the Item_Fat_Content; it can be deduced that</p>\n",
    "    <ul>\n",
    "        <li>LF = Low Fat</li>\n",
    "        <li>low fat = Low Fat</li>\n",
    "        <li>reg = Regular</li>\n",
    "    </ul>\n",
    "</div>"
   ]
  },
  {
   "cell_type": "code",
   "execution_count": 7,
   "id": "e7fa15d1-5549-4965-8141-1c879c76a72b",
   "metadata": {},
   "outputs": [
    {
     "data": {
      "text/plain": [
       "array(['Low Fat', 'Regular'], dtype=object)"
      ]
     },
     "execution_count": 7,
     "metadata": {},
     "output_type": "execute_result"
    }
   ],
   "source": [
    "df[\"Item_Fat_Content\"].replace([\"LF\",\"reg\",\"low fat\"],[\"Low Fat\", \"Regular\",\"Low Fat\"], inplace=True)\n",
    "df[\"Item_Fat_Content\"].unique()"
   ]
  },
  {
   "cell_type": "markdown",
   "id": "3559b303-cb8b-4036-b324-ca78b88d059f",
   "metadata": {
    "tags": []
   },
   "source": [
    "### Identifying and Handling Missing Data\n",
    "As observed above, there are missing data in the columns Outlet_Size ans Item_Weight. Let's check the missing data in each column."
   ]
  },
  {
   "cell_type": "markdown",
   "id": "8bc98cd2-9d77-4934-91ea-3490c69a8b43",
   "metadata": {},
   "source": [
    "Lets see the characterize the column Item weight"
   ]
  },
  {
   "cell_type": "markdown",
   "id": "33f67529-e69e-4e8a-ae66-86c76e7e93a4",
   "metadata": {},
   "source": [
    "The products presents similar features so let's use the method imputer from sklearn to handle missing values, But first let's split the dataset into testing and training to avoid data leak."
   ]
  },
  {
   "cell_type": "code",
   "execution_count": 8,
   "id": "a61f2693-bd6f-43d0-bc16-b4156f50683b",
   "metadata": {},
   "outputs": [
    {
     "data": {
      "text/plain": [
       "(2410, 10)"
      ]
     },
     "execution_count": 8,
     "metadata": {},
     "output_type": "execute_result"
    }
   ],
   "source": [
    "df[df[\"Outlet_Size\"].isna()].shape"
   ]
  },
  {
   "cell_type": "markdown",
   "id": "36134d76-f637-41b7-88b7-6019304defc9",
   "metadata": {},
   "source": [
    "There are 2410 missing values in the \"Outlet Size\" columns. Since the outlet size can be considered as an important feature to take into account when doing predictions of sales it is a good idea group the information in order to find patterns that can be useful to make decisions about the missing information."
   ]
  },
  {
   "cell_type": "code",
   "execution_count": 56,
   "id": "0e1fd2ab-1659-4889-9dcf-71646c92586c",
   "metadata": {},
   "outputs": [
    {
     "data": {
      "text/plain": [
       "Outlet_Type        Outlet_Location_Type  Outlet_Identifier\n",
       "Grocery Store      Tier 1                OUT019                [Small]\n",
       "                   Tier 3                OUT010                  [nan]\n",
       "Supermarket Type1  Tier 1                OUT046                [Small]\n",
       "                                         OUT049               [Medium]\n",
       "                   Tier 2                OUT017                  [nan]\n",
       "                                         OUT035                [Small]\n",
       "                                         OUT045                  [nan]\n",
       "                   Tier 3                OUT013                 [High]\n",
       "Supermarket Type2  Tier 3                OUT018               [Medium]\n",
       "Supermarket Type3  Tier 3                OUT027               [Medium]\n",
       "Name: Outlet_Size, dtype: object"
      ]
     },
     "execution_count": 56,
     "metadata": {},
     "output_type": "execute_result"
    }
   ],
   "source": [
    "df.groupby([\"Outlet_Type\",\"Outlet_Location_Type\",\"Outlet_Identifier\"])[\"Outlet_Size\"].unique()"
   ]
  },
  {
   "cell_type": "markdown",
   "id": "2ccb1fc1-0f4b-488e-be29-6e0c6f2259ef",
   "metadata": {},
   "source": [
    "Having seen the structure of the information in the column 'outlet size', it is no possible to determine to which category belong the rows with missing values, so a new category in the outlet size feature will be created and the missing data will be replace by the label \"Missing\".\n",
    "\n",
    "<p style=\"color:green;\">Note that yet we modify the whole dataset there is no a data leak since we don't use any estimator </p>"
   ]
  },
  {
   "cell_type": "code",
   "execution_count": 9,
   "id": "ff4a5e0a-36d4-4a9a-9b72-32844acab30d",
   "metadata": {},
   "outputs": [
    {
     "data": {
      "text/plain": [
       "0"
      ]
     },
     "execution_count": 9,
     "metadata": {},
     "output_type": "execute_result"
    }
   ],
   "source": [
    "df[\"Outlet_Size\"] = df[\"Outlet_Size\"].fillna(\"Missing\")\n",
    "df[\"Outlet_Size\"].isna().sum()"
   ]
  },
  {
   "cell_type": "code",
   "execution_count": 69,
   "id": "74972611-90b2-4760-a463-7384829d046c",
   "metadata": {},
   "outputs": [],
   "source": [
    "X_train.replace()\n",
    "median_imputer = SimpleImputer(strategy='mean')\n",
    "median_imputer.fit(X_train[[\"Item_Weight\"]])\n",
    "X_train[\"Item_Weight\"] = median_imputer.transform(X_train[[\"Item_Weight\"]])"
   ]
  },
  {
   "cell_type": "code",
   "execution_count": 74,
   "id": "b7459aea-d41f-4c93-9977-7b47dd923c66",
   "metadata": {},
   "outputs": [
    {
     "data": {
      "text/plain": [
       "0"
      ]
     },
     "execution_count": 74,
     "metadata": {},
     "output_type": "execute_result"
    }
   ],
   "source": [
    "X_train[\"Item_Weight\"].isna().sum()"
   ]
  },
  {
   "cell_type": "code",
   "execution_count": 75,
   "id": "ebe56dfc-4237-4cd1-b627-915e467892bb",
   "metadata": {},
   "outputs": [
    {
     "data": {
      "text/html": [
       "<div>\n",
       "<style scoped>\n",
       "    .dataframe tbody tr th:only-of-type {\n",
       "        vertical-align: middle;\n",
       "    }\n",
       "\n",
       "    .dataframe tbody tr th {\n",
       "        vertical-align: top;\n",
       "    }\n",
       "\n",
       "    .dataframe thead tr th {\n",
       "        text-align: left;\n",
       "    }\n",
       "\n",
       "    .dataframe thead tr:last-of-type th {\n",
       "        text-align: right;\n",
       "    }\n",
       "</style>\n",
       "<table border=\"1\" class=\"dataframe\">\n",
       "  <thead>\n",
       "    <tr>\n",
       "      <th></th>\n",
       "      <th colspan=\"3\" halign=\"left\">Item_Weight</th>\n",
       "    </tr>\n",
       "    <tr>\n",
       "      <th></th>\n",
       "      <th>min</th>\n",
       "      <th>max</th>\n",
       "      <th>mean</th>\n",
       "    </tr>\n",
       "    <tr>\n",
       "      <th>Item_Type</th>\n",
       "      <th></th>\n",
       "      <th></th>\n",
       "      <th></th>\n",
       "    </tr>\n",
       "  </thead>\n",
       "  <tbody>\n",
       "    <tr>\n",
       "      <th>Baking Goods</th>\n",
       "      <td>4.880</td>\n",
       "      <td>20.85</td>\n",
       "      <td>12.548598</td>\n",
       "    </tr>\n",
       "    <tr>\n",
       "      <th>Breads</th>\n",
       "      <td>4.635</td>\n",
       "      <td>20.85</td>\n",
       "      <td>11.754047</td>\n",
       "    </tr>\n",
       "    <tr>\n",
       "      <th>Breakfast</th>\n",
       "      <td>6.425</td>\n",
       "      <td>21.10</td>\n",
       "      <td>12.839844</td>\n",
       "    </tr>\n",
       "    <tr>\n",
       "      <th>Canned</th>\n",
       "      <td>4.615</td>\n",
       "      <td>21.35</td>\n",
       "      <td>12.555931</td>\n",
       "    </tr>\n",
       "    <tr>\n",
       "      <th>Dairy</th>\n",
       "      <td>4.805</td>\n",
       "      <td>20.70</td>\n",
       "      <td>13.367924</td>\n",
       "    </tr>\n",
       "    <tr>\n",
       "      <th>Frozen Foods</th>\n",
       "      <td>4.555</td>\n",
       "      <td>20.85</td>\n",
       "      <td>12.848406</td>\n",
       "    </tr>\n",
       "    <tr>\n",
       "      <th>Fruits and Vegetables</th>\n",
       "      <td>5.460</td>\n",
       "      <td>21.35</td>\n",
       "      <td>13.060665</td>\n",
       "    </tr>\n",
       "    <tr>\n",
       "      <th>Hard Drinks</th>\n",
       "      <td>4.610</td>\n",
       "      <td>19.70</td>\n",
       "      <td>11.768003</td>\n",
       "    </tr>\n",
       "    <tr>\n",
       "      <th>Health and Hygiene</th>\n",
       "      <td>5.175</td>\n",
       "      <td>21.25</td>\n",
       "      <td>13.039031</td>\n",
       "    </tr>\n",
       "    <tr>\n",
       "      <th>Household</th>\n",
       "      <td>5.030</td>\n",
       "      <td>21.25</td>\n",
       "      <td>13.400862</td>\n",
       "    </tr>\n",
       "    <tr>\n",
       "      <th>Meat</th>\n",
       "      <td>5.150</td>\n",
       "      <td>21.25</td>\n",
       "      <td>13.225468</td>\n",
       "    </tr>\n",
       "    <tr>\n",
       "      <th>Others</th>\n",
       "      <td>5.500</td>\n",
       "      <td>20.50</td>\n",
       "      <td>13.713712</td>\n",
       "    </tr>\n",
       "    <tr>\n",
       "      <th>Seafood</th>\n",
       "      <td>5.365</td>\n",
       "      <td>20.75</td>\n",
       "      <td>12.414791</td>\n",
       "    </tr>\n",
       "    <tr>\n",
       "      <th>Snack Foods</th>\n",
       "      <td>5.095</td>\n",
       "      <td>21.25</td>\n",
       "      <td>12.941721</td>\n",
       "    </tr>\n",
       "    <tr>\n",
       "      <th>Soft Drinks</th>\n",
       "      <td>4.590</td>\n",
       "      <td>20.75</td>\n",
       "      <td>11.965412</td>\n",
       "    </tr>\n",
       "    <tr>\n",
       "      <th>Starchy Foods</th>\n",
       "      <td>6.695</td>\n",
       "      <td>21.20</td>\n",
       "      <td>13.616864</td>\n",
       "    </tr>\n",
       "  </tbody>\n",
       "</table>\n",
       "</div>"
      ],
      "text/plain": [
       "                      Item_Weight                  \n",
       "                              min    max       mean\n",
       "Item_Type                                          \n",
       "Baking Goods                4.880  20.85  12.548598\n",
       "Breads                      4.635  20.85  11.754047\n",
       "Breakfast                   6.425  21.10  12.839844\n",
       "Canned                      4.615  21.35  12.555931\n",
       "Dairy                       4.805  20.70  13.367924\n",
       "Frozen Foods                4.555  20.85  12.848406\n",
       "Fruits and Vegetables       5.460  21.35  13.060665\n",
       "Hard Drinks                 4.610  19.70  11.768003\n",
       "Health and Hygiene          5.175  21.25  13.039031\n",
       "Household                   5.030  21.25  13.400862\n",
       "Meat                        5.150  21.25  13.225468\n",
       "Others                      5.500  20.50  13.713712\n",
       "Seafood                     5.365  20.75  12.414791\n",
       "Snack Foods                 5.095  21.25  12.941721\n",
       "Soft Drinks                 4.590  20.75  11.965412\n",
       "Starchy Foods               6.695  21.20  13.616864"
      ]
     },
     "execution_count": 75,
     "metadata": {},
     "output_type": "execute_result"
    }
   ],
   "source": [
    "X_train.groupby(\"Item_Type\").agg({\"Item_Weight\":[\"min\", \"max\", \"mean\"]})"
   ]
  },
  {
   "cell_type": "markdown",
   "id": "969a2b66-e3a2-410a-8a74-5d1d36cf39cc",
   "metadata": {
    "tags": []
   },
   "source": [
    "### Dataset Validation"
   ]
  },
  {
   "cell_type": "code",
   "execution_count": 13,
   "id": "aa5a4fd6-19c6-45d3-8f65-d57d5e459b36",
   "metadata": {},
   "outputs": [
    {
     "name": "stdout",
     "output_type": "stream",
     "text": [
      "<class 'pandas.core.frame.DataFrame'>\n",
      "RangeIndex: 8523 entries, 0 to 8522\n",
      "Data columns (total 10 columns):\n",
      " #   Column                Non-Null Count  Dtype  \n",
      "---  ------                --------------  -----  \n",
      " 0   Item_Identifier       8523 non-null   object \n",
      " 1   Item_Fat_Content      8523 non-null   object \n",
      " 2   Item_Visibility       8523 non-null   float64\n",
      " 3   Item_Type             8523 non-null   object \n",
      " 4   Item_MRP              8523 non-null   float64\n",
      " 5   Outlet_Identifier     8523 non-null   object \n",
      " 6   Outlet_Size           8523 non-null   object \n",
      " 7   Outlet_Location_Type  8523 non-null   object \n",
      " 8   Outlet_Type           8523 non-null   object \n",
      " 9   Item_Outlet_Sales     8523 non-null   float64\n",
      "dtypes: float64(3), object(7)\n",
      "memory usage: 666.0+ KB\n"
     ]
    }
   ],
   "source": [
    "df.info()"
   ]
  },
  {
   "cell_type": "markdown",
   "id": "606a76cf-750a-4bf6-a912-c6c61514e34a",
   "metadata": {},
   "source": [
    "The information is consistent and there is no missing information."
   ]
  },
  {
   "cell_type": "raw",
   "id": "43143481-ddae-4c69-ba04-8d353dce9ceb",
   "metadata": {
    "tags": []
   },
   "source": [
    "df = df.sort_values([\"Outlet_Location_Type\",\"Outlet_Type\",\"Outlet_Identifier\",\"Item_Identifier\"])\n",
    "df.head()"
   ]
  },
  {
   "cell_type": "raw",
   "id": "eb7fb4db-66fc-4765-855b-f8681f1e0395",
   "metadata": {
    "tags": []
   },
   "source": [
    "df_indexed = df.set_index([\"Outlet_Location_Type\",\"Outlet_Type\",\"Outlet_Identifier\",\"Item_Identifier\"])\n",
    "df_indexed"
   ]
  },
  {
   "cell_type": "markdown",
   "id": "3b0b1bc6-5de8-473c-aa58-5b79f35ccbe0",
   "metadata": {},
   "source": [
    "Let's generate a csv file to save the cleaning information"
   ]
  },
  {
   "cell_type": "code",
   "execution_count": 14,
   "id": "b07c3998-aa91-4b11-8467-cdb004a8edad",
   "metadata": {},
   "outputs": [],
   "source": [
    "df.to_csv(path_or_buf=\"../data/cleaned/dataset_cleaned.csv\", index=False )"
   ]
  }
 ],
 "metadata": {
  "kernelspec": {
   "display_name": "Python 3 (ipykernel)",
   "language": "python",
   "name": "python3"
  },
  "language_info": {
   "codemirror_mode": {
    "name": "ipython",
    "version": 3
   },
   "file_extension": ".py",
   "mimetype": "text/x-python",
   "name": "python",
   "nbconvert_exporter": "python",
   "pygments_lexer": "ipython3",
   "version": "3.10.4"
  }
 },
 "nbformat": 4,
 "nbformat_minor": 5
}
