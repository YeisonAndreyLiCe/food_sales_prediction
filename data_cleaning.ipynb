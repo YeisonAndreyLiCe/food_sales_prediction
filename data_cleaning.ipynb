{
 "cells": [
  {
   "cell_type": "markdown",
   "id": "b02a2618-0caf-49ab-980e-d66df478abd5",
   "metadata": {},
   "source": [
    "# Food Sales Prediction Project\n",
    "<p>\n",
    "    The information use in this project corresponds to 2013 sales of <strong>1559</strong> products and was collected by data scientist at BigMart across 10 stores in different cities. Some features of each product have been defined. \n",
    "    In order to help to the retailer to understand the product properties and the outlets that play a crucial role in the sales, <strong>this project aims to predict the sales of food products in each outlet, it will try to understand the properties of products and outlets which play a key role in increasing sales.</strong>\n",
    "</p>\n",
    "<p><a href=\"https://datahack.analyticsvidhya.com/contest/practice-problem-big-mart-sales-iii/#ProblemStatement\" target:\"_blank\">source: <i>Analytics Vidhya 2013-2022</i></a></p>\n",
    "<table>\n",
    "    <tbody>\n",
    "        <tr>\n",
    "            <td>Variable</td>\n",
    "            <td >Description</td>\n",
    "        </tr>\n",
    "        <tr>\n",
    "            <td >Item_Identifier</td>\n",
    "            <td >Unique product ID</td>\n",
    "        </tr>\n",
    "        <tr>\n",
    "            <td>Item_Weight</td>\n",
    "            <td >Weight of product</td>\n",
    "        </tr>\n",
    "        <tr>\n",
    "            <td>Item_Fat_Content</td>\n",
    "            <td>Whether the product is low fat or not</td>\n",
    "        </tr>\n",
    "        <tr>\n",
    "            <td>Item_Visibility</td>\n",
    "            <td>The % of total display area of all products in a store allocated to the particular product</td>\n",
    "        </tr>\n",
    "        <tr>\n",
    "            <td>Item_Type</td>\n",
    "            <td>The category to which the product belongs</td>\n",
    "        </tr>\n",
    "        <tr>\n",
    "            <td>Item_MRP</td>\n",
    "            <td>Maximum Retail Price (list price) of the product</td>\n",
    "        </tr>\n",
    "        <tr>\n",
    "            <td>Outlet_Identifier</td>\n",
    "            <td>Unique store ID</td>\n",
    "        </tr>\n",
    "        <tr>\n",
    "            <td>Outlet_Establishment_Year</td>\n",
    "            <td>The year in which store was established</td>\n",
    "        </tr>\n",
    "        <tr>\n",
    "            <td>Outlet_Size</td>\n",
    "            <td>The size of the store in terms of ground area covered</td>\n",
    "        </tr>\n",
    "        <tr>\n",
    "            <td>Outlet_Location_Type</td>\n",
    "            <td>The type of city in which the store is located</td>\n",
    "        </tr>\n",
    "        <tr>\n",
    "            <td>Outlet_Type</td>\n",
    "            <td>Whether the outlet is just a grocery store or some sort of supermarket</td>\n",
    "        </tr>\n",
    "    </tbody>\n",
    "</table>"
   ]
  },
  {
   "cell_type": "code",
   "execution_count": 1,
   "id": "de8e7653-505b-4104-8cba-bdafaaaea296",
   "metadata": {},
   "outputs": [],
   "source": [
    "import numpy as np\n",
    "import pandas as pd"
   ]
  },
  {
   "cell_type": "markdown",
   "id": "4ac4d49b-c9c2-43f4-b2bc-c4a613494c83",
   "metadata": {},
   "source": [
    "## Charging Information"
   ]
  },
  {
   "cell_type": "code",
   "execution_count": 2,
   "id": "9d0dc0c2-7d73-4cb8-8103-47540d47dc28",
   "metadata": {},
   "outputs": [
    {
     "data": {
      "text/html": [
       "<div>\n",
       "<style scoped>\n",
       "    .dataframe tbody tr th:only-of-type {\n",
       "        vertical-align: middle;\n",
       "    }\n",
       "\n",
       "    .dataframe tbody tr th {\n",
       "        vertical-align: top;\n",
       "    }\n",
       "\n",
       "    .dataframe thead th {\n",
       "        text-align: right;\n",
       "    }\n",
       "</style>\n",
       "<table border=\"1\" class=\"dataframe\">\n",
       "  <thead>\n",
       "    <tr style=\"text-align: right;\">\n",
       "      <th></th>\n",
       "      <th>Item_Identifier</th>\n",
       "      <th>Item_Weight</th>\n",
       "      <th>Item_Fat_Content</th>\n",
       "      <th>Item_Visibility</th>\n",
       "      <th>Item_Type</th>\n",
       "      <th>Item_MRP</th>\n",
       "      <th>Outlet_Identifier</th>\n",
       "      <th>Outlet_Establishment_Year</th>\n",
       "      <th>Outlet_Size</th>\n",
       "      <th>Outlet_Location_Type</th>\n",
       "      <th>Outlet_Type</th>\n",
       "      <th>Item_Outlet_Sales</th>\n",
       "    </tr>\n",
       "  </thead>\n",
       "  <tbody>\n",
       "    <tr>\n",
       "      <th>0</th>\n",
       "      <td>FDA15</td>\n",
       "      <td>9.30</td>\n",
       "      <td>Low Fat</td>\n",
       "      <td>0.016047</td>\n",
       "      <td>Dairy</td>\n",
       "      <td>249.8092</td>\n",
       "      <td>OUT049</td>\n",
       "      <td>1999</td>\n",
       "      <td>Medium</td>\n",
       "      <td>Tier 1</td>\n",
       "      <td>Supermarket Type1</td>\n",
       "      <td>3735.1380</td>\n",
       "    </tr>\n",
       "    <tr>\n",
       "      <th>1</th>\n",
       "      <td>DRC01</td>\n",
       "      <td>5.92</td>\n",
       "      <td>Regular</td>\n",
       "      <td>0.019278</td>\n",
       "      <td>Soft Drinks</td>\n",
       "      <td>48.2692</td>\n",
       "      <td>OUT018</td>\n",
       "      <td>2009</td>\n",
       "      <td>Medium</td>\n",
       "      <td>Tier 3</td>\n",
       "      <td>Supermarket Type2</td>\n",
       "      <td>443.4228</td>\n",
       "    </tr>\n",
       "    <tr>\n",
       "      <th>2</th>\n",
       "      <td>FDN15</td>\n",
       "      <td>17.50</td>\n",
       "      <td>Low Fat</td>\n",
       "      <td>0.016760</td>\n",
       "      <td>Meat</td>\n",
       "      <td>141.6180</td>\n",
       "      <td>OUT049</td>\n",
       "      <td>1999</td>\n",
       "      <td>Medium</td>\n",
       "      <td>Tier 1</td>\n",
       "      <td>Supermarket Type1</td>\n",
       "      <td>2097.2700</td>\n",
       "    </tr>\n",
       "    <tr>\n",
       "      <th>3</th>\n",
       "      <td>FDX07</td>\n",
       "      <td>19.20</td>\n",
       "      <td>Regular</td>\n",
       "      <td>0.000000</td>\n",
       "      <td>Fruits and Vegetables</td>\n",
       "      <td>182.0950</td>\n",
       "      <td>OUT010</td>\n",
       "      <td>1998</td>\n",
       "      <td>NaN</td>\n",
       "      <td>Tier 3</td>\n",
       "      <td>Grocery Store</td>\n",
       "      <td>732.3800</td>\n",
       "    </tr>\n",
       "    <tr>\n",
       "      <th>4</th>\n",
       "      <td>NCD19</td>\n",
       "      <td>8.93</td>\n",
       "      <td>Low Fat</td>\n",
       "      <td>0.000000</td>\n",
       "      <td>Household</td>\n",
       "      <td>53.8614</td>\n",
       "      <td>OUT013</td>\n",
       "      <td>1987</td>\n",
       "      <td>High</td>\n",
       "      <td>Tier 3</td>\n",
       "      <td>Supermarket Type1</td>\n",
       "      <td>994.7052</td>\n",
       "    </tr>\n",
       "  </tbody>\n",
       "</table>\n",
       "</div>"
      ],
      "text/plain": [
       "  Item_Identifier  Item_Weight Item_Fat_Content  Item_Visibility  \\\n",
       "0           FDA15         9.30          Low Fat         0.016047   \n",
       "1           DRC01         5.92          Regular         0.019278   \n",
       "2           FDN15        17.50          Low Fat         0.016760   \n",
       "3           FDX07        19.20          Regular         0.000000   \n",
       "4           NCD19         8.93          Low Fat         0.000000   \n",
       "\n",
       "               Item_Type  Item_MRP Outlet_Identifier  \\\n",
       "0                  Dairy  249.8092            OUT049   \n",
       "1            Soft Drinks   48.2692            OUT018   \n",
       "2                   Meat  141.6180            OUT049   \n",
       "3  Fruits and Vegetables  182.0950            OUT010   \n",
       "4              Household   53.8614            OUT013   \n",
       "\n",
       "   Outlet_Establishment_Year Outlet_Size Outlet_Location_Type  \\\n",
       "0                       1999      Medium               Tier 1   \n",
       "1                       2009      Medium               Tier 3   \n",
       "2                       1999      Medium               Tier 1   \n",
       "3                       1998         NaN               Tier 3   \n",
       "4                       1987        High               Tier 3   \n",
       "\n",
       "         Outlet_Type  Item_Outlet_Sales  \n",
       "0  Supermarket Type1          3735.1380  \n",
       "1  Supermarket Type2           443.4228  \n",
       "2  Supermarket Type1          2097.2700  \n",
       "3      Grocery Store           732.3800  \n",
       "4  Supermarket Type1           994.7052  "
      ]
     },
     "execution_count": 2,
     "metadata": {},
     "output_type": "execute_result"
    }
   ],
   "source": [
    "df = pd.read_csv(\"sales_predictions.csv\")\n",
    "df.head()"
   ]
  },
  {
   "cell_type": "markdown",
   "id": "0cb23bfb-8911-4bc8-ba25-63b2cab1a029",
   "metadata": {
    "tags": []
   },
   "source": [
    "## Characterizing DataFrame"
   ]
  },
  {
   "cell_type": "code",
   "execution_count": 4,
   "id": "4fcc390c-6d82-408a-aa52-890d3838f566",
   "metadata": {},
   "outputs": [
    {
     "data": {
      "text/plain": [
       "(8523, 12)"
      ]
     },
     "execution_count": 4,
     "metadata": {},
     "output_type": "execute_result"
    }
   ],
   "source": [
    "df.shape"
   ]
  },
  {
   "cell_type": "code",
   "execution_count": 5,
   "id": "d12b26a1-ae00-4fb0-9eb4-d68439caf2f8",
   "metadata": {},
   "outputs": [
    {
     "name": "stdout",
     "output_type": "stream",
     "text": [
      "<class 'pandas.core.frame.DataFrame'>\n",
      "RangeIndex: 8523 entries, 0 to 8522\n",
      "Data columns (total 12 columns):\n",
      " #   Column                     Non-Null Count  Dtype  \n",
      "---  ------                     --------------  -----  \n",
      " 0   Item_Identifier            8523 non-null   object \n",
      " 1   Item_Weight                7060 non-null   float64\n",
      " 2   Item_Fat_Content           8523 non-null   object \n",
      " 3   Item_Visibility            8523 non-null   float64\n",
      " 4   Item_Type                  8523 non-null   object \n",
      " 5   Item_MRP                   8523 non-null   float64\n",
      " 6   Outlet_Identifier          8523 non-null   object \n",
      " 7   Outlet_Establishment_Year  8523 non-null   int64  \n",
      " 8   Outlet_Size                6113 non-null   object \n",
      " 9   Outlet_Location_Type       8523 non-null   object \n",
      " 10  Outlet_Type                8523 non-null   object \n",
      " 11  Item_Outlet_Sales          8523 non-null   float64\n",
      "dtypes: float64(4), int64(1), object(7)\n",
      "memory usage: 799.2+ KB\n"
     ]
    }
   ],
   "source": [
    "df.info()"
   ]
  },
  {
   "cell_type": "markdown",
   "id": "ec222f58-6026-4205-bc93-e418277bc742",
   "metadata": {},
   "source": [
    "Observations: \n",
    "- There is consistency in the type of data in each column\n",
    "- <p style=\"color:rgb(150,0,0);\">There are missing data in the columns: Item_Weight - 1463 missing values, and Outlet_Size - 2410 missing values.</p>"
   ]
  },
  {
   "cell_type": "markdown",
   "id": "e6e8783c-c3da-4408-9c63-0a32773eebf4",
   "metadata": {},
   "source": [
    "## Data Cleaning\n",
    "\n",
    "Let's check if there is duplicated info"
   ]
  },
  {
   "cell_type": "markdown",
   "id": "8fe281e5-5332-420e-8e1e-0293c9839601",
   "metadata": {
    "tags": []
   },
   "source": [
    "### Remove Duplicate or Irrelevant Observations"
   ]
  },
  {
   "cell_type": "code",
   "execution_count": 6,
   "id": "d0d5fcda-725f-40e4-9f48-07246d13c653",
   "metadata": {},
   "outputs": [
    {
     "data": {
      "text/plain": [
       "0"
      ]
     },
     "execution_count": 6,
     "metadata": {},
     "output_type": "execute_result"
    }
   ],
   "source": [
    "df.duplicated().sum()"
   ]
  },
  {
   "cell_type": "markdown",
   "id": "50e350b7-3ea0-4897-b2ac-65f15afee5d6",
   "metadata": {},
   "source": [
    "<p style=\"color:green;\">There is not duplicated rows.</p>\n"
   ]
  },
  {
   "cell_type": "markdown",
   "id": "5fa23f15-eade-4836-843c-e26fc86b371d",
   "metadata": {
    "tags": []
   },
   "source": [
    "### Irrelevant Observations"
   ]
  },
  {
   "cell_type": "markdown",
   "id": "b3d87929-f349-4f93-aabf-3c24edb8f23a",
   "metadata": {},
   "source": [
    "Since item weight can be categorized as an irrelevant feature in the sales prediction and in this column there is missing information this column will be delete. Another irrelevant columns to this analysis is the year in which store was established, so this column will also be removed."
   ]
  },
  {
   "cell_type": "code",
   "execution_count": 7,
   "id": "0ec95e71-162a-433f-a893-7d81f2df8d41",
   "metadata": {},
   "outputs": [
    {
     "data": {
      "text/html": [
       "<div>\n",
       "<style scoped>\n",
       "    .dataframe tbody tr th:only-of-type {\n",
       "        vertical-align: middle;\n",
       "    }\n",
       "\n",
       "    .dataframe tbody tr th {\n",
       "        vertical-align: top;\n",
       "    }\n",
       "\n",
       "    .dataframe thead th {\n",
       "        text-align: right;\n",
       "    }\n",
       "</style>\n",
       "<table border=\"1\" class=\"dataframe\">\n",
       "  <thead>\n",
       "    <tr style=\"text-align: right;\">\n",
       "      <th></th>\n",
       "      <th>Item_Identifier</th>\n",
       "      <th>Item_Fat_Content</th>\n",
       "      <th>Item_Visibility</th>\n",
       "      <th>Item_Type</th>\n",
       "      <th>Item_MRP</th>\n",
       "      <th>Outlet_Identifier</th>\n",
       "      <th>Outlet_Size</th>\n",
       "      <th>Outlet_Location_Type</th>\n",
       "      <th>Outlet_Type</th>\n",
       "      <th>Item_Outlet_Sales</th>\n",
       "    </tr>\n",
       "  </thead>\n",
       "  <tbody>\n",
       "    <tr>\n",
       "      <th>0</th>\n",
       "      <td>FDA15</td>\n",
       "      <td>Low Fat</td>\n",
       "      <td>0.016047</td>\n",
       "      <td>Dairy</td>\n",
       "      <td>249.8092</td>\n",
       "      <td>OUT049</td>\n",
       "      <td>Medium</td>\n",
       "      <td>Tier 1</td>\n",
       "      <td>Supermarket Type1</td>\n",
       "      <td>3735.1380</td>\n",
       "    </tr>\n",
       "    <tr>\n",
       "      <th>1</th>\n",
       "      <td>DRC01</td>\n",
       "      <td>Regular</td>\n",
       "      <td>0.019278</td>\n",
       "      <td>Soft Drinks</td>\n",
       "      <td>48.2692</td>\n",
       "      <td>OUT018</td>\n",
       "      <td>Medium</td>\n",
       "      <td>Tier 3</td>\n",
       "      <td>Supermarket Type2</td>\n",
       "      <td>443.4228</td>\n",
       "    </tr>\n",
       "    <tr>\n",
       "      <th>2</th>\n",
       "      <td>FDN15</td>\n",
       "      <td>Low Fat</td>\n",
       "      <td>0.016760</td>\n",
       "      <td>Meat</td>\n",
       "      <td>141.6180</td>\n",
       "      <td>OUT049</td>\n",
       "      <td>Medium</td>\n",
       "      <td>Tier 1</td>\n",
       "      <td>Supermarket Type1</td>\n",
       "      <td>2097.2700</td>\n",
       "    </tr>\n",
       "    <tr>\n",
       "      <th>3</th>\n",
       "      <td>FDX07</td>\n",
       "      <td>Regular</td>\n",
       "      <td>0.000000</td>\n",
       "      <td>Fruits and Vegetables</td>\n",
       "      <td>182.0950</td>\n",
       "      <td>OUT010</td>\n",
       "      <td>NaN</td>\n",
       "      <td>Tier 3</td>\n",
       "      <td>Grocery Store</td>\n",
       "      <td>732.3800</td>\n",
       "    </tr>\n",
       "    <tr>\n",
       "      <th>4</th>\n",
       "      <td>NCD19</td>\n",
       "      <td>Low Fat</td>\n",
       "      <td>0.000000</td>\n",
       "      <td>Household</td>\n",
       "      <td>53.8614</td>\n",
       "      <td>OUT013</td>\n",
       "      <td>High</td>\n",
       "      <td>Tier 3</td>\n",
       "      <td>Supermarket Type1</td>\n",
       "      <td>994.7052</td>\n",
       "    </tr>\n",
       "  </tbody>\n",
       "</table>\n",
       "</div>"
      ],
      "text/plain": [
       "  Item_Identifier Item_Fat_Content  Item_Visibility              Item_Type  \\\n",
       "0           FDA15          Low Fat         0.016047                  Dairy   \n",
       "1           DRC01          Regular         0.019278            Soft Drinks   \n",
       "2           FDN15          Low Fat         0.016760                   Meat   \n",
       "3           FDX07          Regular         0.000000  Fruits and Vegetables   \n",
       "4           NCD19          Low Fat         0.000000              Household   \n",
       "\n",
       "   Item_MRP Outlet_Identifier Outlet_Size Outlet_Location_Type  \\\n",
       "0  249.8092            OUT049      Medium               Tier 1   \n",
       "1   48.2692            OUT018      Medium               Tier 3   \n",
       "2  141.6180            OUT049      Medium               Tier 1   \n",
       "3  182.0950            OUT010         NaN               Tier 3   \n",
       "4   53.8614            OUT013        High               Tier 3   \n",
       "\n",
       "         Outlet_Type  Item_Outlet_Sales  \n",
       "0  Supermarket Type1          3735.1380  \n",
       "1  Supermarket Type2           443.4228  \n",
       "2  Supermarket Type1          2097.2700  \n",
       "3      Grocery Store           732.3800  \n",
       "4  Supermarket Type1           994.7052  "
      ]
     },
     "execution_count": 7,
     "metadata": {},
     "output_type": "execute_result"
    }
   ],
   "source": [
    "df.drop(columns = [\"Item_Weight\", \"Outlet_Establishment_Year\"], inplace=True)\n",
    "df.head()"
   ]
  },
  {
   "cell_type": "code",
   "execution_count": 8,
   "id": "1e60e0ef-fabd-44c3-8f73-575bb439c676",
   "metadata": {},
   "outputs": [
    {
     "data": {
      "text/plain": [
       "1559"
      ]
     },
     "execution_count": 8,
     "metadata": {},
     "output_type": "execute_result"
    }
   ],
   "source": [
    "len(df[\"Item_Identifier\"].unique()) # this will give us the number of products. As was said the numbero of products os 1559a"
   ]
  },
  {
   "cell_type": "markdown",
   "id": "3f5662f3-81de-413a-afa8-f4cc1eedae4f",
   "metadata": {},
   "source": [
    "Missing values in the column \"Outlet_size\" will be covered in the next section. The rest of the columns do not seem to present categorical inconsistencies. "
   ]
  },
  {
   "cell_type": "markdown",
   "id": "134c16b3-679e-4395-811f-f36dc5d38de9",
   "metadata": {
    "tags": []
   },
   "source": [
    "### Fixing Structural Errors"
   ]
  },
  {
   "cell_type": "markdown",
   "id": "55351fed-8b6a-423a-9c56-29074a5e6e5e",
   "metadata": {
    "tags": []
   },
   "source": [
    "#### Type of Information in Each Column"
   ]
  },
  {
   "cell_type": "code",
   "execution_count": 9,
   "id": "4acc54f1-a609-4a75-9529-9a70f6c53fd3",
   "metadata": {},
   "outputs": [
    {
     "data": {
      "text/plain": [
       "Item_Identifier          object\n",
       "Item_Fat_Content         object\n",
       "Item_Visibility         float64\n",
       "Item_Type                object\n",
       "Item_MRP                float64\n",
       "Outlet_Identifier        object\n",
       "Outlet_Size              object\n",
       "Outlet_Location_Type     object\n",
       "Outlet_Type              object\n",
       "Item_Outlet_Sales       float64\n",
       "dtype: object"
      ]
     },
     "execution_count": 9,
     "metadata": {},
     "output_type": "execute_result"
    }
   ],
   "source": [
    "df.dtypes"
   ]
  },
  {
   "cell_type": "markdown",
   "id": "9cf31989-b8d6-4947-addd-233edd91f902",
   "metadata": {},
   "source": [
    "#### Checking Features\n",
    "Let's create a function to check the features in the dataset."
   ]
  },
  {
   "cell_type": "code",
   "execution_count": 10,
   "id": "e8291b82-fcf3-4cdc-8e84-fa652c07aeeb",
   "metadata": {},
   "outputs": [
    {
     "name": "stdout",
     "output_type": "stream",
     "text": [
      "\n",
      " max_Item_Visibility: 0.328390948 ----- min_Item_Visibility: 0.0\n",
      "\n",
      " max_Item_MRP: 266.8884 ----- min_Item_MRP: 31.29\n",
      "\n",
      " max_Item_Outlet_Sales: 13086.9648 ----- min_Item_Outlet_Sales: 33.29\n"
     ]
    }
   ],
   "source": [
    "num_features = make_column_selector(dtype_include=\"number\")(df) \n",
    "_ = df[num_features].apply(lambda x: print(\"\\n\",f\"max_{x.name}: {x.max()} ----- min_{x.name}: {x.min()}\"))"
   ]
  },
  {
   "cell_type": "code",
   "execution_count": 11,
   "id": "a399a6b9-ae07-416e-b3a3-f0710022f8af",
   "metadata": {},
   "outputs": [
    {
     "name": "stdout",
     "output_type": "stream",
     "text": [
      "\n",
      " Item_Identifier: ['FDA15' 'DRC01' 'FDN15' ... 'NCF55' 'NCW30' 'NCW05']\n",
      "\n",
      " Item_Fat_Content: ['Low Fat' 'Regular' 'low fat' 'LF' 'reg']\n",
      "\n",
      " Item_Type: ['Dairy' 'Soft Drinks' 'Meat' 'Fruits and Vegetables' 'Household'\n",
      " 'Baking Goods' 'Snack Foods' 'Frozen Foods' 'Breakfast'\n",
      " 'Health and Hygiene' 'Hard Drinks' 'Canned' 'Breads' 'Starchy Foods'\n",
      " 'Others' 'Seafood']\n",
      "\n",
      " Outlet_Identifier: ['OUT049' 'OUT018' 'OUT010' 'OUT013' 'OUT027' 'OUT045' 'OUT017' 'OUT046'\n",
      " 'OUT035' 'OUT019']\n",
      "\n",
      " Outlet_Size: ['Medium' nan 'High' 'Small']\n",
      "\n",
      " Outlet_Location_Type: ['Tier 1' 'Tier 3' 'Tier 2']\n",
      "\n",
      " Outlet_Type: ['Supermarket Type1' 'Supermarket Type2' 'Grocery Store'\n",
      " 'Supermarket Type3']\n"
     ]
    }
   ],
   "source": [
    "cat_features = make_column_selector(dtype_include=\"object\")(df)\n",
    "_ = df[cat_features].apply(lambda x: print(\"\\n\", f\"{x.name}: {x.unique()}\"))"
   ]
  },
  {
   "cell_type": "markdown",
   "id": "ce24b706-a06f-416a-8539-2e33237f6a85",
   "metadata": {
    "tags": []
   },
   "source": [
    "<div style=\"background-color:rgb(150,50,50); padding:10px;\">\n",
    "    <p>There are some irregularities in the Item_Fat_Content; it can be deduced that</p>\n",
    "    <ul>\n",
    "        <li>LF = Low Fat</li>\n",
    "        <li>low fat = Low Fat</li>\n",
    "        <li>reg = Regular</li>\n",
    "    </ul>\n",
    "</div>"
   ]
  },
  {
   "cell_type": "code",
   "execution_count": 12,
   "id": "e7fa15d1-5549-4965-8141-1c879c76a72b",
   "metadata": {},
   "outputs": [
    {
     "data": {
      "text/plain": [
       "array(['Low Fat', 'Regular'], dtype=object)"
      ]
     },
     "execution_count": 12,
     "metadata": {},
     "output_type": "execute_result"
    }
   ],
   "source": [
    "df[\"Item_Fat_Content\"].replace([\"LF\",\"reg\",\"low fat\"],[\"Low Fat\", \"Regular\",\"Low Fat\"], inplace=True)\n",
    "df[\"Item_Fat_Content\"].unique()"
   ]
  },
  {
   "cell_type": "markdown",
   "id": "3559b303-cb8b-4036-b324-ca78b88d059f",
   "metadata": {
    "tags": []
   },
   "source": [
    "### Identifying and Handling Missing Data\n",
    "As observed above, there are missing data in the column Outlet_Size. Let's check the missing data in each column."
   ]
  },
  {
   "cell_type": "code",
   "execution_count": 13,
   "id": "a61f2693-bd6f-43d0-bc16-b4156f50683b",
   "metadata": {},
   "outputs": [
    {
     "data": {
      "text/plain": [
       "(2410, 10)"
      ]
     },
     "execution_count": 13,
     "metadata": {},
     "output_type": "execute_result"
    }
   ],
   "source": [
    "df[df[\"Outlet_Size\"].isna()].shape"
   ]
  },
  {
   "cell_type": "markdown",
   "id": "36134d76-f637-41b7-88b7-6019304defc9",
   "metadata": {},
   "source": [
    "There are 2410 missing values in the \"Outlet Size\" columns. Since the outlet size can be considered as an important feature to take into account when doing predictions of sales it is a good idea group the information in order to find patterns that can be useful to make decisions about the missing information."
   ]
  },
  {
   "cell_type": "code",
   "execution_count": 14,
   "id": "0e1fd2ab-1659-4889-9dcf-71646c92586c",
   "metadata": {},
   "outputs": [
    {
     "data": {
      "text/plain": [
       "Outlet_Type        Outlet_Location_Type  Outlet_Identifier\n",
       "Grocery Store      Tier 1                OUT019                [Small]\n",
       "                   Tier 3                OUT010                  [nan]\n",
       "Supermarket Type1  Tier 1                OUT046                [Small]\n",
       "                                         OUT049               [Medium]\n",
       "                   Tier 2                OUT017                  [nan]\n",
       "                                         OUT035                [Small]\n",
       "                                         OUT045                  [nan]\n",
       "                   Tier 3                OUT013                 [High]\n",
       "Supermarket Type2  Tier 3                OUT018               [Medium]\n",
       "Supermarket Type3  Tier 3                OUT027               [Medium]\n",
       "Name: Outlet_Size, dtype: object"
      ]
     },
     "execution_count": 14,
     "metadata": {},
     "output_type": "execute_result"
    }
   ],
   "source": [
    "df.groupby([\"Outlet_Type\",\"Outlet_Location_Type\",\"Outlet_Identifier\"])[\"Outlet_Size\"].unique()"
   ]
  },
  {
   "cell_type": "markdown",
   "id": "2ccb1fc1-0f4b-488e-be29-6e0c6f2259ef",
   "metadata": {},
   "source": [
    "Having seen the structure of the information in the column 'outlet size', it is no possible to determine to which category belong the rows with missing values, so a new category in the outlet size feature will be created and the missing data will be replace by the label \"Missing\".\n",
    "\n",
    "<p style=\"color:green;\">Note that yet we modify the whole dataset there is no a data leak since we don't use any estimator </p>"
   ]
  },
  {
   "cell_type": "code",
   "execution_count": 15,
   "id": "ff4a5e0a-36d4-4a9a-9b72-32844acab30d",
   "metadata": {},
   "outputs": [
    {
     "data": {
      "text/plain": [
       "0"
      ]
     },
     "execution_count": 15,
     "metadata": {},
     "output_type": "execute_result"
    }
   ],
   "source": [
    "df[\"Outlet_Size\"] = df[\"Outlet_Size\"].fillna(\"Missing\")\n",
    "df[\"Outlet_Size\"].isna().sum()"
   ]
  },
  {
   "cell_type": "markdown",
   "id": "969a2b66-e3a2-410a-8a74-5d1d36cf39cc",
   "metadata": {
    "tags": []
   },
   "source": [
    "### Dataset Validation"
   ]
  },
  {
   "cell_type": "code",
   "execution_count": 16,
   "id": "aa5a4fd6-19c6-45d3-8f65-d57d5e459b36",
   "metadata": {},
   "outputs": [
    {
     "name": "stdout",
     "output_type": "stream",
     "text": [
      "<class 'pandas.core.frame.DataFrame'>\n",
      "RangeIndex: 8523 entries, 0 to 8522\n",
      "Data columns (total 10 columns):\n",
      " #   Column                Non-Null Count  Dtype  \n",
      "---  ------                --------------  -----  \n",
      " 0   Item_Identifier       8523 non-null   object \n",
      " 1   Item_Fat_Content      8523 non-null   object \n",
      " 2   Item_Visibility       8523 non-null   float64\n",
      " 3   Item_Type             8523 non-null   object \n",
      " 4   Item_MRP              8523 non-null   float64\n",
      " 5   Outlet_Identifier     8523 non-null   object \n",
      " 6   Outlet_Size           8523 non-null   object \n",
      " 7   Outlet_Location_Type  8523 non-null   object \n",
      " 8   Outlet_Type           8523 non-null   object \n",
      " 9   Item_Outlet_Sales     8523 non-null   float64\n",
      "dtypes: float64(3), object(7)\n",
      "memory usage: 666.0+ KB\n"
     ]
    }
   ],
   "source": [
    "df.info()"
   ]
  },
  {
   "cell_type": "code",
   "execution_count": 17,
   "id": "dcb6a80e-ccf5-4156-b3ab-5f2191a93e98",
   "metadata": {
    "tags": []
   },
   "outputs": [
    {
     "data": {
      "text/html": [
       "<div>\n",
       "<style scoped>\n",
       "    .dataframe tbody tr th:only-of-type {\n",
       "        vertical-align: middle;\n",
       "    }\n",
       "\n",
       "    .dataframe tbody tr th {\n",
       "        vertical-align: top;\n",
       "    }\n",
       "\n",
       "    .dataframe thead th {\n",
       "        text-align: right;\n",
       "    }\n",
       "</style>\n",
       "<table border=\"1\" class=\"dataframe\">\n",
       "  <thead>\n",
       "    <tr style=\"text-align: right;\">\n",
       "      <th></th>\n",
       "      <th>Item_Identifier</th>\n",
       "      <th>Item_Fat_Content</th>\n",
       "      <th>Item_Visibility</th>\n",
       "      <th>Item_Type</th>\n",
       "      <th>Item_MRP</th>\n",
       "      <th>Outlet_Identifier</th>\n",
       "      <th>Outlet_Size</th>\n",
       "      <th>Outlet_Location_Type</th>\n",
       "      <th>Outlet_Type</th>\n",
       "      <th>Item_Outlet_Sales</th>\n",
       "    </tr>\n",
       "  </thead>\n",
       "  <tbody>\n",
       "    <tr>\n",
       "      <th>2879</th>\n",
       "      <td>DRA24</td>\n",
       "      <td>Regular</td>\n",
       "      <td>0.069909</td>\n",
       "      <td>Soft Drinks</td>\n",
       "      <td>163.2868</td>\n",
       "      <td>OUT019</td>\n",
       "      <td>Small</td>\n",
       "      <td>Tier 1</td>\n",
       "      <td>Grocery Store</td>\n",
       "      <td>491.3604</td>\n",
       "    </tr>\n",
       "    <tr>\n",
       "      <th>6179</th>\n",
       "      <td>DRA59</td>\n",
       "      <td>Regular</td>\n",
       "      <td>0.223985</td>\n",
       "      <td>Soft Drinks</td>\n",
       "      <td>186.2924</td>\n",
       "      <td>OUT019</td>\n",
       "      <td>Small</td>\n",
       "      <td>Tier 1</td>\n",
       "      <td>Grocery Store</td>\n",
       "      <td>555.2772</td>\n",
       "    </tr>\n",
       "    <tr>\n",
       "      <th>1708</th>\n",
       "      <td>DRC25</td>\n",
       "      <td>Low Fat</td>\n",
       "      <td>0.079440</td>\n",
       "      <td>Soft Drinks</td>\n",
       "      <td>86.7882</td>\n",
       "      <td>OUT019</td>\n",
       "      <td>Small</td>\n",
       "      <td>Tier 1</td>\n",
       "      <td>Grocery Store</td>\n",
       "      <td>85.8882</td>\n",
       "    </tr>\n",
       "    <tr>\n",
       "      <th>2950</th>\n",
       "      <td>DRD15</td>\n",
       "      <td>Low Fat</td>\n",
       "      <td>0.099442</td>\n",
       "      <td>Dairy</td>\n",
       "      <td>233.1642</td>\n",
       "      <td>OUT019</td>\n",
       "      <td>Small</td>\n",
       "      <td>Tier 1</td>\n",
       "      <td>Grocery Store</td>\n",
       "      <td>697.0926</td>\n",
       "    </tr>\n",
       "    <tr>\n",
       "      <th>2766</th>\n",
       "      <td>DRD25</td>\n",
       "      <td>Low Fat</td>\n",
       "      <td>0.138270</td>\n",
       "      <td>Soft Drinks</td>\n",
       "      <td>111.6860</td>\n",
       "      <td>OUT019</td>\n",
       "      <td>Small</td>\n",
       "      <td>Tier 1</td>\n",
       "      <td>Grocery Store</td>\n",
       "      <td>452.7440</td>\n",
       "    </tr>\n",
       "  </tbody>\n",
       "</table>\n",
       "</div>"
      ],
      "text/plain": [
       "     Item_Identifier Item_Fat_Content  Item_Visibility    Item_Type  Item_MRP  \\\n",
       "2879           DRA24          Regular         0.069909  Soft Drinks  163.2868   \n",
       "6179           DRA59          Regular         0.223985  Soft Drinks  186.2924   \n",
       "1708           DRC25          Low Fat         0.079440  Soft Drinks   86.7882   \n",
       "2950           DRD15          Low Fat         0.099442        Dairy  233.1642   \n",
       "2766           DRD25          Low Fat         0.138270  Soft Drinks  111.6860   \n",
       "\n",
       "     Outlet_Identifier Outlet_Size Outlet_Location_Type    Outlet_Type  \\\n",
       "2879            OUT019       Small               Tier 1  Grocery Store   \n",
       "6179            OUT019       Small               Tier 1  Grocery Store   \n",
       "1708            OUT019       Small               Tier 1  Grocery Store   \n",
       "2950            OUT019       Small               Tier 1  Grocery Store   \n",
       "2766            OUT019       Small               Tier 1  Grocery Store   \n",
       "\n",
       "      Item_Outlet_Sales  \n",
       "2879           491.3604  \n",
       "6179           555.2772  \n",
       "1708            85.8882  \n",
       "2950           697.0926  \n",
       "2766           452.7440  "
      ]
     },
     "execution_count": 17,
     "metadata": {},
     "output_type": "execute_result"
    }
   ],
   "source": [
    "df = df.sort_values([\"Outlet_Location_Type\",\"Outlet_Type\",\"Outlet_Identifier\",\"Item_Identifier\"])\n",
    "df.head()"
   ]
  },
  {
   "cell_type": "code",
   "execution_count": 4,
   "id": "c79e5421-70ff-416a-a36a-8fe1843b16a3",
   "metadata": {
    "tags": []
   },
   "outputs": [
    {
     "data": {
      "text/html": [
       "<div>\n",
       "<style scoped>\n",
       "    .dataframe tbody tr th:only-of-type {\n",
       "        vertical-align: middle;\n",
       "    }\n",
       "\n",
       "    .dataframe tbody tr th {\n",
       "        vertical-align: top;\n",
       "    }\n",
       "\n",
       "    .dataframe thead th {\n",
       "        text-align: right;\n",
       "    }\n",
       "</style>\n",
       "<table border=\"1\" class=\"dataframe\">\n",
       "  <thead>\n",
       "    <tr style=\"text-align: right;\">\n",
       "      <th></th>\n",
       "      <th></th>\n",
       "      <th></th>\n",
       "      <th></th>\n",
       "      <th>Item_Weight</th>\n",
       "      <th>Item_Fat_Content</th>\n",
       "      <th>Item_Visibility</th>\n",
       "      <th>Item_Type</th>\n",
       "      <th>Item_MRP</th>\n",
       "      <th>Outlet_Establishment_Year</th>\n",
       "      <th>Outlet_Size</th>\n",
       "      <th>Item_Outlet_Sales</th>\n",
       "    </tr>\n",
       "    <tr>\n",
       "      <th>Outlet_Location_Type</th>\n",
       "      <th>Outlet_Type</th>\n",
       "      <th>Outlet_Identifier</th>\n",
       "      <th>Item_Identifier</th>\n",
       "      <th></th>\n",
       "      <th></th>\n",
       "      <th></th>\n",
       "      <th></th>\n",
       "      <th></th>\n",
       "      <th></th>\n",
       "      <th></th>\n",
       "      <th></th>\n",
       "    </tr>\n",
       "  </thead>\n",
       "  <tbody>\n",
       "    <tr>\n",
       "      <th>Tier 1</th>\n",
       "      <th>Supermarket Type1</th>\n",
       "      <th>OUT049</th>\n",
       "      <th>FDA15</th>\n",
       "      <td>9.300</td>\n",
       "      <td>Low Fat</td>\n",
       "      <td>0.016047</td>\n",
       "      <td>Dairy</td>\n",
       "      <td>249.8092</td>\n",
       "      <td>1999</td>\n",
       "      <td>Medium</td>\n",
       "      <td>3735.1380</td>\n",
       "    </tr>\n",
       "    <tr>\n",
       "      <th>Tier 3</th>\n",
       "      <th>Supermarket Type2</th>\n",
       "      <th>OUT018</th>\n",
       "      <th>DRC01</th>\n",
       "      <td>5.920</td>\n",
       "      <td>Regular</td>\n",
       "      <td>0.019278</td>\n",
       "      <td>Soft Drinks</td>\n",
       "      <td>48.2692</td>\n",
       "      <td>2009</td>\n",
       "      <td>Medium</td>\n",
       "      <td>443.4228</td>\n",
       "    </tr>\n",
       "    <tr>\n",
       "      <th>Tier 1</th>\n",
       "      <th>Supermarket Type1</th>\n",
       "      <th>OUT049</th>\n",
       "      <th>FDN15</th>\n",
       "      <td>17.500</td>\n",
       "      <td>Low Fat</td>\n",
       "      <td>0.016760</td>\n",
       "      <td>Meat</td>\n",
       "      <td>141.6180</td>\n",
       "      <td>1999</td>\n",
       "      <td>Medium</td>\n",
       "      <td>2097.2700</td>\n",
       "    </tr>\n",
       "    <tr>\n",
       "      <th rowspan=\"4\" valign=\"top\">Tier 3</th>\n",
       "      <th>Grocery Store</th>\n",
       "      <th>OUT010</th>\n",
       "      <th>FDX07</th>\n",
       "      <td>19.200</td>\n",
       "      <td>Regular</td>\n",
       "      <td>0.000000</td>\n",
       "      <td>Fruits and Vegetables</td>\n",
       "      <td>182.0950</td>\n",
       "      <td>1998</td>\n",
       "      <td>NaN</td>\n",
       "      <td>732.3800</td>\n",
       "    </tr>\n",
       "    <tr>\n",
       "      <th rowspan=\"3\" valign=\"top\">Supermarket Type1</th>\n",
       "      <th rowspan=\"3\" valign=\"top\">OUT013</th>\n",
       "      <th>NCD19</th>\n",
       "      <td>8.930</td>\n",
       "      <td>Low Fat</td>\n",
       "      <td>0.000000</td>\n",
       "      <td>Household</td>\n",
       "      <td>53.8614</td>\n",
       "      <td>1987</td>\n",
       "      <td>High</td>\n",
       "      <td>994.7052</td>\n",
       "    </tr>\n",
       "    <tr>\n",
       "      <th>...</th>\n",
       "      <td>...</td>\n",
       "      <td>...</td>\n",
       "      <td>...</td>\n",
       "      <td>...</td>\n",
       "      <td>...</td>\n",
       "      <td>...</td>\n",
       "      <td>...</td>\n",
       "      <td>...</td>\n",
       "    </tr>\n",
       "    <tr>\n",
       "      <th>FDF22</th>\n",
       "      <td>6.865</td>\n",
       "      <td>Low Fat</td>\n",
       "      <td>0.056783</td>\n",
       "      <td>Snack Foods</td>\n",
       "      <td>214.5218</td>\n",
       "      <td>1987</td>\n",
       "      <td>High</td>\n",
       "      <td>2778.3834</td>\n",
       "    </tr>\n",
       "    <tr>\n",
       "      <th rowspan=\"2\" valign=\"top\">Tier 2</th>\n",
       "      <th rowspan=\"2\" valign=\"top\">Supermarket Type1</th>\n",
       "      <th>OUT045</th>\n",
       "      <th>FDS36</th>\n",
       "      <td>8.380</td>\n",
       "      <td>Regular</td>\n",
       "      <td>0.046982</td>\n",
       "      <td>Baking Goods</td>\n",
       "      <td>108.1570</td>\n",
       "      <td>2002</td>\n",
       "      <td>NaN</td>\n",
       "      <td>549.2850</td>\n",
       "    </tr>\n",
       "    <tr>\n",
       "      <th>OUT035</th>\n",
       "      <th>NCJ29</th>\n",
       "      <td>10.600</td>\n",
       "      <td>Low Fat</td>\n",
       "      <td>0.035186</td>\n",
       "      <td>Health and Hygiene</td>\n",
       "      <td>85.1224</td>\n",
       "      <td>2004</td>\n",
       "      <td>Small</td>\n",
       "      <td>1193.1136</td>\n",
       "    </tr>\n",
       "    <tr>\n",
       "      <th>Tier 3</th>\n",
       "      <th>Supermarket Type2</th>\n",
       "      <th>OUT018</th>\n",
       "      <th>FDN46</th>\n",
       "      <td>7.210</td>\n",
       "      <td>Regular</td>\n",
       "      <td>0.145221</td>\n",
       "      <td>Snack Foods</td>\n",
       "      <td>103.1332</td>\n",
       "      <td>2009</td>\n",
       "      <td>Medium</td>\n",
       "      <td>1845.5976</td>\n",
       "    </tr>\n",
       "    <tr>\n",
       "      <th>Tier 1</th>\n",
       "      <th>Supermarket Type1</th>\n",
       "      <th>OUT046</th>\n",
       "      <th>DRG01</th>\n",
       "      <td>14.800</td>\n",
       "      <td>Low Fat</td>\n",
       "      <td>0.044878</td>\n",
       "      <td>Soft Drinks</td>\n",
       "      <td>75.4670</td>\n",
       "      <td>1997</td>\n",
       "      <td>Small</td>\n",
       "      <td>765.6700</td>\n",
       "    </tr>\n",
       "  </tbody>\n",
       "</table>\n",
       "<p>8523 rows × 8 columns</p>\n",
       "</div>"
      ],
      "text/plain": [
       "                                                                          Item_Weight  \\\n",
       "Outlet_Location_Type Outlet_Type       Outlet_Identifier Item_Identifier                \n",
       "Tier 1               Supermarket Type1 OUT049            FDA15                  9.300   \n",
       "Tier 3               Supermarket Type2 OUT018            DRC01                  5.920   \n",
       "Tier 1               Supermarket Type1 OUT049            FDN15                 17.500   \n",
       "Tier 3               Grocery Store     OUT010            FDX07                 19.200   \n",
       "                     Supermarket Type1 OUT013            NCD19                  8.930   \n",
       "...                                                                               ...   \n",
       "                                                         FDF22                  6.865   \n",
       "Tier 2               Supermarket Type1 OUT045            FDS36                  8.380   \n",
       "                                       OUT035            NCJ29                 10.600   \n",
       "Tier 3               Supermarket Type2 OUT018            FDN46                  7.210   \n",
       "Tier 1               Supermarket Type1 OUT046            DRG01                 14.800   \n",
       "\n",
       "                                                                         Item_Fat_Content  \\\n",
       "Outlet_Location_Type Outlet_Type       Outlet_Identifier Item_Identifier                    \n",
       "Tier 1               Supermarket Type1 OUT049            FDA15                    Low Fat   \n",
       "Tier 3               Supermarket Type2 OUT018            DRC01                    Regular   \n",
       "Tier 1               Supermarket Type1 OUT049            FDN15                    Low Fat   \n",
       "Tier 3               Grocery Store     OUT010            FDX07                    Regular   \n",
       "                     Supermarket Type1 OUT013            NCD19                    Low Fat   \n",
       "...                                                                                   ...   \n",
       "                                                         FDF22                    Low Fat   \n",
       "Tier 2               Supermarket Type1 OUT045            FDS36                    Regular   \n",
       "                                       OUT035            NCJ29                    Low Fat   \n",
       "Tier 3               Supermarket Type2 OUT018            FDN46                    Regular   \n",
       "Tier 1               Supermarket Type1 OUT046            DRG01                    Low Fat   \n",
       "\n",
       "                                                                          Item_Visibility  \\\n",
       "Outlet_Location_Type Outlet_Type       Outlet_Identifier Item_Identifier                    \n",
       "Tier 1               Supermarket Type1 OUT049            FDA15                   0.016047   \n",
       "Tier 3               Supermarket Type2 OUT018            DRC01                   0.019278   \n",
       "Tier 1               Supermarket Type1 OUT049            FDN15                   0.016760   \n",
       "Tier 3               Grocery Store     OUT010            FDX07                   0.000000   \n",
       "                     Supermarket Type1 OUT013            NCD19                   0.000000   \n",
       "...                                                                                   ...   \n",
       "                                                         FDF22                   0.056783   \n",
       "Tier 2               Supermarket Type1 OUT045            FDS36                   0.046982   \n",
       "                                       OUT035            NCJ29                   0.035186   \n",
       "Tier 3               Supermarket Type2 OUT018            FDN46                   0.145221   \n",
       "Tier 1               Supermarket Type1 OUT046            DRG01                   0.044878   \n",
       "\n",
       "                                                                                      Item_Type  \\\n",
       "Outlet_Location_Type Outlet_Type       Outlet_Identifier Item_Identifier                          \n",
       "Tier 1               Supermarket Type1 OUT049            FDA15                            Dairy   \n",
       "Tier 3               Supermarket Type2 OUT018            DRC01                      Soft Drinks   \n",
       "Tier 1               Supermarket Type1 OUT049            FDN15                             Meat   \n",
       "Tier 3               Grocery Store     OUT010            FDX07            Fruits and Vegetables   \n",
       "                     Supermarket Type1 OUT013            NCD19                        Household   \n",
       "...                                                                                         ...   \n",
       "                                                         FDF22                      Snack Foods   \n",
       "Tier 2               Supermarket Type1 OUT045            FDS36                     Baking Goods   \n",
       "                                       OUT035            NCJ29               Health and Hygiene   \n",
       "Tier 3               Supermarket Type2 OUT018            FDN46                      Snack Foods   \n",
       "Tier 1               Supermarket Type1 OUT046            DRG01                      Soft Drinks   \n",
       "\n",
       "                                                                          Item_MRP  \\\n",
       "Outlet_Location_Type Outlet_Type       Outlet_Identifier Item_Identifier             \n",
       "Tier 1               Supermarket Type1 OUT049            FDA15            249.8092   \n",
       "Tier 3               Supermarket Type2 OUT018            DRC01             48.2692   \n",
       "Tier 1               Supermarket Type1 OUT049            FDN15            141.6180   \n",
       "Tier 3               Grocery Store     OUT010            FDX07            182.0950   \n",
       "                     Supermarket Type1 OUT013            NCD19             53.8614   \n",
       "...                                                                            ...   \n",
       "                                                         FDF22            214.5218   \n",
       "Tier 2               Supermarket Type1 OUT045            FDS36            108.1570   \n",
       "                                       OUT035            NCJ29             85.1224   \n",
       "Tier 3               Supermarket Type2 OUT018            FDN46            103.1332   \n",
       "Tier 1               Supermarket Type1 OUT046            DRG01             75.4670   \n",
       "\n",
       "                                                                          Outlet_Establishment_Year  \\\n",
       "Outlet_Location_Type Outlet_Type       Outlet_Identifier Item_Identifier                              \n",
       "Tier 1               Supermarket Type1 OUT049            FDA15                                 1999   \n",
       "Tier 3               Supermarket Type2 OUT018            DRC01                                 2009   \n",
       "Tier 1               Supermarket Type1 OUT049            FDN15                                 1999   \n",
       "Tier 3               Grocery Store     OUT010            FDX07                                 1998   \n",
       "                     Supermarket Type1 OUT013            NCD19                                 1987   \n",
       "...                                                                                             ...   \n",
       "                                                         FDF22                                 1987   \n",
       "Tier 2               Supermarket Type1 OUT045            FDS36                                 2002   \n",
       "                                       OUT035            NCJ29                                 2004   \n",
       "Tier 3               Supermarket Type2 OUT018            FDN46                                 2009   \n",
       "Tier 1               Supermarket Type1 OUT046            DRG01                                 1997   \n",
       "\n",
       "                                                                         Outlet_Size  \\\n",
       "Outlet_Location_Type Outlet_Type       Outlet_Identifier Item_Identifier               \n",
       "Tier 1               Supermarket Type1 OUT049            FDA15                Medium   \n",
       "Tier 3               Supermarket Type2 OUT018            DRC01                Medium   \n",
       "Tier 1               Supermarket Type1 OUT049            FDN15                Medium   \n",
       "Tier 3               Grocery Store     OUT010            FDX07                   NaN   \n",
       "                     Supermarket Type1 OUT013            NCD19                  High   \n",
       "...                                                                              ...   \n",
       "                                                         FDF22                  High   \n",
       "Tier 2               Supermarket Type1 OUT045            FDS36                   NaN   \n",
       "                                       OUT035            NCJ29                 Small   \n",
       "Tier 3               Supermarket Type2 OUT018            FDN46                Medium   \n",
       "Tier 1               Supermarket Type1 OUT046            DRG01                 Small   \n",
       "\n",
       "                                                                          Item_Outlet_Sales  \n",
       "Outlet_Location_Type Outlet_Type       Outlet_Identifier Item_Identifier                     \n",
       "Tier 1               Supermarket Type1 OUT049            FDA15                    3735.1380  \n",
       "Tier 3               Supermarket Type2 OUT018            DRC01                     443.4228  \n",
       "Tier 1               Supermarket Type1 OUT049            FDN15                    2097.2700  \n",
       "Tier 3               Grocery Store     OUT010            FDX07                     732.3800  \n",
       "                     Supermarket Type1 OUT013            NCD19                     994.7052  \n",
       "...                                                                                     ...  \n",
       "                                                         FDF22                    2778.3834  \n",
       "Tier 2               Supermarket Type1 OUT045            FDS36                     549.2850  \n",
       "                                       OUT035            NCJ29                    1193.1136  \n",
       "Tier 3               Supermarket Type2 OUT018            FDN46                    1845.5976  \n",
       "Tier 1               Supermarket Type1 OUT046            DRG01                     765.6700  \n",
       "\n",
       "[8523 rows x 8 columns]"
      ]
     },
     "execution_count": 4,
     "metadata": {},
     "output_type": "execute_result"
    }
   ],
   "source": [
    "df_indexed = df.set_index([\"Outlet_Location_Type\",\"Outlet_Type\",\"Outlet_Identifier\",\"Item_Identifier\"])\n",
    "df_indexed"
   ]
  },
  {
   "cell_type": "markdown",
   "id": "3b0b1bc6-5de8-473c-aa58-5b79f35ccbe0",
   "metadata": {},
   "source": [
    "Let's generate a csv file to save the cleaning information"
   ]
  },
  {
   "cell_type": "code",
   "execution_count": 19,
   "id": "b07c3998-aa91-4b11-8467-cdb004a8edad",
   "metadata": {},
   "outputs": [],
   "source": [
    "df_indexed.to_csv(path_or_buf=\"food_sales_forecast_cleaned.csv\" )"
   ]
  }
 ],
 "metadata": {
  "kernelspec": {
   "display_name": "Python 3 (ipykernel)",
   "language": "python",
   "name": "python3"
  },
  "language_info": {
   "codemirror_mode": {
    "name": "ipython",
    "version": 3
   },
   "file_extension": ".py",
   "mimetype": "text/x-python",
   "name": "python",
   "nbconvert_exporter": "python",
   "pygments_lexer": "ipython3",
   "version": "3.10.4"
  }
 },
 "nbformat": 4,
 "nbformat_minor": 5
}
