{
 "cells": [
  {
   "cell_type": "markdown",
   "id": "f7b0e5a4-2aa6-4c21-a00f-ca3981ef1c57",
   "metadata": {
    "tags": []
   },
   "source": [
    "# Food Sales Prediction Project\n",
    "<p>\n",
    "    The information use in this project corresponds to 2013 sales of <strong>1559</strong> products and was collected by data scientist at BigMart across 10 stores in different cities. Some features of each product have been defined. \n",
    "    In order to help to the retailer to understand the product properties and the outlets that play a crucial role in the sales, <strong>this project aims to predict the sales of food products in each outlet, it will try to understand the properties of products and outlets which play a key role in increasing sales.</strong>\n",
    "</p>\n",
    "<p><a href=\"https://datahack.analyticsvidhya.com/contest/practice-problem-big-mart-sales-iii/#ProblemStatement\" target:\"_blank\">source: <i>Analytics Vidhya 2013-2022</i></a></p>\n",
    "<table>\n",
    "    <tbody>\n",
    "        <tr>\n",
    "            <td>Variable</td>\n",
    "            <td >Description</td>\n",
    "        </tr>\n",
    "        <tr>\n",
    "            <td >Item_Identifier</td>\n",
    "            <td >Unique product ID</td>\n",
    "        </tr>\n",
    "        <tr>\n",
    "            <td>Item_Weight</td>\n",
    "            <td >Weight of product</td>\n",
    "        </tr>\n",
    "        <tr>\n",
    "            <td>Item_Fat_Content</td>\n",
    "            <td>Whether the product is low fat or not</td>\n",
    "        </tr>\n",
    "        <tr>\n",
    "            <td>Item_Visibility</td>\n",
    "            <td>The % of total display area of all products in a store allocated to the particular product</td>\n",
    "        </tr>\n",
    "        <tr>\n",
    "            <td>Item_Type</td>\n",
    "            <td>The category to which the product belongs</td>\n",
    "        </tr>\n",
    "        <tr>\n",
    "            <td>Item_MRP</td>\n",
    "            <td>Maximum Retail Price (list price) of the product</td>\n",
    "        </tr>\n",
    "        <tr>\n",
    "            <td>Outlet_Identifier</td>\n",
    "            <td>Unique store ID</td>\n",
    "        </tr>\n",
    "        <tr>\n",
    "            <td>Outlet_Establishment_Year</td>\n",
    "            <td>The year in which store was established</td>\n",
    "        </tr>\n",
    "        <tr>\n",
    "            <td>Outlet_Size</td>\n",
    "            <td>The size of the store in terms of ground area covered</td>\n",
    "        </tr>\n",
    "        <tr>\n",
    "            <td>Outlet_Location_Type</td>\n",
    "            <td>The type of city in which the store is located</td>\n",
    "        </tr>\n",
    "        <tr>\n",
    "            <td>Outlet_Type</td>\n",
    "            <td>Whether the outlet is just a grocery store or some sort of supermarket</td>\n",
    "        </tr>\n",
    "    </tbody>\n",
    "</table>"
   ]
  },
  {
   "cell_type": "markdown",
   "id": "61238e54-7317-4a9b-8cfe-6898e4dd9009",
   "metadata": {
    "tags": []
   },
   "source": [
    "## Importing Pandas Module"
   ]
  },
  {
   "cell_type": "code",
   "execution_count": 1,
   "id": "e501b17c-c4e9-456e-a174-5a5f130cf9bd",
   "metadata": {},
   "outputs": [
    {
     "name": "stderr",
     "output_type": "stream",
     "text": [
      "/home/yeison/anaconda3/envs/data-science1/lib/python3.10/site-packages/scipy/__init__.py:146: UserWarning: A NumPy version >=1.16.5 and <1.23.0 is required for this version of SciPy (detected version 1.23.1\n",
      "  warnings.warn(f\"A NumPy version >={np_minversion} and <{np_maxversion}\"\n"
     ]
    }
   ],
   "source": [
    "import matplotlib.pyplot as plt\n",
    "import seaborn as sns\n",
    "import pandas as pd\n",
    "import numpy as np"
   ]
  },
  {
   "cell_type": "markdown",
   "id": "0c920ab0-3dcc-4a5b-b862-136c32d0803d",
   "metadata": {
    "tags": []
   },
   "source": [
    "## Charging Information"
   ]
  },
  {
   "cell_type": "code",
   "execution_count": 2,
   "id": "20b57aab-87eb-40c8-88b2-48d8c5ae9b9e",
   "metadata": {},
   "outputs": [
    {
     "data": {
      "text/html": [
       "<div>\n",
       "<style scoped>\n",
       "    .dataframe tbody tr th:only-of-type {\n",
       "        vertical-align: middle;\n",
       "    }\n",
       "\n",
       "    .dataframe tbody tr th {\n",
       "        vertical-align: top;\n",
       "    }\n",
       "\n",
       "    .dataframe thead th {\n",
       "        text-align: right;\n",
       "    }\n",
       "</style>\n",
       "<table border=\"1\" class=\"dataframe\">\n",
       "  <thead>\n",
       "    <tr style=\"text-align: right;\">\n",
       "      <th></th>\n",
       "      <th>Item_Identifier</th>\n",
       "      <th>Item_Weight</th>\n",
       "      <th>Item_Fat_Content</th>\n",
       "      <th>Item_Visibility</th>\n",
       "      <th>Item_Type</th>\n",
       "      <th>Item_MRP</th>\n",
       "      <th>Outlet_Identifier</th>\n",
       "      <th>Outlet_Establishment_Year</th>\n",
       "      <th>Outlet_Size</th>\n",
       "      <th>Outlet_Location_Type</th>\n",
       "      <th>Outlet_Type</th>\n",
       "      <th>Item_Outlet_Sales</th>\n",
       "    </tr>\n",
       "  </thead>\n",
       "  <tbody>\n",
       "    <tr>\n",
       "      <th>0</th>\n",
       "      <td>FDA15</td>\n",
       "      <td>9.30</td>\n",
       "      <td>Low Fat</td>\n",
       "      <td>0.016047</td>\n",
       "      <td>Dairy</td>\n",
       "      <td>249.8092</td>\n",
       "      <td>OUT049</td>\n",
       "      <td>1999</td>\n",
       "      <td>Medium</td>\n",
       "      <td>Tier 1</td>\n",
       "      <td>Supermarket Type1</td>\n",
       "      <td>3735.1380</td>\n",
       "    </tr>\n",
       "    <tr>\n",
       "      <th>1</th>\n",
       "      <td>DRC01</td>\n",
       "      <td>5.92</td>\n",
       "      <td>Regular</td>\n",
       "      <td>0.019278</td>\n",
       "      <td>Soft Drinks</td>\n",
       "      <td>48.2692</td>\n",
       "      <td>OUT018</td>\n",
       "      <td>2009</td>\n",
       "      <td>Medium</td>\n",
       "      <td>Tier 3</td>\n",
       "      <td>Supermarket Type2</td>\n",
       "      <td>443.4228</td>\n",
       "    </tr>\n",
       "    <tr>\n",
       "      <th>2</th>\n",
       "      <td>FDN15</td>\n",
       "      <td>17.50</td>\n",
       "      <td>Low Fat</td>\n",
       "      <td>0.016760</td>\n",
       "      <td>Meat</td>\n",
       "      <td>141.6180</td>\n",
       "      <td>OUT049</td>\n",
       "      <td>1999</td>\n",
       "      <td>Medium</td>\n",
       "      <td>Tier 1</td>\n",
       "      <td>Supermarket Type1</td>\n",
       "      <td>2097.2700</td>\n",
       "    </tr>\n",
       "    <tr>\n",
       "      <th>3</th>\n",
       "      <td>FDX07</td>\n",
       "      <td>19.20</td>\n",
       "      <td>Regular</td>\n",
       "      <td>0.000000</td>\n",
       "      <td>Fruits and Vegetables</td>\n",
       "      <td>182.0950</td>\n",
       "      <td>OUT010</td>\n",
       "      <td>1998</td>\n",
       "      <td>NaN</td>\n",
       "      <td>Tier 3</td>\n",
       "      <td>Grocery Store</td>\n",
       "      <td>732.3800</td>\n",
       "    </tr>\n",
       "    <tr>\n",
       "      <th>4</th>\n",
       "      <td>NCD19</td>\n",
       "      <td>8.93</td>\n",
       "      <td>Low Fat</td>\n",
       "      <td>0.000000</td>\n",
       "      <td>Household</td>\n",
       "      <td>53.8614</td>\n",
       "      <td>OUT013</td>\n",
       "      <td>1987</td>\n",
       "      <td>High</td>\n",
       "      <td>Tier 3</td>\n",
       "      <td>Supermarket Type1</td>\n",
       "      <td>994.7052</td>\n",
       "    </tr>\n",
       "  </tbody>\n",
       "</table>\n",
       "</div>"
      ],
      "text/plain": [
       "  Item_Identifier  Item_Weight Item_Fat_Content  Item_Visibility  \\\n",
       "0           FDA15         9.30          Low Fat         0.016047   \n",
       "1           DRC01         5.92          Regular         0.019278   \n",
       "2           FDN15        17.50          Low Fat         0.016760   \n",
       "3           FDX07        19.20          Regular         0.000000   \n",
       "4           NCD19         8.93          Low Fat         0.000000   \n",
       "\n",
       "               Item_Type  Item_MRP Outlet_Identifier  \\\n",
       "0                  Dairy  249.8092            OUT049   \n",
       "1            Soft Drinks   48.2692            OUT018   \n",
       "2                   Meat  141.6180            OUT049   \n",
       "3  Fruits and Vegetables  182.0950            OUT010   \n",
       "4              Household   53.8614            OUT013   \n",
       "\n",
       "   Outlet_Establishment_Year Outlet_Size Outlet_Location_Type  \\\n",
       "0                       1999      Medium               Tier 1   \n",
       "1                       2009      Medium               Tier 3   \n",
       "2                       1999      Medium               Tier 1   \n",
       "3                       1998         NaN               Tier 3   \n",
       "4                       1987        High               Tier 3   \n",
       "\n",
       "         Outlet_Type  Item_Outlet_Sales  \n",
       "0  Supermarket Type1          3735.1380  \n",
       "1  Supermarket Type2           443.4228  \n",
       "2  Supermarket Type1          2097.2700  \n",
       "3      Grocery Store           732.3800  \n",
       "4  Supermarket Type1           994.7052  "
      ]
     },
     "execution_count": 2,
     "metadata": {},
     "output_type": "execute_result"
    }
   ],
   "source": [
    "df = pd.read_csv(\"sales_predictions.csv\")\n",
    "df.head()"
   ]
  },
  {
   "cell_type": "markdown",
   "id": "51bc9385-fe62-4b46-b9d6-57516080c16d",
   "metadata": {
    "tags": []
   },
   "source": [
    "## Characterizing DataFrame"
   ]
  },
  {
   "cell_type": "code",
   "execution_count": 3,
   "id": "60f53ed0-6e95-4913-b0af-a7aaeda762af",
   "metadata": {},
   "outputs": [
    {
     "data": {
      "text/plain": [
       "(8523, 12)"
      ]
     },
     "execution_count": 3,
     "metadata": {},
     "output_type": "execute_result"
    }
   ],
   "source": [
    "df.shape"
   ]
  },
  {
   "cell_type": "markdown",
   "id": "ceb272f6-7a01-4bb0-88f9-11182918c5ac",
   "metadata": {},
   "source": [
    "There is consistency in the type of data in each column"
   ]
  },
  {
   "cell_type": "code",
   "execution_count": 4,
   "id": "05db9470-2f65-4528-be6a-c272f5beef6f",
   "metadata": {},
   "outputs": [
    {
     "name": "stdout",
     "output_type": "stream",
     "text": [
      "<class 'pandas.core.frame.DataFrame'>\n",
      "RangeIndex: 8523 entries, 0 to 8522\n",
      "Data columns (total 12 columns):\n",
      " #   Column                     Non-Null Count  Dtype  \n",
      "---  ------                     --------------  -----  \n",
      " 0   Item_Identifier            8523 non-null   object \n",
      " 1   Item_Weight                7060 non-null   float64\n",
      " 2   Item_Fat_Content           8523 non-null   object \n",
      " 3   Item_Visibility            8523 non-null   float64\n",
      " 4   Item_Type                  8523 non-null   object \n",
      " 5   Item_MRP                   8523 non-null   float64\n",
      " 6   Outlet_Identifier          8523 non-null   object \n",
      " 7   Outlet_Establishment_Year  8523 non-null   int64  \n",
      " 8   Outlet_Size                6113 non-null   object \n",
      " 9   Outlet_Location_Type       8523 non-null   object \n",
      " 10  Outlet_Type                8523 non-null   object \n",
      " 11  Item_Outlet_Sales          8523 non-null   float64\n",
      "dtypes: float64(4), int64(1), object(7)\n",
      "memory usage: 799.2+ KB\n"
     ]
    }
   ],
   "source": [
    "df.info()"
   ]
  },
  {
   "cell_type": "markdown",
   "id": "513d6dcb-c654-4601-b3ae-8e0d75d6364d",
   "metadata": {},
   "source": [
    "<p style=\"color:rgb(200,0,0);\">There are missing data in the columns: Item_Weight and Outlet_Size. Let's check if there is duplicated info</p>"
   ]
  },
  {
   "cell_type": "markdown",
   "id": "80b64f34",
   "metadata": {},
   "source": [
    "## Data Cleaning"
   ]
  },
  {
   "cell_type": "markdown",
   "id": "d05be697-0f26-4736-9ecb-0d422ade1d13",
   "metadata": {
    "tags": []
   },
   "source": [
    "### Remove Duplicate or Irrelevant Observations"
   ]
  },
  {
   "cell_type": "code",
   "execution_count": 5,
   "id": "7c9085d3-259a-41df-89a3-56279bab60b7",
   "metadata": {},
   "outputs": [
    {
     "data": {
      "text/plain": [
       "0"
      ]
     },
     "execution_count": 5,
     "metadata": {},
     "output_type": "execute_result"
    }
   ],
   "source": [
    "df.duplicated().sum()"
   ]
  },
  {
   "cell_type": "markdown",
   "id": "f089a1d5-90e5-4480-8beb-5703fbc01d98",
   "metadata": {},
   "source": [
    "<p style=\"color:green;\">There is not duplicated rows.</p>"
   ]
  },
  {
   "cell_type": "code",
   "execution_count": 4,
   "id": "0a8a82a9-546a-4b51-a4ee-d8623253a092",
   "metadata": {},
   "outputs": [
    {
     "data": {
      "text/plain": [
       "1463"
      ]
     },
     "execution_count": 4,
     "metadata": {},
     "output_type": "execute_result"
    }
   ],
   "source": [
    "df[\"Item_Weight\"].isna().sum()"
   ]
  },
  {
   "cell_type": "markdown",
   "id": "6971c0d0-47a4-4049-a759-b2140513b325",
   "metadata": {},
   "source": [
    "Since item Weight can be categorized as an irrelevant feature in the sales prediction and in this column there is missing information this column will be delete. Another irrelevant columns to this analysis is the year in which store was established, so this column will also be removed."
   ]
  },
  {
   "cell_type": "code",
   "execution_count": 3,
   "id": "4a7fe03b-63b5-4ce8-98a2-5c71a2ebd024",
   "metadata": {},
   "outputs": [
    {
     "data": {
      "text/html": [
       "<div>\n",
       "<style scoped>\n",
       "    .dataframe tbody tr th:only-of-type {\n",
       "        vertical-align: middle;\n",
       "    }\n",
       "\n",
       "    .dataframe tbody tr th {\n",
       "        vertical-align: top;\n",
       "    }\n",
       "\n",
       "    .dataframe thead th {\n",
       "        text-align: right;\n",
       "    }\n",
       "</style>\n",
       "<table border=\"1\" class=\"dataframe\">\n",
       "  <thead>\n",
       "    <tr style=\"text-align: right;\">\n",
       "      <th></th>\n",
       "      <th>Item_Identifier</th>\n",
       "      <th>Item_Fat_Content</th>\n",
       "      <th>Item_Visibility</th>\n",
       "      <th>Item_Type</th>\n",
       "      <th>Item_MRP</th>\n",
       "      <th>Outlet_Identifier</th>\n",
       "      <th>Outlet_Size</th>\n",
       "      <th>Outlet_Location_Type</th>\n",
       "      <th>Outlet_Type</th>\n",
       "      <th>Item_Outlet_Sales</th>\n",
       "    </tr>\n",
       "  </thead>\n",
       "  <tbody>\n",
       "    <tr>\n",
       "      <th>0</th>\n",
       "      <td>FDA15</td>\n",
       "      <td>Low Fat</td>\n",
       "      <td>0.016047</td>\n",
       "      <td>Dairy</td>\n",
       "      <td>249.8092</td>\n",
       "      <td>OUT049</td>\n",
       "      <td>Medium</td>\n",
       "      <td>Tier 1</td>\n",
       "      <td>Supermarket Type1</td>\n",
       "      <td>3735.1380</td>\n",
       "    </tr>\n",
       "    <tr>\n",
       "      <th>1</th>\n",
       "      <td>DRC01</td>\n",
       "      <td>Regular</td>\n",
       "      <td>0.019278</td>\n",
       "      <td>Soft Drinks</td>\n",
       "      <td>48.2692</td>\n",
       "      <td>OUT018</td>\n",
       "      <td>Medium</td>\n",
       "      <td>Tier 3</td>\n",
       "      <td>Supermarket Type2</td>\n",
       "      <td>443.4228</td>\n",
       "    </tr>\n",
       "    <tr>\n",
       "      <th>2</th>\n",
       "      <td>FDN15</td>\n",
       "      <td>Low Fat</td>\n",
       "      <td>0.016760</td>\n",
       "      <td>Meat</td>\n",
       "      <td>141.6180</td>\n",
       "      <td>OUT049</td>\n",
       "      <td>Medium</td>\n",
       "      <td>Tier 1</td>\n",
       "      <td>Supermarket Type1</td>\n",
       "      <td>2097.2700</td>\n",
       "    </tr>\n",
       "    <tr>\n",
       "      <th>3</th>\n",
       "      <td>FDX07</td>\n",
       "      <td>Regular</td>\n",
       "      <td>0.000000</td>\n",
       "      <td>Fruits and Vegetables</td>\n",
       "      <td>182.0950</td>\n",
       "      <td>OUT010</td>\n",
       "      <td>NaN</td>\n",
       "      <td>Tier 3</td>\n",
       "      <td>Grocery Store</td>\n",
       "      <td>732.3800</td>\n",
       "    </tr>\n",
       "    <tr>\n",
       "      <th>4</th>\n",
       "      <td>NCD19</td>\n",
       "      <td>Low Fat</td>\n",
       "      <td>0.000000</td>\n",
       "      <td>Household</td>\n",
       "      <td>53.8614</td>\n",
       "      <td>OUT013</td>\n",
       "      <td>High</td>\n",
       "      <td>Tier 3</td>\n",
       "      <td>Supermarket Type1</td>\n",
       "      <td>994.7052</td>\n",
       "    </tr>\n",
       "  </tbody>\n",
       "</table>\n",
       "</div>"
      ],
      "text/plain": [
       "  Item_Identifier Item_Fat_Content  Item_Visibility              Item_Type  \\\n",
       "0           FDA15          Low Fat         0.016047                  Dairy   \n",
       "1           DRC01          Regular         0.019278            Soft Drinks   \n",
       "2           FDN15          Low Fat         0.016760                   Meat   \n",
       "3           FDX07          Regular         0.000000  Fruits and Vegetables   \n",
       "4           NCD19          Low Fat         0.000000              Household   \n",
       "\n",
       "   Item_MRP Outlet_Identifier Outlet_Size Outlet_Location_Type  \\\n",
       "0  249.8092            OUT049      Medium               Tier 1   \n",
       "1   48.2692            OUT018      Medium               Tier 3   \n",
       "2  141.6180            OUT049      Medium               Tier 1   \n",
       "3  182.0950            OUT010         NaN               Tier 3   \n",
       "4   53.8614            OUT013        High               Tier 3   \n",
       "\n",
       "         Outlet_Type  Item_Outlet_Sales  \n",
       "0  Supermarket Type1          3735.1380  \n",
       "1  Supermarket Type2           443.4228  \n",
       "2  Supermarket Type1          2097.2700  \n",
       "3      Grocery Store           732.3800  \n",
       "4  Supermarket Type1           994.7052  "
      ]
     },
     "execution_count": 3,
     "metadata": {},
     "output_type": "execute_result"
    }
   ],
   "source": [
    "df.drop(columns = [\"Item_Weight\", \"Outlet_Establishment_Year\"], inplace=True)\n",
    "df.head()"
   ]
  },
  {
   "cell_type": "markdown",
   "id": "130ae1a6-558d-4313-90e3-83e301610b1b",
   "metadata": {
    "tags": []
   },
   "source": [
    "### Fixing Structural Errors"
   ]
  },
  {
   "cell_type": "markdown",
   "id": "73205533-7d8c-47ed-8fa3-495132476ecf",
   "metadata": {
    "tags": []
   },
   "source": [
    "#### Type of Information in Each Column"
   ]
  },
  {
   "cell_type": "code",
   "execution_count": 7,
   "id": "475dbb13-658e-457e-a2b8-ad180426cd50",
   "metadata": {},
   "outputs": [
    {
     "data": {
      "text/plain": [
       "Item_Identifier          object\n",
       "Item_Fat_Content         object\n",
       "Item_Visibility         float64\n",
       "Item_Type                object\n",
       "Item_MRP                float64\n",
       "Outlet_Identifier        object\n",
       "Outlet_Size              object\n",
       "Outlet_Location_Type     object\n",
       "Outlet_Type              object\n",
       "Item_Outlet_Sales       float64\n",
       "dtype: object"
      ]
     },
     "execution_count": 7,
     "metadata": {},
     "output_type": "execute_result"
    }
   ],
   "source": [
    "df.dtypes"
   ]
  },
  {
   "cell_type": "markdown",
   "id": "e57dd58e-aaf3-432e-ba26-eb1511a46bf3",
   "metadata": {},
   "source": [
    "#### Numerical Columns"
   ]
  },
  {
   "cell_type": "markdown",
   "id": "d241adb2-ab06-4aa0-8311-59ae102bc981",
   "metadata": {},
   "source": [
    "Let's create a function to check the numerical columns"
   ]
  },
  {
   "cell_type": "code",
   "execution_count": 16,
   "id": "628bc5ce-738a-49d2-9229-ee6803955ed3",
   "metadata": {
    "tags": []
   },
   "outputs": [],
   "source": [
    "numeric_cols_to_check = []\n",
    "non_numeric_cols_to_check = []\n",
    "def check_numerical_value(col):\n",
    "    try:\n",
    "        col_max = df[col].max()\n",
    "        col_min = df[col].min() \n",
    "        if col_min < 0:\n",
    "            print(f\"In the col**** {col}*** there is at leat a value under 0 ******* check!\")\n",
    "            numeric_cols_to_check.append({col +\"_min\": col_min})\n",
    "        if col_max > 1:\n",
    "            print(f\"In the col **** {col} **** there is at leat a value over 1 it makes sense? *********** check!\")\n",
    "            numeric_cols_to_check.append({col + \"_max\": col_max})\n",
    "        else:\n",
    "            print(f\"the next numerical col seem not to present incosistencies: {col}\")\n",
    "    except:\n",
    "        non_numeric_cols_to_check.append(col)\n",
    "        print(f\"---------column {col} not checked - not numerical col ----------------\")"
   ]
  },
  {
   "cell_type": "code",
   "execution_count": 17,
   "id": "c85544d0-35d8-4391-8d43-feb611d0e3e7",
   "metadata": {},
   "outputs": [
    {
     "name": "stdout",
     "output_type": "stream",
     "text": [
      "---------column Item_Identifier not checked - not numerical col ----------------\n",
      "---------column Item_Fat_Content not checked - not numerical col ----------------\n",
      "the next numerical col seem not to present incosistencies: Item_Visibility\n",
      "---------column Item_Type not checked - not numerical col ----------------\n",
      "In the col **** Item_MRP **** there is at leat a value over 1 it makes sense? *********** check!\n",
      "---------column Outlet_Identifier not checked - not numerical col ----------------\n",
      "---------column Outlet_Size not checked - not numerical col ----------------\n",
      "---------column Outlet_Location_Type not checked - not numerical col ----------------\n",
      "---------column Outlet_Type not checked - not numerical col ----------------\n",
      "In the col **** Item_Outlet_Sales **** there is at leat a value over 1 it makes sense? *********** check!\n",
      "\n",
      " Check this values: [{'Item_MRP_max': 266.8884}, {'Item_Outlet_Sales_max': 13086.9648}]\n",
      "\n",
      " Non mumeric columns to check:  ['Item_Identifier', 'Item_Fat_Content', 'Item_Type', 'Outlet_Identifier', 'Outlet_Size', 'Outlet_Location_Type', 'Outlet_Type']\n"
     ]
    }
   ],
   "source": [
    "for colum in list(df.columns):\n",
    "    check_numerical_value(colum)\n",
    "print(\"\\n\",\"Check this values:\", numeric_cols_to_check)\n",
    "print(\"\\n\", \"Non mumeric columns to check: \",non_numeric_cols_to_check)"
   ]
  },
  {
   "cell_type": "markdown",
   "id": "cca56dfa-2c16-4ccd-a0a1-29b501717aa8",
   "metadata": {},
   "source": [
    "There is consistency in the type of information in each column, and the maximum values in the columns Iten_MRP_max and Item_Outlet_Sales_max make sense. Now let's check categorical columns."
   ]
  },
  {
   "cell_type": "markdown",
   "id": "3bc3f835-7a3a-4efa-b823-8076a8b337a6",
   "metadata": {
    "tags": []
   },
   "source": [
    "#### Categorical columns"
   ]
  },
  {
   "cell_type": "code",
   "execution_count": 18,
   "id": "19d07afe-cdbc-439a-8c6b-97e4d6f2af38",
   "metadata": {},
   "outputs": [
    {
     "name": "stdout",
     "output_type": "stream",
     "text": [
      "\n",
      " Item_Identifier ['FDA15' 'DRC01' 'FDN15' ... 'NCF55' 'NCW30' 'NCW05']\n",
      "\n",
      " Item_Fat_Content ['Low Fat' 'Regular' 'low fat' 'LF' 'reg']\n",
      "\n",
      " Item_Type ['Dairy' 'Soft Drinks' 'Meat' 'Fruits and Vegetables' 'Household'\n",
      " 'Baking Goods' 'Snack Foods' 'Frozen Foods' 'Breakfast'\n",
      " 'Health and Hygiene' 'Hard Drinks' 'Canned' 'Breads' 'Starchy Foods'\n",
      " 'Others' 'Seafood']\n",
      "\n",
      " Outlet_Identifier ['OUT049' 'OUT018' 'OUT010' 'OUT013' 'OUT027' 'OUT045' 'OUT017' 'OUT046'\n",
      " 'OUT035' 'OUT019']\n",
      "\n",
      " Outlet_Size ['Medium' nan 'High' 'Small']\n",
      "\n",
      " Outlet_Location_Type ['Tier 1' 'Tier 3' 'Tier 2']\n",
      "\n",
      " Outlet_Type ['Supermarket Type1' 'Supermarket Type2' 'Grocery Store'\n",
      " 'Supermarket Type3']\n"
     ]
    }
   ],
   "source": [
    "for column in non_numeric_cols_to_check:\n",
    "    print(\"\\n\", column, df[column].unique())"
   ]
  },
  {
   "cell_type": "markdown",
   "id": "f2fcb55a-8da0-4f39-b6b4-622b7d8ff2d4",
   "metadata": {},
   "source": [
    "Let's confirm the number of products"
   ]
  },
  {
   "cell_type": "markdown",
   "id": "cdc488f7-90a6-4dfe-ba02-a36c3f6fbfe7",
   "metadata": {
    "tags": []
   },
   "source": [
    "<div style=\"background-color:rgb(150,0,0); padding:10px;\">\n",
    "    <p>There are some irregularities in the Item_Fat_Content; it can be deduced that</p>\n",
    "    <ul>\n",
    "        <li>LF = Low Fat</li>\n",
    "        <li>low fat = Low Fat</li>\n",
    "        <li>reg = Regular</li>\n",
    "    </ul>\n",
    "</div>"
   ]
  },
  {
   "cell_type": "code",
   "execution_count": 4,
   "id": "ebbbec18-4328-4810-a85b-b48c8b8ec176",
   "metadata": {},
   "outputs": [
    {
     "data": {
      "text/plain": [
       "array(['Low Fat', 'Regular'], dtype=object)"
      ]
     },
     "execution_count": 4,
     "metadata": {},
     "output_type": "execute_result"
    }
   ],
   "source": [
    "df[\"Item_Fat_Content\"].replace([\"LF\",\"reg\",\"low fat\"],[\"Low Fat\", \"Regular\",\"Low Fat\"], inplace=True)\n",
    "df[\"Item_Fat_Content\"].unique()"
   ]
  },
  {
   "cell_type": "code",
   "execution_count": 5,
   "id": "2b2173e1-addd-4087-8a7e-42a55a51a7f7",
   "metadata": {},
   "outputs": [
    {
     "data": {
      "text/plain": [
       "1559"
      ]
     },
     "execution_count": 5,
     "metadata": {},
     "output_type": "execute_result"
    }
   ],
   "source": [
    "len(df[\"Item_Identifier\"].unique()) # this will give us the number of products. As was said the numbero of products os 1559a"
   ]
  },
  {
   "cell_type": "markdown",
   "id": "70d967c6-6949-485a-8a49-a775ff5102f9",
   "metadata": {},
   "source": [
    "Missing values in the column \"Outlet_size\" will be covered in the next section. The rest of the columns do not seem to present categorical inconsistencies. "
   ]
  },
  {
   "cell_type": "markdown",
   "id": "def71c53-d845-4f42-9874-55a48c2d5bd8",
   "metadata": {
    "tags": []
   },
   "source": [
    "### Identifying and Handling Missing Data"
   ]
  },
  {
   "cell_type": "markdown",
   "id": "335a3fa2-0909-4d8f-8ed8-762605a98ec0",
   "metadata": {},
   "source": [
    " Missing data in the column \"Outlet_Size\" was categorized as NaN."
   ]
  },
  {
   "cell_type": "markdown",
   "id": "28bf2bb9-ee3d-47c7-932a-a04cf7c8270a",
   "metadata": {},
   "source": [
    "Since the outlet size can be considered as an important feature to take into account when doing predictions of sales it is a good idea group the information in order to find patterns that can be useful to make decisions about the missing information."
   ]
  },
  {
   "cell_type": "code",
   "execution_count": 21,
   "id": "9e39ba51-2b2c-43df-a060-3a87d3601a61",
   "metadata": {},
   "outputs": [
    {
     "data": {
      "text/plain": [
       "Outlet_Type        Outlet_Location_Type  Outlet_Identifier\n",
       "Grocery Store      Tier 1                OUT019                [Small]\n",
       "                   Tier 3                OUT010                  [nan]\n",
       "Supermarket Type1  Tier 1                OUT046                [Small]\n",
       "                                         OUT049               [Medium]\n",
       "                   Tier 2                OUT017                  [nan]\n",
       "                                         OUT035                [Small]\n",
       "                                         OUT045                  [nan]\n",
       "                   Tier 3                OUT013                 [High]\n",
       "Supermarket Type2  Tier 3                OUT018               [Medium]\n",
       "Supermarket Type3  Tier 3                OUT027               [Medium]\n",
       "Name: Outlet_Size, dtype: object"
      ]
     },
     "execution_count": 21,
     "metadata": {},
     "output_type": "execute_result"
    }
   ],
   "source": [
    "df.groupby([\"Outlet_Type\",\"Outlet_Location_Type\",\"Outlet_Identifier\"])[\"Outlet_Size\"].unique()"
   ]
  },
  {
   "cell_type": "markdown",
   "id": "038db31b-56be-4dda-b9b0-3382355ed64f",
   "metadata": {},
   "source": [
    "Having seen the structure of the information in the column 'outlet size', it is no possible to determine to which category belong the rows with missing values, so those rows will be labeled as \"Missing\" in the column Outlet_Size."
   ]
  },
  {
   "cell_type": "code",
   "execution_count": 5,
   "id": "bba160f5-dcdd-454f-9ef0-0967035878a4",
   "metadata": {},
   "outputs": [
    {
     "data": {
      "text/plain": [
       "0"
      ]
     },
     "execution_count": 5,
     "metadata": {},
     "output_type": "execute_result"
    }
   ],
   "source": [
    "df[\"Outlet_Size\"] = df[\"Outlet_Size\"].fillna(\"Missing\")\n",
    "df[\"Outlet_Size\"].isna().sum()"
   ]
  },
  {
   "cell_type": "markdown",
   "id": "be327f9a-94f6-48d4-8f9d-10d333a29558",
   "metadata": {
    "tags": []
   },
   "source": [
    "### Validating and QA"
   ]
  },
  {
   "cell_type": "code",
   "execution_count": 6,
   "id": "a087df93-bb31-47b2-ba75-1c5293c66831",
   "metadata": {
    "tags": []
   },
   "outputs": [
    {
     "data": {
      "text/html": [
       "<div>\n",
       "<style scoped>\n",
       "    .dataframe tbody tr th:only-of-type {\n",
       "        vertical-align: middle;\n",
       "    }\n",
       "\n",
       "    .dataframe tbody tr th {\n",
       "        vertical-align: top;\n",
       "    }\n",
       "\n",
       "    .dataframe thead th {\n",
       "        text-align: right;\n",
       "    }\n",
       "</style>\n",
       "<table border=\"1\" class=\"dataframe\">\n",
       "  <thead>\n",
       "    <tr style=\"text-align: right;\">\n",
       "      <th></th>\n",
       "      <th>Item_Identifier</th>\n",
       "      <th>Item_Fat_Content</th>\n",
       "      <th>Item_Visibility</th>\n",
       "      <th>Item_Type</th>\n",
       "      <th>Item_MRP</th>\n",
       "      <th>Outlet_Identifier</th>\n",
       "      <th>Outlet_Size</th>\n",
       "      <th>Outlet_Location_Type</th>\n",
       "      <th>Outlet_Type</th>\n",
       "      <th>Item_Outlet_Sales</th>\n",
       "    </tr>\n",
       "  </thead>\n",
       "  <tbody>\n",
       "    <tr>\n",
       "      <th>2879</th>\n",
       "      <td>DRA24</td>\n",
       "      <td>Regular</td>\n",
       "      <td>0.069909</td>\n",
       "      <td>Soft Drinks</td>\n",
       "      <td>163.2868</td>\n",
       "      <td>OUT019</td>\n",
       "      <td>Small</td>\n",
       "      <td>Tier 1</td>\n",
       "      <td>Grocery Store</td>\n",
       "      <td>491.3604</td>\n",
       "    </tr>\n",
       "    <tr>\n",
       "      <th>6179</th>\n",
       "      <td>DRA59</td>\n",
       "      <td>Regular</td>\n",
       "      <td>0.223985</td>\n",
       "      <td>Soft Drinks</td>\n",
       "      <td>186.2924</td>\n",
       "      <td>OUT019</td>\n",
       "      <td>Small</td>\n",
       "      <td>Tier 1</td>\n",
       "      <td>Grocery Store</td>\n",
       "      <td>555.2772</td>\n",
       "    </tr>\n",
       "    <tr>\n",
       "      <th>1708</th>\n",
       "      <td>DRC25</td>\n",
       "      <td>Low Fat</td>\n",
       "      <td>0.079440</td>\n",
       "      <td>Soft Drinks</td>\n",
       "      <td>86.7882</td>\n",
       "      <td>OUT019</td>\n",
       "      <td>Small</td>\n",
       "      <td>Tier 1</td>\n",
       "      <td>Grocery Store</td>\n",
       "      <td>85.8882</td>\n",
       "    </tr>\n",
       "    <tr>\n",
       "      <th>2950</th>\n",
       "      <td>DRD15</td>\n",
       "      <td>Low Fat</td>\n",
       "      <td>0.099442</td>\n",
       "      <td>Dairy</td>\n",
       "      <td>233.1642</td>\n",
       "      <td>OUT019</td>\n",
       "      <td>Small</td>\n",
       "      <td>Tier 1</td>\n",
       "      <td>Grocery Store</td>\n",
       "      <td>697.0926</td>\n",
       "    </tr>\n",
       "    <tr>\n",
       "      <th>2766</th>\n",
       "      <td>DRD25</td>\n",
       "      <td>Low Fat</td>\n",
       "      <td>0.138270</td>\n",
       "      <td>Soft Drinks</td>\n",
       "      <td>111.6860</td>\n",
       "      <td>OUT019</td>\n",
       "      <td>Small</td>\n",
       "      <td>Tier 1</td>\n",
       "      <td>Grocery Store</td>\n",
       "      <td>452.7440</td>\n",
       "    </tr>\n",
       "  </tbody>\n",
       "</table>\n",
       "</div>"
      ],
      "text/plain": [
       "     Item_Identifier Item_Fat_Content  Item_Visibility    Item_Type  Item_MRP  \\\n",
       "2879           DRA24          Regular         0.069909  Soft Drinks  163.2868   \n",
       "6179           DRA59          Regular         0.223985  Soft Drinks  186.2924   \n",
       "1708           DRC25          Low Fat         0.079440  Soft Drinks   86.7882   \n",
       "2950           DRD15          Low Fat         0.099442        Dairy  233.1642   \n",
       "2766           DRD25          Low Fat         0.138270  Soft Drinks  111.6860   \n",
       "\n",
       "     Outlet_Identifier Outlet_Size Outlet_Location_Type    Outlet_Type  \\\n",
       "2879            OUT019       Small               Tier 1  Grocery Store   \n",
       "6179            OUT019       Small               Tier 1  Grocery Store   \n",
       "1708            OUT019       Small               Tier 1  Grocery Store   \n",
       "2950            OUT019       Small               Tier 1  Grocery Store   \n",
       "2766            OUT019       Small               Tier 1  Grocery Store   \n",
       "\n",
       "      Item_Outlet_Sales  \n",
       "2879           491.3604  \n",
       "6179           555.2772  \n",
       "1708            85.8882  \n",
       "2950           697.0926  \n",
       "2766           452.7440  "
      ]
     },
     "execution_count": 6,
     "metadata": {},
     "output_type": "execute_result"
    }
   ],
   "source": [
    "df = df.sort_values([\"Outlet_Location_Type\",\"Outlet_Type\",\"Outlet_Identifier\",\"Item_Identifier\"])\n",
    "df.head()"
   ]
  },
  {
   "cell_type": "code",
   "execution_count": 7,
   "id": "882f44e8-e475-4c35-ac78-90b613577cc3",
   "metadata": {},
   "outputs": [
    {
     "data": {
      "text/html": [
       "<div>\n",
       "<style scoped>\n",
       "    .dataframe tbody tr th:only-of-type {\n",
       "        vertical-align: middle;\n",
       "    }\n",
       "\n",
       "    .dataframe tbody tr th {\n",
       "        vertical-align: top;\n",
       "    }\n",
       "\n",
       "    .dataframe thead th {\n",
       "        text-align: right;\n",
       "    }\n",
       "</style>\n",
       "<table border=\"1\" class=\"dataframe\">\n",
       "  <thead>\n",
       "    <tr style=\"text-align: right;\">\n",
       "      <th></th>\n",
       "      <th></th>\n",
       "      <th></th>\n",
       "      <th></th>\n",
       "      <th>Item_Fat_Content</th>\n",
       "      <th>Item_Visibility</th>\n",
       "      <th>Item_Type</th>\n",
       "      <th>Item_MRP</th>\n",
       "      <th>Outlet_Size</th>\n",
       "      <th>Item_Outlet_Sales</th>\n",
       "    </tr>\n",
       "    <tr>\n",
       "      <th>Outlet_Location_Type</th>\n",
       "      <th>Outlet_Type</th>\n",
       "      <th>Outlet_Identifier</th>\n",
       "      <th>Item_Identifier</th>\n",
       "      <th></th>\n",
       "      <th></th>\n",
       "      <th></th>\n",
       "      <th></th>\n",
       "      <th></th>\n",
       "      <th></th>\n",
       "    </tr>\n",
       "  </thead>\n",
       "  <tbody>\n",
       "    <tr>\n",
       "      <th rowspan=\"5\" valign=\"top\">Tier 1</th>\n",
       "      <th rowspan=\"5\" valign=\"top\">Grocery Store</th>\n",
       "      <th rowspan=\"5\" valign=\"top\">OUT019</th>\n",
       "      <th>DRA24</th>\n",
       "      <td>Regular</td>\n",
       "      <td>0.069909</td>\n",
       "      <td>Soft Drinks</td>\n",
       "      <td>163.2868</td>\n",
       "      <td>Small</td>\n",
       "      <td>491.3604</td>\n",
       "    </tr>\n",
       "    <tr>\n",
       "      <th>DRA59</th>\n",
       "      <td>Regular</td>\n",
       "      <td>0.223985</td>\n",
       "      <td>Soft Drinks</td>\n",
       "      <td>186.2924</td>\n",
       "      <td>Small</td>\n",
       "      <td>555.2772</td>\n",
       "    </tr>\n",
       "    <tr>\n",
       "      <th>DRC25</th>\n",
       "      <td>Low Fat</td>\n",
       "      <td>0.079440</td>\n",
       "      <td>Soft Drinks</td>\n",
       "      <td>86.7882</td>\n",
       "      <td>Small</td>\n",
       "      <td>85.8882</td>\n",
       "    </tr>\n",
       "    <tr>\n",
       "      <th>DRD15</th>\n",
       "      <td>Low Fat</td>\n",
       "      <td>0.099442</td>\n",
       "      <td>Dairy</td>\n",
       "      <td>233.1642</td>\n",
       "      <td>Small</td>\n",
       "      <td>697.0926</td>\n",
       "    </tr>\n",
       "    <tr>\n",
       "      <th>DRD25</th>\n",
       "      <td>Low Fat</td>\n",
       "      <td>0.138270</td>\n",
       "      <td>Soft Drinks</td>\n",
       "      <td>111.6860</td>\n",
       "      <td>Small</td>\n",
       "      <td>452.7440</td>\n",
       "    </tr>\n",
       "    <tr>\n",
       "      <th>...</th>\n",
       "      <th>...</th>\n",
       "      <th>...</th>\n",
       "      <th>...</th>\n",
       "      <td>...</td>\n",
       "      <td>...</td>\n",
       "      <td>...</td>\n",
       "      <td>...</td>\n",
       "      <td>...</td>\n",
       "      <td>...</td>\n",
       "    </tr>\n",
       "    <tr>\n",
       "      <th rowspan=\"5\" valign=\"top\">Tier 3</th>\n",
       "      <th rowspan=\"5\" valign=\"top\">Supermarket Type3</th>\n",
       "      <th rowspan=\"5\" valign=\"top\">OUT027</th>\n",
       "      <th>NCZ06</th>\n",
       "      <td>Low Fat</td>\n",
       "      <td>0.093706</td>\n",
       "      <td>Household</td>\n",
       "      <td>253.8698</td>\n",
       "      <td>Medium</td>\n",
       "      <td>3297.7074</td>\n",
       "    </tr>\n",
       "    <tr>\n",
       "      <th>NCZ17</th>\n",
       "      <td>Low Fat</td>\n",
       "      <td>0.079047</td>\n",
       "      <td>Health and Hygiene</td>\n",
       "      <td>39.8506</td>\n",
       "      <td>Medium</td>\n",
       "      <td>1480.0734</td>\n",
       "    </tr>\n",
       "    <tr>\n",
       "      <th>NCZ30</th>\n",
       "      <td>Low Fat</td>\n",
       "      <td>0.026058</td>\n",
       "      <td>Household</td>\n",
       "      <td>121.9098</td>\n",
       "      <td>Medium</td>\n",
       "      <td>3374.2744</td>\n",
       "    </tr>\n",
       "    <tr>\n",
       "      <th>NCZ53</th>\n",
       "      <td>Low Fat</td>\n",
       "      <td>0.024359</td>\n",
       "      <td>Health and Hygiene</td>\n",
       "      <td>190.4214</td>\n",
       "      <td>Medium</td>\n",
       "      <td>5652.6420</td>\n",
       "    </tr>\n",
       "    <tr>\n",
       "      <th>NCZ54</th>\n",
       "      <td>Low Fat</td>\n",
       "      <td>0.082956</td>\n",
       "      <td>Household</td>\n",
       "      <td>164.0552</td>\n",
       "      <td>Medium</td>\n",
       "      <td>5523.4768</td>\n",
       "    </tr>\n",
       "  </tbody>\n",
       "</table>\n",
       "<p>8523 rows × 6 columns</p>\n",
       "</div>"
      ],
      "text/plain": [
       "                                                                         Item_Fat_Content  \\\n",
       "Outlet_Location_Type Outlet_Type       Outlet_Identifier Item_Identifier                    \n",
       "Tier 1               Grocery Store     OUT019            DRA24                    Regular   \n",
       "                                                         DRA59                    Regular   \n",
       "                                                         DRC25                    Low Fat   \n",
       "                                                         DRD15                    Low Fat   \n",
       "                                                         DRD25                    Low Fat   \n",
       "...                                                                                   ...   \n",
       "Tier 3               Supermarket Type3 OUT027            NCZ06                    Low Fat   \n",
       "                                                         NCZ17                    Low Fat   \n",
       "                                                         NCZ30                    Low Fat   \n",
       "                                                         NCZ53                    Low Fat   \n",
       "                                                         NCZ54                    Low Fat   \n",
       "\n",
       "                                                                          Item_Visibility  \\\n",
       "Outlet_Location_Type Outlet_Type       Outlet_Identifier Item_Identifier                    \n",
       "Tier 1               Grocery Store     OUT019            DRA24                   0.069909   \n",
       "                                                         DRA59                   0.223985   \n",
       "                                                         DRC25                   0.079440   \n",
       "                                                         DRD15                   0.099442   \n",
       "                                                         DRD25                   0.138270   \n",
       "...                                                                                   ...   \n",
       "Tier 3               Supermarket Type3 OUT027            NCZ06                   0.093706   \n",
       "                                                         NCZ17                   0.079047   \n",
       "                                                         NCZ30                   0.026058   \n",
       "                                                         NCZ53                   0.024359   \n",
       "                                                         NCZ54                   0.082956   \n",
       "\n",
       "                                                                                   Item_Type  \\\n",
       "Outlet_Location_Type Outlet_Type       Outlet_Identifier Item_Identifier                       \n",
       "Tier 1               Grocery Store     OUT019            DRA24                   Soft Drinks   \n",
       "                                                         DRA59                   Soft Drinks   \n",
       "                                                         DRC25                   Soft Drinks   \n",
       "                                                         DRD15                         Dairy   \n",
       "                                                         DRD25                   Soft Drinks   \n",
       "...                                                                                      ...   \n",
       "Tier 3               Supermarket Type3 OUT027            NCZ06                     Household   \n",
       "                                                         NCZ17            Health and Hygiene   \n",
       "                                                         NCZ30                     Household   \n",
       "                                                         NCZ53            Health and Hygiene   \n",
       "                                                         NCZ54                     Household   \n",
       "\n",
       "                                                                          Item_MRP  \\\n",
       "Outlet_Location_Type Outlet_Type       Outlet_Identifier Item_Identifier             \n",
       "Tier 1               Grocery Store     OUT019            DRA24            163.2868   \n",
       "                                                         DRA59            186.2924   \n",
       "                                                         DRC25             86.7882   \n",
       "                                                         DRD15            233.1642   \n",
       "                                                         DRD25            111.6860   \n",
       "...                                                                            ...   \n",
       "Tier 3               Supermarket Type3 OUT027            NCZ06            253.8698   \n",
       "                                                         NCZ17             39.8506   \n",
       "                                                         NCZ30            121.9098   \n",
       "                                                         NCZ53            190.4214   \n",
       "                                                         NCZ54            164.0552   \n",
       "\n",
       "                                                                         Outlet_Size  \\\n",
       "Outlet_Location_Type Outlet_Type       Outlet_Identifier Item_Identifier               \n",
       "Tier 1               Grocery Store     OUT019            DRA24                 Small   \n",
       "                                                         DRA59                 Small   \n",
       "                                                         DRC25                 Small   \n",
       "                                                         DRD15                 Small   \n",
       "                                                         DRD25                 Small   \n",
       "...                                                                              ...   \n",
       "Tier 3               Supermarket Type3 OUT027            NCZ06                Medium   \n",
       "                                                         NCZ17                Medium   \n",
       "                                                         NCZ30                Medium   \n",
       "                                                         NCZ53                Medium   \n",
       "                                                         NCZ54                Medium   \n",
       "\n",
       "                                                                          Item_Outlet_Sales  \n",
       "Outlet_Location_Type Outlet_Type       Outlet_Identifier Item_Identifier                     \n",
       "Tier 1               Grocery Store     OUT019            DRA24                     491.3604  \n",
       "                                                         DRA59                     555.2772  \n",
       "                                                         DRC25                      85.8882  \n",
       "                                                         DRD15                     697.0926  \n",
       "                                                         DRD25                     452.7440  \n",
       "...                                                                                     ...  \n",
       "Tier 3               Supermarket Type3 OUT027            NCZ06                    3297.7074  \n",
       "                                                         NCZ17                    1480.0734  \n",
       "                                                         NCZ30                    3374.2744  \n",
       "                                                         NCZ53                    5652.6420  \n",
       "                                                         NCZ54                    5523.4768  \n",
       "\n",
       "[8523 rows x 6 columns]"
      ]
     },
     "execution_count": 7,
     "metadata": {},
     "output_type": "execute_result"
    }
   ],
   "source": [
    "df_indexed = df.set_index([\"Outlet_Location_Type\",\"Outlet_Type\",\"Outlet_Identifier\",\"Item_Identifier\"])\n",
    "df_indexed"
   ]
  },
  {
   "cell_type": "markdown",
   "id": "da7c26fd-58a5-48e4-8a9b-5c10ea75e342",
   "metadata": {},
   "source": [
    "Let's generate a csv file to save the cleaning information"
   ]
  },
  {
   "cell_type": "code",
   "execution_count": 117,
   "id": "e259c32f-7490-4d92-8163-3da1c794e929",
   "metadata": {},
   "outputs": [],
   "source": [
    "df_indexed.to_csv(path_or_buf=\"food_sales_forecast_cleaned.csv\")"
   ]
  },
  {
   "cell_type": "markdown",
   "id": "f2f198df-e31a-43de-b5b0-314c02041544",
   "metadata": {
    "tags": []
   },
   "source": [
    "## Summary Statistics"
   ]
  },
  {
   "cell_type": "code",
   "execution_count": 9,
   "id": "7630c299-354d-4a77-a2b0-29f1751812e9",
   "metadata": {},
   "outputs": [
    {
     "data": {
      "text/html": [
       "<div>\n",
       "<style scoped>\n",
       "    .dataframe tbody tr th:only-of-type {\n",
       "        vertical-align: middle;\n",
       "    }\n",
       "\n",
       "    .dataframe tbody tr th {\n",
       "        vertical-align: top;\n",
       "    }\n",
       "\n",
       "    .dataframe thead th {\n",
       "        text-align: right;\n",
       "    }\n",
       "</style>\n",
       "<table border=\"1\" class=\"dataframe\">\n",
       "  <thead>\n",
       "    <tr style=\"text-align: right;\">\n",
       "      <th></th>\n",
       "      <th>Item_Visibility</th>\n",
       "      <th>Item_MRP</th>\n",
       "      <th>Item_Outlet_Sales</th>\n",
       "    </tr>\n",
       "  </thead>\n",
       "  <tbody>\n",
       "    <tr>\n",
       "      <th>count</th>\n",
       "      <td>8523.000000</td>\n",
       "      <td>8523.000000</td>\n",
       "      <td>8523.000000</td>\n",
       "    </tr>\n",
       "    <tr>\n",
       "      <th>mean</th>\n",
       "      <td>0.066132</td>\n",
       "      <td>140.992782</td>\n",
       "      <td>2181.288914</td>\n",
       "    </tr>\n",
       "    <tr>\n",
       "      <th>std</th>\n",
       "      <td>0.051598</td>\n",
       "      <td>62.275067</td>\n",
       "      <td>1706.499616</td>\n",
       "    </tr>\n",
       "    <tr>\n",
       "      <th>min</th>\n",
       "      <td>0.000000</td>\n",
       "      <td>31.290000</td>\n",
       "      <td>33.290000</td>\n",
       "    </tr>\n",
       "    <tr>\n",
       "      <th>25%</th>\n",
       "      <td>0.026989</td>\n",
       "      <td>93.826500</td>\n",
       "      <td>834.247400</td>\n",
       "    </tr>\n",
       "    <tr>\n",
       "      <th>50%</th>\n",
       "      <td>0.053931</td>\n",
       "      <td>143.012800</td>\n",
       "      <td>1794.331000</td>\n",
       "    </tr>\n",
       "    <tr>\n",
       "      <th>75%</th>\n",
       "      <td>0.094585</td>\n",
       "      <td>185.643700</td>\n",
       "      <td>3101.296400</td>\n",
       "    </tr>\n",
       "    <tr>\n",
       "      <th>max</th>\n",
       "      <td>0.328391</td>\n",
       "      <td>266.888400</td>\n",
       "      <td>13086.964800</td>\n",
       "    </tr>\n",
       "  </tbody>\n",
       "</table>\n",
       "</div>"
      ],
      "text/plain": [
       "       Item_Visibility     Item_MRP  Item_Outlet_Sales\n",
       "count      8523.000000  8523.000000        8523.000000\n",
       "mean          0.066132   140.992782        2181.288914\n",
       "std           0.051598    62.275067        1706.499616\n",
       "min           0.000000    31.290000          33.290000\n",
       "25%           0.026989    93.826500         834.247400\n",
       "50%           0.053931   143.012800        1794.331000\n",
       "75%           0.094585   185.643700        3101.296400\n",
       "max           0.328391   266.888400       13086.964800"
      ]
     },
     "execution_count": 9,
     "metadata": {},
     "output_type": "execute_result"
    }
   ],
   "source": [
    "df.describe()"
   ]
  },
  {
   "cell_type": "markdown",
   "id": "67551f2a-9f2d-41a1-af72-01a0dd73d748",
   "metadata": {
    "tags": []
   },
   "source": [
    "## Visualizations"
   ]
  },
  {
   "cell_type": "code",
   "execution_count": null,
   "id": "3528973d-476b-4e55-b349-f7945939a09b",
   "metadata": {},
   "outputs": [],
   "source": [
    "plt.style.use(\"seaborn\")"
   ]
  },
  {
   "cell_type": "raw",
   "id": "bef0816e-0557-4a91-95f4-af3f3a69c5f7",
   "metadata": {},
   "source": [
    "Object Oriented Style"
   ]
  },
  {
   "cell_type": "markdown",
   "id": "e1ade34c",
   "metadata": {},
   "source": [
    "In order to visualize the data, the following graphs were created:\n",
    "1. Histograms of the columns \"Item_Visibility\", \"Item_MRP\" and \"Item_Outlet_Sales\", this will help to understand the distribution of the prices of the products and the sales.\n",
    "2. Boxplots of the columns  \"Item_MRP\" and \"Item_Outlet_Sales\" this to understand how prices affect sales.\n",
    "3. Barplot of the columns \"Sales\" vs \"Item_Type\" this to identify the products that generate more sales and the products that generate less sales.\n",
    "4. Pie chart of the columns \"Outlet_Type\", \"Outlet_Location_type\" and \"Sales\", this to identify the percentage of sales in each type of store and the percentage of sales in each type of city.\n",
    "5. Heatmap of the numerical columns, this to identify the correlation between the numerical columns."
   ]
  },
  {
   "cell_type": "markdown",
   "id": "a6c65824",
   "metadata": {},
   "source": [
    "### Histograms"
   ]
  },
  {
   "cell_type": "code",
   "execution_count": 11,
   "id": "640b991a-67b9-41f1-bd8e-d311d7dcd6ea",
   "metadata": {},
   "outputs": [
    {
     "data": {
      "image/png": "[encoded data removed]",
      "text/plain": [
       "<Figure size 1500x1000 with 3 Axes>"
      ]
     },
     "metadata": {},
     "output_type": "display_data"
    }
   ],
   "source": [
    "# create 1x2 grid of axis subplots\n",
    "#fig = plt.figure(dpi=150)\n",
    "fig, (ax1, ax2, ax3) = plt.subplots(1, 3, figsize=(15, 10))\n",
    "axs = [ax1,ax2, ax3]\n",
    "\n",
    "for n in range(0,len(axs)):\n",
    "    columns = [\"Item_Visibility\", \"Item_Outlet_Sales\", \"Item_MRP\"]\n",
    "    titles = [\"Visibility Percentage\", \"Sales\", \"Maximun Retail Price\"]\n",
    "    axs[n].hist(df[columns[n]], bins=30, edgecolor=\"black\")\n",
    "    #axs[n].set_title(columns[n])\n",
    "    #axs[n].set_xlabel(xlabels[n])\n",
    "    axs[n].set_title(titles[n])\n",
    "    \n",
    "#_ = plt.title(\"Sales and Visibility Histograms\", loc=\"center\")"
   ]
  },
  {
   "cell_type": "markdown",
   "id": "27b2c69f",
   "metadata": {},
   "source": [
    "Observations:\n",
    "1. The **distribution** of the studied variables is **not normal**, it is **skewed to the left**.\n",
    "2. The **majority of the products** have a **price between 100 and 200**.\n",
    "3. The **majority of the outlets** present **sales under 2500 dollars**.\n",
    "4. The **visibility** of the products is not normal is **under the 20%** of the total display area of all products in a store.\n",
    "5. The majority of the products have a visibility between 0 and 10%."
   ]
  },
  {
   "cell_type": "raw",
   "id": "5e653ad0-fcca-47ba-b256-881e3fb06464",
   "metadata": {},
   "source": [
    "MATLAB style"
   ]
  },
  {
   "cell_type": "markdown",
   "id": "e32cdf99",
   "metadata": {},
   "source": [
    "<h3 id=\"1.\"> Boxplots </h3>"
   ]
  },
  {
   "cell_type": "code",
   "execution_count": 12,
   "id": "618a6ece-47c8-4a44-a179-09fcdac51b91",
   "metadata": {},
   "outputs": [
    {
     "data": {
      "image/png": "[encoded data removed]",
      "text/plain": [
       "<Figure size 800x550 with 1 Axes>"
      ]
     },
     "metadata": {},
     "output_type": "display_data"
    }
   ],
   "source": [
    "sns.boxplot(x='Item_MRP', y='Item_Type', data=df)\n",
    "plt.ylabel(\"Category\", fontsize=14)\n",
    "plt.xlabel(\"Maximun Retail Price\", fontsize=14)\n",
    "plt.show()"
   ]
  },
  {
   "cell_type": "markdown",
   "id": "15bab758-992b-4446-820a-54fca8bfb7b3",
   "metadata": {},
   "source": [
    "### Bar Chart of Items Type vs Sales\n",
    "In order to identify the products that generate more sales and the products that generate less sales, the following bar chart was created."
   ]
  },
  {
   "cell_type": "raw",
   "id": "24bff898-82bf-49e5-b473-d389a5d40383",
   "metadata": {},
   "source": [
    "Combination"
   ]
  },
  {
   "cell_type": "code",
   "execution_count": 10,
   "id": "6b262496-d6bd-41f4-bd1b-a8b19a0b0467",
   "metadata": {},
   "outputs": [
    {
     "data": {
      "image/png": "[encoded data removed]",
      "text/plain": [
       "<Figure size 1200x825 with 1 Axes>"
      ]
     },
     "metadata": {},
     "output_type": "display_data"
    }
   ],
   "source": [
    "categories = df.groupby(\"Item_Type\")[\"Item_Outlet_Sales\"].sum()  \n",
    "fig1 = plt.figure(dpi=150)\n",
    "ax1 = fig1.add_subplot(1,1,1)\n",
    "bars = ax1.bar(list(categories.index),categories, align='center', linewidth=0, color='lightslategrey')\n",
    "plt.xlabel(\"Item Type\")\n",
    "plt.xticks(rotation = 90)\n",
    "plt.ylabel(\"Sales\")\n",
    "height_up = bars[5].get_height()\n",
    "height_down = bars[15].get_height()\n",
    "for bar in bars:\n",
    "    height = bar.get_height()\n",
    "    if height > height_up:\n",
    "        bar.set_color('#1F77B4')\n",
    "    elif height < height_down:\n",
    "        bar.set_color(\"#ff6347\")\n",
    "#plt.show()"
   ]
  },
  {
   "cell_type": "markdown",
   "id": "8655a50f-82e7-4e63-84cc-47cd47aa6558",
   "metadata": {},
   "source": [
    "Observations:\n",
    "1. The categories Fruits and vegetables, Household and Snack Food are the best sellers. On the other hand, the    categories Breakfast, Others and seafood were the least sold.\n",
    "\n"
   ]
  },
  {
   "cell_type": "markdown",
   "id": "a94987bc",
   "metadata": {},
   "source": [
    "###  Sales by Location and Outlet Type\n",
    "In order to identify the **percentage of sales in each type of store and the percentage of sales in each type of city**, the following pie charts were created:\n",
    "1. Bar chart of the columns \"Outlet_Type\" vs \"Sales\", grouped by location, this to identify the percentage of sales in each type of store in each type of city.\n",
    "2. Pie chart of the columns \"Outlet_Type\", this to identify the percentage of sales in each type of store.\n",
    "3. Pie chart of the columns \"Outlet_Location_type\", this to identify the percentage of sales in each type of city."
   ]
  },
  {
   "cell_type": "markdown",
   "id": "258bd655",
   "metadata": {},
   "source": [
    "<h4 id=\"sales_by_outlet_type_and_location\"> Bar Chart of Outlet Type vs Sales, Grouped by Location </h4>"
   ]
  },
  {
   "cell_type": "code",
   "execution_count": 14,
   "id": "e2a29320-0c11-493b-b66c-65ea06fed46f",
   "metadata": {
    "tags": []
   },
   "outputs": [
    {
     "data": {
      "text/plain": [
       "Outlet_Location_Type  Outlet_Type      \n",
       "Tier 1                Grocery Store        1.796941e+05\n",
       "                      Supermarket Type1    4.302365e+06\n",
       "Tier 2                Supermarket Type1    6.472314e+06\n",
       "Tier 3                Grocery Store        1.883402e+05\n",
       "                      Supermarket Type1    2.142664e+06\n",
       "                      Supermarket Type2    1.851823e+06\n",
       "                      Supermarket Type3    3.453926e+06\n",
       "Name: Item_Outlet_Sales, dtype: float64"
      ]
     },
     "execution_count": 14,
     "metadata": {},
     "output_type": "execute_result"
    }
   ],
   "source": [
    "sales_by_location_and_outlet_type =df.groupby([\"Outlet_Location_Type\", \"Outlet_Type\"])[\"Item_Outlet_Sales\"].sum()\n",
    "sales_by_location_and_outlet_type"
   ]
  },
  {
   "cell_type": "code",
   "execution_count": 15,
   "id": "09ae6170-f9fc-4b71-96fa-7564c2a23411",
   "metadata": {},
   "outputs": [
    {
     "data": {
      "image/png": "[encoded data removed]",
      "text/plain": [
       "<Figure size 800x550 with 3 Axes>"
      ]
     },
     "metadata": {},
     "output_type": "display_data"
    }
   ],
   "source": [
    "locations = np.array(df[\"Outlet_Location_Type\"].unique()) \n",
    "fig, ((ax1, ax2, ax3)) = plt.subplots(1, 3, sharey=True) # create 1x3 grid of axis subplots with shared y axis\n",
    "axes = [ax1 ,ax2, ax3]\n",
    "for n in range(len(axes)):\n",
    "    values = sales_by_location_and_outlet_type[locations[n]] # get the values (sales) for each location\n",
    "    axes[n].bar(list(values.index), values) # plot the values for each location\n",
    "    axes[n].tick_params( axis= \"x\", labelrotation=90) # rotate the x axis labels\n",
    "    axes[n].set_title(locations[n]) # set the title of each subplot"
   ]
  },
  {
   "cell_type": "markdown",
   "id": "45fab9ad",
   "metadata": {},
   "source": [
    "Observations:\n",
    "1. The location type **Tier 3 has highest percentage of sales**.\n",
    "2. The outlet type **Supermarket Type 1 has the highest sales**.\n",
    "3. The outlet type **Supermarket Type 3 has the highest sales in Tier 3**.\n",
    "4. The outlet type **Grocery Store has the lowest sales**.\n",
    "5. The outlet type **Supermarket Type 1 has the highest sales in Tier 1 and Tier 2**. (representing the highest percentage of the total sales categorized by outlet type).\n"
   ]
  },
  {
   "cell_type": "markdown",
   "id": "acfba096",
   "metadata": {},
   "source": [
    "<h4 id=\"pie_chart_sales_location_outlet_type\"> Pie Charts of Percentage of Sales by Outlet Type and Outlet Location Type </h4>"
   ]
  },
  {
   "cell_type": "code",
   "execution_count": 42,
   "id": "522a8f9a-6476-4913-b31c-b5b8d241870a",
   "metadata": {
    "tags": []
   },
   "outputs": [
    {
     "data": {
      "image/png": "[encoded data removed]",
      "text/plain": [
       "<Figure size 800x550 with 2 Axes>"
      ]
     },
     "metadata": {},
     "output_type": "display_data"
    }
   ],
   "source": [
    "etiquetas = list(df['Item_Type'].unique())\n",
    "\n",
    "fig2 = plt.figure(dpi=100)\n",
    "\n",
    "ax1 = fig2.add_subplot(1,2,1) \n",
    "locations = df.groupby(\"Outlet_Location_Type\")[\"Item_Outlet_Sales\"].sum()\n",
    "\n",
    "ax2 = fig2.add_subplot(1,2,2)\n",
    "outlet_type = df.groupby(\"Outlet_Type\")[\"Item_Outlet_Sales\"].sum()\n",
    "\n",
    "ax1.pie(locations, autopct='%.2f%%', startangle=-90)\n",
    "ax1.legend(np.array(locations.index),\n",
    "          title=\"Ingredients\",\n",
    "          loc=\"upper center\",\n",
    "          bbox_to_anchor=(0.25, -0.85, 0.5, 1))\n",
    "\n",
    "ax2.pie(outlet_type, autopct='%.2f%%', startangle=-90)\n",
    "ax2.legend(np.array(outlet_type.index),\n",
    "          title=\"Ingredients\",\n",
    "          loc=\"upper center\",\n",
    "          bbox_to_anchor=(0.25, -0.85, 0.5, 1))\n",
    "\n",
    "ax1.axis(\"equal\") \n",
    "ax2.axis(\"equal\") \n",
    "\n",
    "plt.show()"
   ]
  },
  {
   "cell_type": "markdown",
   "id": "f86def35",
   "metadata": {},
   "source": [
    "Observations:\n",
    "1. The type of store that generates the most sales is the Supermarket Type 1.\n",
    "2. The type of store that generates the least sales is the Grocery Store.\n",
    "3. The type of city that generates the most sales is Tier 3.\n",
    "4. The type of city that generates the least sales is Tier 2."
   ]
  },
  {
   "cell_type": "code",
   "execution_count": 17,
   "id": "3c694460-5376-43cd-9981-55ef0cc6f203",
   "metadata": {},
   "outputs": [
    {
     "data": {
      "text/html": [
       "<div>\n",
       "<style scoped>\n",
       "    .dataframe tbody tr th:only-of-type {\n",
       "        vertical-align: middle;\n",
       "    }\n",
       "\n",
       "    .dataframe tbody tr th {\n",
       "        vertical-align: top;\n",
       "    }\n",
       "\n",
       "    .dataframe thead th {\n",
       "        text-align: right;\n",
       "    }\n",
       "</style>\n",
       "<table border=\"1\" class=\"dataframe\">\n",
       "  <thead>\n",
       "    <tr style=\"text-align: right;\">\n",
       "      <th></th>\n",
       "      <th>Item_Identifier</th>\n",
       "      <th>Item_Fat_Content</th>\n",
       "      <th>Item_Visibility</th>\n",
       "      <th>Item_Type</th>\n",
       "      <th>Item_MRP</th>\n",
       "      <th>Outlet_Identifier</th>\n",
       "      <th>Outlet_Size</th>\n",
       "      <th>Outlet_Location_Type</th>\n",
       "      <th>Outlet_Type</th>\n",
       "      <th>Item_Outlet_Sales</th>\n",
       "    </tr>\n",
       "  </thead>\n",
       "  <tbody>\n",
       "    <tr>\n",
       "      <th>2879</th>\n",
       "      <td>DRA24</td>\n",
       "      <td>0</td>\n",
       "      <td>0.069909</td>\n",
       "      <td>Soft Drinks</td>\n",
       "      <td>163.2868</td>\n",
       "      <td>OUT019</td>\n",
       "      <td>Small</td>\n",
       "      <td>1</td>\n",
       "      <td>Grocery Store</td>\n",
       "      <td>491.3604</td>\n",
       "    </tr>\n",
       "    <tr>\n",
       "      <th>6179</th>\n",
       "      <td>DRA59</td>\n",
       "      <td>0</td>\n",
       "      <td>0.223985</td>\n",
       "      <td>Soft Drinks</td>\n",
       "      <td>186.2924</td>\n",
       "      <td>OUT019</td>\n",
       "      <td>Small</td>\n",
       "      <td>1</td>\n",
       "      <td>Grocery Store</td>\n",
       "      <td>555.2772</td>\n",
       "    </tr>\n",
       "    <tr>\n",
       "      <th>1708</th>\n",
       "      <td>DRC25</td>\n",
       "      <td>1</td>\n",
       "      <td>0.079440</td>\n",
       "      <td>Soft Drinks</td>\n",
       "      <td>86.7882</td>\n",
       "      <td>OUT019</td>\n",
       "      <td>Small</td>\n",
       "      <td>1</td>\n",
       "      <td>Grocery Store</td>\n",
       "      <td>85.8882</td>\n",
       "    </tr>\n",
       "    <tr>\n",
       "      <th>2950</th>\n",
       "      <td>DRD15</td>\n",
       "      <td>1</td>\n",
       "      <td>0.099442</td>\n",
       "      <td>Dairy</td>\n",
       "      <td>233.1642</td>\n",
       "      <td>OUT019</td>\n",
       "      <td>Small</td>\n",
       "      <td>1</td>\n",
       "      <td>Grocery Store</td>\n",
       "      <td>697.0926</td>\n",
       "    </tr>\n",
       "    <tr>\n",
       "      <th>2766</th>\n",
       "      <td>DRD25</td>\n",
       "      <td>1</td>\n",
       "      <td>0.138270</td>\n",
       "      <td>Soft Drinks</td>\n",
       "      <td>111.6860</td>\n",
       "      <td>OUT019</td>\n",
       "      <td>Small</td>\n",
       "      <td>1</td>\n",
       "      <td>Grocery Store</td>\n",
       "      <td>452.7440</td>\n",
       "    </tr>\n",
       "  </tbody>\n",
       "</table>\n",
       "</div>"
      ],
      "text/plain": [
       "     Item_Identifier  Item_Fat_Content  Item_Visibility    Item_Type  \\\n",
       "2879           DRA24                 0         0.069909  Soft Drinks   \n",
       "6179           DRA59                 0         0.223985  Soft Drinks   \n",
       "1708           DRC25                 1         0.079440  Soft Drinks   \n",
       "2950           DRD15                 1         0.099442        Dairy   \n",
       "2766           DRD25                 1         0.138270  Soft Drinks   \n",
       "\n",
       "      Item_MRP Outlet_Identifier Outlet_Size  Outlet_Location_Type  \\\n",
       "2879  163.2868            OUT019       Small                     1   \n",
       "6179  186.2924            OUT019       Small                     1   \n",
       "1708   86.7882            OUT019       Small                     1   \n",
       "2950  233.1642            OUT019       Small                     1   \n",
       "2766  111.6860            OUT019       Small                     1   \n",
       "\n",
       "        Outlet_Type  Item_Outlet_Sales  \n",
       "2879  Grocery Store           491.3604  \n",
       "6179  Grocery Store           555.2772  \n",
       "1708  Grocery Store            85.8882  \n",
       "2950  Grocery Store           697.0926  \n",
       "2766  Grocery Store           452.7440  "
      ]
     },
     "execution_count": 17,
     "metadata": {},
     "output_type": "execute_result"
    }
   ],
   "source": [
    "df_modified = df.replace(list(df[\"Item_Fat_Content\"].unique()), [0, 1])\n",
    "df_modified.replace(list(df[\"Outlet_Location_Type\"].unique()), [1, 2 ,3], inplace=True)\n",
    "df_modified.head()"
   ]
  },
  {
   "cell_type": "code",
   "execution_count": 18,
   "id": "a1b284b6-5359-4787-a7db-46eca8c20532",
   "metadata": {},
   "outputs": [],
   "source": [
    "corr = df_modified.corr()"
   ]
  },
  {
   "cell_type": "code",
   "execution_count": 19,
   "id": "1173bf7c-19dd-481c-b537-faff1e5b563e",
   "metadata": {},
   "outputs": [
    {
     "data": {
      "text/plain": [
       "<AxesSubplot:>"
      ]
     },
     "execution_count": 19,
     "metadata": {},
     "output_type": "execute_result"
    },
    {
     "data": {
      "image/png": "[encoded data removed]",
      "text/plain": [
       "<Figure size 800x550 with 2 Axes>"
      ]
     },
     "metadata": {},
     "output_type": "display_data"
    }
   ],
   "source": [
    "sns.heatmap(corr, cmap = \"Reds\", annot = True)"
   ]
  },
  {
   "cell_type": "code",
   "execution_count": 168,
   "id": "0ad9479c-8c98-4ddd-8bc7-4159be322bfa",
   "metadata": {},
   "outputs": [
    {
     "data": {
      "text/plain": [
       "{'Tier 1', 'Tier 2', 'Tier 3'}"
      ]
     },
     "execution_count": 168,
     "metadata": {},
     "output_type": "execute_result"
    }
   ],
   "source": [
    "categories = set()\n",
    "for categorie in list(df_indexed.index):\n",
    "    categories.add(categorie[0])\n",
    "categories"
   ]
  }
 ],
 "metadata": {
  "kernelspec": {
   "display_name": "Python 3 (ipykernel)",
   "language": "python",
   "name": "python3"
  },
  "language_info": {
   "codemirror_mode": {
    "name": "ipython",
    "version": 3
   },
   "file_extension": ".py",
   "mimetype": "text/x-python",
   "name": "python",
   "nbconvert_exporter": "python",
   "pygments_lexer": "ipython3",
   "version": "3.10.4"
  },
  "vscode": {
   "interpreter": {
    "hash": "c631162c0b87b94b55791dd1c87526311652fd910db6f0b18ccd18aeb43aa72d"
   }
  }
 },
 "nbformat": 4,
 "nbformat_minor": 5
}
