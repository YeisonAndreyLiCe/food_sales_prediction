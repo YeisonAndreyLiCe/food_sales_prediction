{
 "cells": [
  {
   "cell_type": "markdown",
   "id": "f7b0e5a4-2aa6-4c21-a00f-ca3981ef1c57",
   "metadata": {
    "tags": []
   },
   "source": [
    "# Food Sales Prediction Project\n",
    "<p>\n",
    "    The information use in this project corresponds to 2013 sales of <strong>1559</strong> products and was collected by data scientist at BigMart across 10 stores in different cities. Some features of each product have been defined. \n",
    "    In order to help to the retailer to understand the product properties and the outlets that play a crucial role in the sales, <strong>this project aims to predict the sales of food products in each outlet, it will try to understand the properties of products and outlets which play a key role in increasing sales.</strong>\n",
    "</p>\n",
    "<p><a href=\"https://datahack.analyticsvidhya.com/contest/practice-problem-big-mart-sales-iii/#ProblemStatement\" target:\"_blank\">source: <i>Analytics Vidhya 2013-2022</i></a></p>\n",
    "<table>\n",
    "    <tbody>\n",
    "        <tr>\n",
    "            <td>Variable</td>\n",
    "            <td >Description</td>\n",
    "        </tr>\n",
    "        <tr>\n",
    "            <td >Item_Identifier</td>\n",
    "            <td >Unique product ID</td>\n",
    "        </tr>\n",
    "        <tr>\n",
    "            <td>Item_Weight</td>\n",
    "            <td >Weight of product</td>\n",
    "        </tr>\n",
    "        <tr>\n",
    "            <td>Item_Fat_Content</td>\n",
    "            <td>Whether the product is low fat or not</td>\n",
    "        </tr>\n",
    "        <tr>\n",
    "            <td>Item_Visibility</td>\n",
    "            <td>The % of total display area of all products in a store allocated to the particular product</td>\n",
    "        </tr>\n",
    "        <tr>\n",
    "            <td>Item_Type</td>\n",
    "            <td>The category to which the product belongs</td>\n",
    "        </tr>\n",
    "        <tr>\n",
    "            <td>Item_MRP</td>\n",
    "            <td>Maximum Retail Price (list price) of the product</td>\n",
    "        </tr>\n",
    "        <tr>\n",
    "            <td>Outlet_Identifier</td>\n",
    "            <td>Unique store ID</td>\n",
    "        </tr>\n",
    "        <tr>\n",
    "            <td>Outlet_Establishment_Year</td>\n",
    "            <td>The year in which store was established</td>\n",
    "        </tr>\n",
    "        <tr>\n",
    "            <td>Outlet_Size</td>\n",
    "            <td>The size of the store in terms of ground area covered</td>\n",
    "        </tr>\n",
    "        <tr>\n",
    "            <td>Outlet_Location_Type</td>\n",
    "            <td>The type of city in which the store is located</td>\n",
    "        </tr>\n",
    "        <tr>\n",
    "            <td>Outlet_Type</td>\n",
    "            <td>Whether the outlet is just a grocery store or some sort of supermarket</td>\n",
    "        </tr>\n",
    "    </tbody>\n",
    "</table>"
   ]
  },
  {
   "cell_type": "markdown",
   "id": "61238e54-7317-4a9b-8cfe-6898e4dd9009",
   "metadata": {
    "tags": []
   },
   "source": [
    "## Importing Pandas Module"
   ]
  },
  {
   "cell_type": "code",
   "execution_count": 3,
   "id": "e501b17c-c4e9-456e-a174-5a5f130cf9bd",
   "metadata": {},
   "outputs": [],
   "source": [
    "import pandas as pd"
   ]
  },
  {
   "cell_type": "markdown",
   "id": "0c920ab0-3dcc-4a5b-b862-136c32d0803d",
   "metadata": {
    "jp-MarkdownHeadingCollapsed": true,
    "tags": []
   },
   "source": [
    "## Charging Information"
   ]
  },
  {
   "cell_type": "code",
   "execution_count": 107,
   "id": "20b57aab-87eb-40c8-88b2-48d8c5ae9b9e",
   "metadata": {},
   "outputs": [
    {
     "data": {
      "text/html": [
       "<div>\n",
       "<style scoped>\n",
       "    .dataframe tbody tr th:only-of-type {\n",
       "        vertical-align: middle;\n",
       "    }\n",
       "\n",
       "    .dataframe tbody tr th {\n",
       "        vertical-align: top;\n",
       "    }\n",
       "\n",
       "    .dataframe thead th {\n",
       "        text-align: right;\n",
       "    }\n",
       "</style>\n",
       "<table border=\"1\" class=\"dataframe\">\n",
       "  <thead>\n",
       "    <tr style=\"text-align: right;\">\n",
       "      <th></th>\n",
       "      <th>Item_Identifier</th>\n",
       "      <th>Item_Weight</th>\n",
       "      <th>Item_Fat_Content</th>\n",
       "      <th>Item_Visibility</th>\n",
       "      <th>Item_Type</th>\n",
       "      <th>Item_MRP</th>\n",
       "      <th>Outlet_Identifier</th>\n",
       "      <th>Outlet_Establishment_Year</th>\n",
       "      <th>Outlet_Size</th>\n",
       "      <th>Outlet_Location_Type</th>\n",
       "      <th>Outlet_Type</th>\n",
       "      <th>Item_Outlet_Sales</th>\n",
       "    </tr>\n",
       "  </thead>\n",
       "  <tbody>\n",
       "    <tr>\n",
       "      <th>0</th>\n",
       "      <td>FDA15</td>\n",
       "      <td>9.30</td>\n",
       "      <td>Low Fat</td>\n",
       "      <td>0.016047</td>\n",
       "      <td>Dairy</td>\n",
       "      <td>249.8092</td>\n",
       "      <td>OUT049</td>\n",
       "      <td>1999</td>\n",
       "      <td>Medium</td>\n",
       "      <td>Tier 1</td>\n",
       "      <td>Supermarket Type1</td>\n",
       "      <td>3735.1380</td>\n",
       "    </tr>\n",
       "    <tr>\n",
       "      <th>1</th>\n",
       "      <td>DRC01</td>\n",
       "      <td>5.92</td>\n",
       "      <td>Regular</td>\n",
       "      <td>0.019278</td>\n",
       "      <td>Soft Drinks</td>\n",
       "      <td>48.2692</td>\n",
       "      <td>OUT018</td>\n",
       "      <td>2009</td>\n",
       "      <td>Medium</td>\n",
       "      <td>Tier 3</td>\n",
       "      <td>Supermarket Type2</td>\n",
       "      <td>443.4228</td>\n",
       "    </tr>\n",
       "    <tr>\n",
       "      <th>2</th>\n",
       "      <td>FDN15</td>\n",
       "      <td>17.50</td>\n",
       "      <td>Low Fat</td>\n",
       "      <td>0.016760</td>\n",
       "      <td>Meat</td>\n",
       "      <td>141.6180</td>\n",
       "      <td>OUT049</td>\n",
       "      <td>1999</td>\n",
       "      <td>Medium</td>\n",
       "      <td>Tier 1</td>\n",
       "      <td>Supermarket Type1</td>\n",
       "      <td>2097.2700</td>\n",
       "    </tr>\n",
       "    <tr>\n",
       "      <th>3</th>\n",
       "      <td>FDX07</td>\n",
       "      <td>19.20</td>\n",
       "      <td>Regular</td>\n",
       "      <td>0.000000</td>\n",
       "      <td>Fruits and Vegetables</td>\n",
       "      <td>182.0950</td>\n",
       "      <td>OUT010</td>\n",
       "      <td>1998</td>\n",
       "      <td>NaN</td>\n",
       "      <td>Tier 3</td>\n",
       "      <td>Grocery Store</td>\n",
       "      <td>732.3800</td>\n",
       "    </tr>\n",
       "    <tr>\n",
       "      <th>4</th>\n",
       "      <td>NCD19</td>\n",
       "      <td>8.93</td>\n",
       "      <td>Low Fat</td>\n",
       "      <td>0.000000</td>\n",
       "      <td>Household</td>\n",
       "      <td>53.8614</td>\n",
       "      <td>OUT013</td>\n",
       "      <td>1987</td>\n",
       "      <td>High</td>\n",
       "      <td>Tier 3</td>\n",
       "      <td>Supermarket Type1</td>\n",
       "      <td>994.7052</td>\n",
       "    </tr>\n",
       "  </tbody>\n",
       "</table>\n",
       "</div>"
      ],
      "text/plain": [
       "  Item_Identifier  Item_Weight Item_Fat_Content  Item_Visibility  \\\n",
       "0           FDA15         9.30          Low Fat         0.016047   \n",
       "1           DRC01         5.92          Regular         0.019278   \n",
       "2           FDN15        17.50          Low Fat         0.016760   \n",
       "3           FDX07        19.20          Regular         0.000000   \n",
       "4           NCD19         8.93          Low Fat         0.000000   \n",
       "\n",
       "               Item_Type  Item_MRP Outlet_Identifier  \\\n",
       "0                  Dairy  249.8092            OUT049   \n",
       "1            Soft Drinks   48.2692            OUT018   \n",
       "2                   Meat  141.6180            OUT049   \n",
       "3  Fruits and Vegetables  182.0950            OUT010   \n",
       "4              Household   53.8614            OUT013   \n",
       "\n",
       "   Outlet_Establishment_Year Outlet_Size Outlet_Location_Type  \\\n",
       "0                       1999      Medium               Tier 1   \n",
       "1                       2009      Medium               Tier 3   \n",
       "2                       1999      Medium               Tier 1   \n",
       "3                       1998         NaN               Tier 3   \n",
       "4                       1987        High               Tier 3   \n",
       "\n",
       "         Outlet_Type  Item_Outlet_Sales  \n",
       "0  Supermarket Type1          3735.1380  \n",
       "1  Supermarket Type2           443.4228  \n",
       "2  Supermarket Type1          2097.2700  \n",
       "3      Grocery Store           732.3800  \n",
       "4  Supermarket Type1           994.7052  "
      ]
     },
     "execution_count": 107,
     "metadata": {},
     "output_type": "execute_result"
    }
   ],
   "source": [
    "df = pd.read_csv(\"sales_predictions.csv\")\n",
    "df.head()"
   ]
  },
  {
   "cell_type": "markdown",
   "id": "51bc9385-fe62-4b46-b9d6-57516080c16d",
   "metadata": {
    "jp-MarkdownHeadingCollapsed": true,
    "tags": []
   },
   "source": [
    "## Characterizing DataFrame"
   ]
  },
  {
   "cell_type": "code",
   "execution_count": 5,
   "id": "60f53ed0-6e95-4913-b0af-a7aaeda762af",
   "metadata": {},
   "outputs": [
    {
     "data": {
      "text/plain": [
       "(8523, 12)"
      ]
     },
     "execution_count": 5,
     "metadata": {},
     "output_type": "execute_result"
    }
   ],
   "source": [
    "df.shape"
   ]
  },
  {
   "cell_type": "raw",
   "id": "df194ae8-fc4e-49fd-88e8-f3754341af08",
   "metadata": {},
   "source": [
    "There is consistency in the type of data in each column"
   ]
  },
  {
   "cell_type": "code",
   "execution_count": 7,
   "id": "05db9470-2f65-4528-be6a-c272f5beef6f",
   "metadata": {},
   "outputs": [
    {
     "name": "stdout",
     "output_type": "stream",
     "text": [
      "<class 'pandas.core.frame.DataFrame'>\n",
      "RangeIndex: 8523 entries, 0 to 8522\n",
      "Data columns (total 12 columns):\n",
      " #   Column                     Non-Null Count  Dtype  \n",
      "---  ------                     --------------  -----  \n",
      " 0   Item_Identifier            8523 non-null   object \n",
      " 1   Item_Weight                7060 non-null   float64\n",
      " 2   Item_Fat_Content           8523 non-null   object \n",
      " 3   Item_Visibility            8523 non-null   float64\n",
      " 4   Item_Type                  8523 non-null   object \n",
      " 5   Item_MRP                   8523 non-null   float64\n",
      " 6   Outlet_Identifier          8523 non-null   object \n",
      " 7   Outlet_Establishment_Year  8523 non-null   int64  \n",
      " 8   Outlet_Size                6113 non-null   object \n",
      " 9   Outlet_Location_Type       8523 non-null   object \n",
      " 10  Outlet_Type                8523 non-null   object \n",
      " 11  Item_Outlet_Sales          8523 non-null   float64\n",
      "dtypes: float64(4), int64(1), object(7)\n",
      "memory usage: 799.2+ KB\n"
     ]
    }
   ],
   "source": [
    "df.info()"
   ]
  },
  {
   "cell_type": "markdown",
   "id": "513d6dcb-c654-4601-b3ae-8e0d75d6364d",
   "metadata": {},
   "source": [
    "<p style=\"color:rgb(200,0,0);\">There are missing data in the columns: Item_Weight and Outlet_Size. Let's check if there is duplicated info</p>"
   ]
  },
  {
   "cell_type": "markdown",
   "id": "d05be697-0f26-4736-9ecb-0d422ade1d13",
   "metadata": {
    "jp-MarkdownHeadingCollapsed": true,
    "tags": []
   },
   "source": [
    "## Remove Duplicate or Irrelevant Observations"
   ]
  },
  {
   "cell_type": "code",
   "execution_count": 13,
   "id": "7c9085d3-259a-41df-89a3-56279bab60b7",
   "metadata": {},
   "outputs": [
    {
     "data": {
      "text/plain": [
       "0"
      ]
     },
     "execution_count": 13,
     "metadata": {},
     "output_type": "execute_result"
    }
   ],
   "source": [
    "df.duplicated().sum()"
   ]
  },
  {
   "cell_type": "markdown",
   "id": "f089a1d5-90e5-4480-8beb-5703fbc01d98",
   "metadata": {},
   "source": [
    "<p style=\"color:green;\">There is not duplicated rows.</p>"
   ]
  },
  {
   "cell_type": "code",
   "execution_count": 65,
   "id": "0a8a82a9-546a-4b51-a4ee-d8623253a092",
   "metadata": {},
   "outputs": [
    {
     "data": {
      "text/plain": [
       "1463"
      ]
     },
     "execution_count": 65,
     "metadata": {},
     "output_type": "execute_result"
    }
   ],
   "source": [
    "df[\"Item_Weight\"].isna().sum()"
   ]
  },
  {
   "cell_type": "markdown",
   "id": "6971c0d0-47a4-4049-a759-b2140513b325",
   "metadata": {},
   "source": [
    "Since item Weight can be categorized as an irrelevant feature in the sales prediction and in this column there is missing information this column will be delete. Another irrelevant columns to this analysis is the year in which store was established, so this column will also be removed."
   ]
  },
  {
   "cell_type": "code",
   "execution_count": 108,
   "id": "4a7fe03b-63b5-4ce8-98a2-5c71a2ebd024",
   "metadata": {},
   "outputs": [
    {
     "data": {
      "text/html": [
       "<div>\n",
       "<style scoped>\n",
       "    .dataframe tbody tr th:only-of-type {\n",
       "        vertical-align: middle;\n",
       "    }\n",
       "\n",
       "    .dataframe tbody tr th {\n",
       "        vertical-align: top;\n",
       "    }\n",
       "\n",
       "    .dataframe thead th {\n",
       "        text-align: right;\n",
       "    }\n",
       "</style>\n",
       "<table border=\"1\" class=\"dataframe\">\n",
       "  <thead>\n",
       "    <tr style=\"text-align: right;\">\n",
       "      <th></th>\n",
       "      <th>Item_Identifier</th>\n",
       "      <th>Item_Fat_Content</th>\n",
       "      <th>Item_Visibility</th>\n",
       "      <th>Item_Type</th>\n",
       "      <th>Item_MRP</th>\n",
       "      <th>Outlet_Identifier</th>\n",
       "      <th>Outlet_Size</th>\n",
       "      <th>Outlet_Location_Type</th>\n",
       "      <th>Outlet_Type</th>\n",
       "      <th>Item_Outlet_Sales</th>\n",
       "    </tr>\n",
       "  </thead>\n",
       "  <tbody>\n",
       "    <tr>\n",
       "      <th>0</th>\n",
       "      <td>FDA15</td>\n",
       "      <td>Low Fat</td>\n",
       "      <td>0.016047</td>\n",
       "      <td>Dairy</td>\n",
       "      <td>249.8092</td>\n",
       "      <td>OUT049</td>\n",
       "      <td>Medium</td>\n",
       "      <td>Tier 1</td>\n",
       "      <td>Supermarket Type1</td>\n",
       "      <td>3735.1380</td>\n",
       "    </tr>\n",
       "    <tr>\n",
       "      <th>1</th>\n",
       "      <td>DRC01</td>\n",
       "      <td>Regular</td>\n",
       "      <td>0.019278</td>\n",
       "      <td>Soft Drinks</td>\n",
       "      <td>48.2692</td>\n",
       "      <td>OUT018</td>\n",
       "      <td>Medium</td>\n",
       "      <td>Tier 3</td>\n",
       "      <td>Supermarket Type2</td>\n",
       "      <td>443.4228</td>\n",
       "    </tr>\n",
       "    <tr>\n",
       "      <th>2</th>\n",
       "      <td>FDN15</td>\n",
       "      <td>Low Fat</td>\n",
       "      <td>0.016760</td>\n",
       "      <td>Meat</td>\n",
       "      <td>141.6180</td>\n",
       "      <td>OUT049</td>\n",
       "      <td>Medium</td>\n",
       "      <td>Tier 1</td>\n",
       "      <td>Supermarket Type1</td>\n",
       "      <td>2097.2700</td>\n",
       "    </tr>\n",
       "    <tr>\n",
       "      <th>3</th>\n",
       "      <td>FDX07</td>\n",
       "      <td>Regular</td>\n",
       "      <td>0.000000</td>\n",
       "      <td>Fruits and Vegetables</td>\n",
       "      <td>182.0950</td>\n",
       "      <td>OUT010</td>\n",
       "      <td>NaN</td>\n",
       "      <td>Tier 3</td>\n",
       "      <td>Grocery Store</td>\n",
       "      <td>732.3800</td>\n",
       "    </tr>\n",
       "    <tr>\n",
       "      <th>4</th>\n",
       "      <td>NCD19</td>\n",
       "      <td>Low Fat</td>\n",
       "      <td>0.000000</td>\n",
       "      <td>Household</td>\n",
       "      <td>53.8614</td>\n",
       "      <td>OUT013</td>\n",
       "      <td>High</td>\n",
       "      <td>Tier 3</td>\n",
       "      <td>Supermarket Type1</td>\n",
       "      <td>994.7052</td>\n",
       "    </tr>\n",
       "  </tbody>\n",
       "</table>\n",
       "</div>"
      ],
      "text/plain": [
       "  Item_Identifier Item_Fat_Content  Item_Visibility              Item_Type  \\\n",
       "0           FDA15          Low Fat         0.016047                  Dairy   \n",
       "1           DRC01          Regular         0.019278            Soft Drinks   \n",
       "2           FDN15          Low Fat         0.016760                   Meat   \n",
       "3           FDX07          Regular         0.000000  Fruits and Vegetables   \n",
       "4           NCD19          Low Fat         0.000000              Household   \n",
       "\n",
       "   Item_MRP Outlet_Identifier Outlet_Size Outlet_Location_Type  \\\n",
       "0  249.8092            OUT049      Medium               Tier 1   \n",
       "1   48.2692            OUT018      Medium               Tier 3   \n",
       "2  141.6180            OUT049      Medium               Tier 1   \n",
       "3  182.0950            OUT010         NaN               Tier 3   \n",
       "4   53.8614            OUT013        High               Tier 3   \n",
       "\n",
       "         Outlet_Type  Item_Outlet_Sales  \n",
       "0  Supermarket Type1          3735.1380  \n",
       "1  Supermarket Type2           443.4228  \n",
       "2  Supermarket Type1          2097.2700  \n",
       "3      Grocery Store           732.3800  \n",
       "4  Supermarket Type1           994.7052  "
      ]
     },
     "execution_count": 108,
     "metadata": {},
     "output_type": "execute_result"
    }
   ],
   "source": [
    "df.drop(columns = [\"Item_Weight\", \"Outlet_Establishment_Year\"], inplace=True)\n",
    "df.head()"
   ]
  },
  {
   "cell_type": "markdown",
   "id": "130ae1a6-558d-4313-90e3-83e301610b1b",
   "metadata": {
    "tags": []
   },
   "source": [
    "## Fixing Structural Errors"
   ]
  },
  {
   "cell_type": "markdown",
   "id": "73205533-7d8c-47ed-8fa3-495132476ecf",
   "metadata": {
    "jp-MarkdownHeadingCollapsed": true,
    "tags": []
   },
   "source": [
    "### Type of Information in Each Column"
   ]
  },
  {
   "cell_type": "code",
   "execution_count": 87,
   "id": "475dbb13-658e-457e-a2b8-ad180426cd50",
   "metadata": {},
   "outputs": [
    {
     "data": {
      "text/plain": [
       "Item_Identifier          object\n",
       "Item_Fat_Content         object\n",
       "Item_Visibility         float64\n",
       "Item_Type                object\n",
       "Item_MRP                float64\n",
       "Outlet_Identifier        object\n",
       "Outlet_Size              object\n",
       "Outlet_Location_Type     object\n",
       "Outlet_Type              object\n",
       "Item_Outlet_Sales       float64\n",
       "dtype: object"
      ]
     },
     "execution_count": 87,
     "metadata": {},
     "output_type": "execute_result"
    }
   ],
   "source": [
    "df.dtypes"
   ]
  },
  {
   "cell_type": "markdown",
   "id": "cca56dfa-2c16-4ccd-a0a1-29b501717aa8",
   "metadata": {},
   "source": [
    "There is consistency in the type of information in each column"
   ]
  },
  {
   "cell_type": "markdown",
   "id": "ddc21231-18af-45a9-847d-f92dfb241bdc",
   "metadata": {
    "tags": []
   },
   "source": [
    "### Number of Products"
   ]
  },
  {
   "cell_type": "code",
   "execution_count": 83,
   "id": "2b2173e1-addd-4087-8a7e-42a55a51a7f7",
   "metadata": {},
   "outputs": [
    {
     "data": {
      "text/plain": [
       "1559"
      ]
     },
     "execution_count": 83,
     "metadata": {},
     "output_type": "execute_result"
    }
   ],
   "source": [
    "len(df[\"Item_Identifier\"].unique()) # this will give us the number of products. As was said thw numbero of products os 1559a"
   ]
  },
  {
   "cell_type": "markdown",
   "id": "3bc3f835-7a3a-4efa-b823-8076a8b337a6",
   "metadata": {
    "jp-MarkdownHeadingCollapsed": true,
    "tags": []
   },
   "source": [
    "### Columns Categories"
   ]
  },
  {
   "cell_type": "code",
   "execution_count": 88,
   "id": "25d2b1be-bef5-4698-a4e5-8ca010d5d302",
   "metadata": {},
   "outputs": [
    {
     "data": {
      "text/plain": [
       "array(['Low Fat', 'Regular', 'low fat', 'LF', 'reg'], dtype=object)"
      ]
     },
     "execution_count": 88,
     "metadata": {},
     "output_type": "execute_result"
    }
   ],
   "source": [
    "df[\"Item_Fat_Content\"].unique()"
   ]
  },
  {
   "cell_type": "markdown",
   "id": "cdc488f7-90a6-4dfe-ba02-a36c3f6fbfe7",
   "metadata": {
    "tags": []
   },
   "source": [
    "<div style=\"background-color:rgb(150,0,0); padding:10px;\">\n",
    "    <p>There are some irregularities in the Item_Fat_Content; it can be deduced that</p>\n",
    "    <ul>\n",
    "        <li>LF = Low Fat</li>\n",
    "        <li>low fat = Low Fat</li>\n",
    "        <li>reg = Regular</li>\n",
    "    </ul>\n",
    "</div>"
   ]
  },
  {
   "cell_type": "code",
   "execution_count": 109,
   "id": "ebbbec18-4328-4810-a85b-b48c8b8ec176",
   "metadata": {},
   "outputs": [
    {
     "data": {
      "text/plain": [
       "array(['Low Fat', 'Regular'], dtype=object)"
      ]
     },
     "execution_count": 109,
     "metadata": {},
     "output_type": "execute_result"
    }
   ],
   "source": [
    "df[\"Item_Fat_Content\"].replace([\"LF\",\"reg\",\"low fat\"],[\"Low Fat\", \"Regular\",\"Low Fat\"], inplace=True)\n",
    "df[\"Item_Fat_Content\"].unique()"
   ]
  },
  {
   "cell_type": "raw",
   "id": "43c910b2-d5ef-4519-b5cf-5c6b3d5da0c2",
   "metadata": {},
   "source": [
    "Looking for consistency in the rest of the columns"
   ]
  },
  {
   "cell_type": "code",
   "execution_count": 90,
   "id": "3783277e-0e67-4e11-96b4-d04fa8718d4b",
   "metadata": {},
   "outputs": [
    {
     "data": {
      "text/plain": [
       "array(['Dairy', 'Soft Drinks', 'Meat', 'Fruits and Vegetables',\n",
       "       'Household', 'Baking Goods', 'Snack Foods', 'Frozen Foods',\n",
       "       'Breakfast', 'Health and Hygiene', 'Hard Drinks', 'Canned',\n",
       "       'Breads', 'Starchy Foods', 'Others', 'Seafood'], dtype=object)"
      ]
     },
     "execution_count": 90,
     "metadata": {},
     "output_type": "execute_result"
    }
   ],
   "source": [
    "df[\"Item_Type\"].unique()"
   ]
  },
  {
   "cell_type": "code",
   "execution_count": 91,
   "id": "a9856534-7dd9-40d5-88aa-4087c47cf94c",
   "metadata": {},
   "outputs": [
    {
     "data": {
      "text/plain": [
       "array(['Tier 1', 'Tier 3', 'Tier 2'], dtype=object)"
      ]
     },
     "execution_count": 91,
     "metadata": {},
     "output_type": "execute_result"
    }
   ],
   "source": [
    "df[\"Outlet_Location_Type\"].unique()"
   ]
  },
  {
   "cell_type": "code",
   "execution_count": 92,
   "id": "c19ab8a6-0e4d-4107-9d93-d9d3dec6b76a",
   "metadata": {},
   "outputs": [
    {
     "data": {
      "text/plain": [
       "array(['Supermarket Type1', 'Supermarket Type2', 'Grocery Store',\n",
       "       'Supermarket Type3'], dtype=object)"
      ]
     },
     "execution_count": 92,
     "metadata": {},
     "output_type": "execute_result"
    }
   ],
   "source": [
    "df[\"Outlet_Type\"].unique()"
   ]
  },
  {
   "cell_type": "markdown",
   "id": "def71c53-d845-4f42-9874-55a48c2d5bd8",
   "metadata": {
    "jp-MarkdownHeadingCollapsed": true,
    "tags": []
   },
   "source": [
    "## Identifying and Handling Missing Data"
   ]
  },
  {
   "cell_type": "code",
   "execution_count": 14,
   "id": "a548bf82-0c00-4db4-8674-af9e1234d477",
   "metadata": {},
   "outputs": [
    {
     "data": {
      "text/plain": [
       "array(['Medium', nan, 'High', 'Small'], dtype=object)"
      ]
     },
     "execution_count": 14,
     "metadata": {},
     "output_type": "execute_result"
    }
   ],
   "source": [
    "df[\"Outlet_Size\"].unique()"
   ]
  },
  {
   "cell_type": "raw",
   "id": "26266b33-3a74-4847-ad54-f4eca7216623",
   "metadata": {},
   "source": [
    " Missing data has been categorized as NaN."
   ]
  },
  {
   "cell_type": "markdown",
   "id": "28bf2bb9-ee3d-47c7-932a-a04cf7c8270a",
   "metadata": {},
   "source": [
    "Since the outlet size can be considered as an important feature to take into account when doing predictions of sales it is a good idea group the information in order to find patterns that can be useful to make decisions about the missing information."
   ]
  },
  {
   "cell_type": "code",
   "execution_count": 64,
   "id": "9e39ba51-2b2c-43df-a060-3a87d3601a61",
   "metadata": {},
   "outputs": [
    {
     "data": {
      "text/plain": [
       "Outlet_Type        Outlet_Location_Type  Outlet_Identifier\n",
       "Grocery Store      Tier 1                OUT019                [Small]\n",
       "                   Tier 3                OUT010                  [nan]\n",
       "Supermarket Type1  Tier 1                OUT046                [Small]\n",
       "                                         OUT049               [Medium]\n",
       "                   Tier 2                OUT017                  [nan]\n",
       "                                         OUT035                [Small]\n",
       "                                         OUT045                  [nan]\n",
       "                   Tier 3                OUT013                 [High]\n",
       "Supermarket Type2  Tier 3                OUT018               [Medium]\n",
       "Supermarket Type3  Tier 3                OUT027               [Medium]\n",
       "Name: Outlet_Size, dtype: object"
      ]
     },
     "execution_count": 64,
     "metadata": {},
     "output_type": "execute_result"
    }
   ],
   "source": [
    "df.groupby([\"Outlet_Type\",\"Outlet_Location_Type\",\"Outlet_Identifier\"])[\"Outlet_Size\"].unique()"
   ]
  },
  {
   "cell_type": "markdown",
   "id": "038db31b-56be-4dda-b9b0-3382355ed64f",
   "metadata": {},
   "source": [
    "Having seen the structure of the information the missing data in this category will be labeled as \"Missing\""
   ]
  },
  {
   "cell_type": "code",
   "execution_count": 110,
   "id": "bba160f5-dcdd-454f-9ef0-0967035878a4",
   "metadata": {},
   "outputs": [
    {
     "data": {
      "text/plain": [
       "0"
      ]
     },
     "execution_count": 110,
     "metadata": {},
     "output_type": "execute_result"
    }
   ],
   "source": [
    "df[\"Outlet_Size\"] = df[\"Outlet_Size\"].fillna(\"Missing\")\n",
    "df[\"Outlet_Size\"].isna().sum()"
   ]
  },
  {
   "cell_type": "markdown",
   "id": "be327f9a-94f6-48d4-8f9d-10d333a29558",
   "metadata": {},
   "source": [
    "## Validating and QA"
   ]
  },
  {
   "cell_type": "code",
   "execution_count": 111,
   "id": "a087df93-bb31-47b2-ba75-1c5293c66831",
   "metadata": {
    "tags": []
   },
   "outputs": [
    {
     "data": {
      "text/html": [
       "<div>\n",
       "<style scoped>\n",
       "    .dataframe tbody tr th:only-of-type {\n",
       "        vertical-align: middle;\n",
       "    }\n",
       "\n",
       "    .dataframe tbody tr th {\n",
       "        vertical-align: top;\n",
       "    }\n",
       "\n",
       "    .dataframe thead th {\n",
       "        text-align: right;\n",
       "    }\n",
       "</style>\n",
       "<table border=\"1\" class=\"dataframe\">\n",
       "  <thead>\n",
       "    <tr style=\"text-align: right;\">\n",
       "      <th></th>\n",
       "      <th>Item_Identifier</th>\n",
       "      <th>Item_Fat_Content</th>\n",
       "      <th>Item_Visibility</th>\n",
       "      <th>Item_Type</th>\n",
       "      <th>Item_MRP</th>\n",
       "      <th>Outlet_Identifier</th>\n",
       "      <th>Outlet_Size</th>\n",
       "      <th>Outlet_Location_Type</th>\n",
       "      <th>Outlet_Type</th>\n",
       "      <th>Item_Outlet_Sales</th>\n",
       "    </tr>\n",
       "  </thead>\n",
       "  <tbody>\n",
       "    <tr>\n",
       "      <th>2879</th>\n",
       "      <td>DRA24</td>\n",
       "      <td>Regular</td>\n",
       "      <td>0.069909</td>\n",
       "      <td>Soft Drinks</td>\n",
       "      <td>163.2868</td>\n",
       "      <td>OUT019</td>\n",
       "      <td>Small</td>\n",
       "      <td>Tier 1</td>\n",
       "      <td>Grocery Store</td>\n",
       "      <td>491.3604</td>\n",
       "    </tr>\n",
       "    <tr>\n",
       "      <th>6179</th>\n",
       "      <td>DRA59</td>\n",
       "      <td>Regular</td>\n",
       "      <td>0.223985</td>\n",
       "      <td>Soft Drinks</td>\n",
       "      <td>186.2924</td>\n",
       "      <td>OUT019</td>\n",
       "      <td>Small</td>\n",
       "      <td>Tier 1</td>\n",
       "      <td>Grocery Store</td>\n",
       "      <td>555.2772</td>\n",
       "    </tr>\n",
       "    <tr>\n",
       "      <th>1708</th>\n",
       "      <td>DRC25</td>\n",
       "      <td>Low Fat</td>\n",
       "      <td>0.079440</td>\n",
       "      <td>Soft Drinks</td>\n",
       "      <td>86.7882</td>\n",
       "      <td>OUT019</td>\n",
       "      <td>Small</td>\n",
       "      <td>Tier 1</td>\n",
       "      <td>Grocery Store</td>\n",
       "      <td>85.8882</td>\n",
       "    </tr>\n",
       "    <tr>\n",
       "      <th>2950</th>\n",
       "      <td>DRD15</td>\n",
       "      <td>Low Fat</td>\n",
       "      <td>0.099442</td>\n",
       "      <td>Dairy</td>\n",
       "      <td>233.1642</td>\n",
       "      <td>OUT019</td>\n",
       "      <td>Small</td>\n",
       "      <td>Tier 1</td>\n",
       "      <td>Grocery Store</td>\n",
       "      <td>697.0926</td>\n",
       "    </tr>\n",
       "    <tr>\n",
       "      <th>2766</th>\n",
       "      <td>DRD25</td>\n",
       "      <td>Low Fat</td>\n",
       "      <td>0.138270</td>\n",
       "      <td>Soft Drinks</td>\n",
       "      <td>111.6860</td>\n",
       "      <td>OUT019</td>\n",
       "      <td>Small</td>\n",
       "      <td>Tier 1</td>\n",
       "      <td>Grocery Store</td>\n",
       "      <td>452.7440</td>\n",
       "    </tr>\n",
       "  </tbody>\n",
       "</table>\n",
       "</div>"
      ],
      "text/plain": [
       "     Item_Identifier Item_Fat_Content  Item_Visibility    Item_Type  Item_MRP  \\\n",
       "2879           DRA24          Regular         0.069909  Soft Drinks  163.2868   \n",
       "6179           DRA59          Regular         0.223985  Soft Drinks  186.2924   \n",
       "1708           DRC25          Low Fat         0.079440  Soft Drinks   86.7882   \n",
       "2950           DRD15          Low Fat         0.099442        Dairy  233.1642   \n",
       "2766           DRD25          Low Fat         0.138270  Soft Drinks  111.6860   \n",
       "\n",
       "     Outlet_Identifier Outlet_Size Outlet_Location_Type    Outlet_Type  \\\n",
       "2879            OUT019       Small               Tier 1  Grocery Store   \n",
       "6179            OUT019       Small               Tier 1  Grocery Store   \n",
       "1708            OUT019       Small               Tier 1  Grocery Store   \n",
       "2950            OUT019       Small               Tier 1  Grocery Store   \n",
       "2766            OUT019       Small               Tier 1  Grocery Store   \n",
       "\n",
       "      Item_Outlet_Sales  \n",
       "2879           491.3604  \n",
       "6179           555.2772  \n",
       "1708            85.8882  \n",
       "2950           697.0926  \n",
       "2766           452.7440  "
      ]
     },
     "execution_count": 111,
     "metadata": {},
     "output_type": "execute_result"
    }
   ],
   "source": [
    "df = df.sort_values([\"Outlet_Location_Type\",\"Outlet_Type\",\"Outlet_Identifier\",\"Item_Identifier\"])\n",
    "df.head()"
   ]
  },
  {
   "cell_type": "code",
   "execution_count": 115,
   "id": "882f44e8-e475-4c35-ac78-90b613577cc3",
   "metadata": {},
   "outputs": [
    {
     "data": {
      "text/html": [
       "<div>\n",
       "<style scoped>\n",
       "    .dataframe tbody tr th:only-of-type {\n",
       "        vertical-align: middle;\n",
       "    }\n",
       "\n",
       "    .dataframe tbody tr th {\n",
       "        vertical-align: top;\n",
       "    }\n",
       "\n",
       "    .dataframe thead th {\n",
       "        text-align: right;\n",
       "    }\n",
       "</style>\n",
       "<table border=\"1\" class=\"dataframe\">\n",
       "  <thead>\n",
       "    <tr style=\"text-align: right;\">\n",
       "      <th></th>\n",
       "      <th></th>\n",
       "      <th></th>\n",
       "      <th></th>\n",
       "      <th>Item_Fat_Content</th>\n",
       "      <th>Item_Visibility</th>\n",
       "      <th>Item_Type</th>\n",
       "      <th>Item_MRP</th>\n",
       "      <th>Outlet_Size</th>\n",
       "      <th>Item_Outlet_Sales</th>\n",
       "    </tr>\n",
       "    <tr>\n",
       "      <th>Outlet_Location_Type</th>\n",
       "      <th>Outlet_Type</th>\n",
       "      <th>Outlet_Identifier</th>\n",
       "      <th>Item_Identifier</th>\n",
       "      <th></th>\n",
       "      <th></th>\n",
       "      <th></th>\n",
       "      <th></th>\n",
       "      <th></th>\n",
       "      <th></th>\n",
       "    </tr>\n",
       "  </thead>\n",
       "  <tbody>\n",
       "    <tr>\n",
       "      <th rowspan=\"5\" valign=\"top\">Tier 1</th>\n",
       "      <th rowspan=\"5\" valign=\"top\">Grocery Store</th>\n",
       "      <th rowspan=\"5\" valign=\"top\">OUT019</th>\n",
       "      <th>DRA24</th>\n",
       "      <td>Regular</td>\n",
       "      <td>0.069909</td>\n",
       "      <td>Soft Drinks</td>\n",
       "      <td>163.2868</td>\n",
       "      <td>Small</td>\n",
       "      <td>491.3604</td>\n",
       "    </tr>\n",
       "    <tr>\n",
       "      <th>DRA59</th>\n",
       "      <td>Regular</td>\n",
       "      <td>0.223985</td>\n",
       "      <td>Soft Drinks</td>\n",
       "      <td>186.2924</td>\n",
       "      <td>Small</td>\n",
       "      <td>555.2772</td>\n",
       "    </tr>\n",
       "    <tr>\n",
       "      <th>DRC25</th>\n",
       "      <td>Low Fat</td>\n",
       "      <td>0.079440</td>\n",
       "      <td>Soft Drinks</td>\n",
       "      <td>86.7882</td>\n",
       "      <td>Small</td>\n",
       "      <td>85.8882</td>\n",
       "    </tr>\n",
       "    <tr>\n",
       "      <th>DRD15</th>\n",
       "      <td>Low Fat</td>\n",
       "      <td>0.099442</td>\n",
       "      <td>Dairy</td>\n",
       "      <td>233.1642</td>\n",
       "      <td>Small</td>\n",
       "      <td>697.0926</td>\n",
       "    </tr>\n",
       "    <tr>\n",
       "      <th>DRD25</th>\n",
       "      <td>Low Fat</td>\n",
       "      <td>0.138270</td>\n",
       "      <td>Soft Drinks</td>\n",
       "      <td>111.6860</td>\n",
       "      <td>Small</td>\n",
       "      <td>452.7440</td>\n",
       "    </tr>\n",
       "    <tr>\n",
       "      <th>...</th>\n",
       "      <th>...</th>\n",
       "      <th>...</th>\n",
       "      <th>...</th>\n",
       "      <td>...</td>\n",
       "      <td>...</td>\n",
       "      <td>...</td>\n",
       "      <td>...</td>\n",
       "      <td>...</td>\n",
       "      <td>...</td>\n",
       "    </tr>\n",
       "    <tr>\n",
       "      <th rowspan=\"5\" valign=\"top\">Tier 3</th>\n",
       "      <th rowspan=\"5\" valign=\"top\">Supermarket Type3</th>\n",
       "      <th rowspan=\"5\" valign=\"top\">OUT027</th>\n",
       "      <th>NCZ06</th>\n",
       "      <td>Low Fat</td>\n",
       "      <td>0.093706</td>\n",
       "      <td>Household</td>\n",
       "      <td>253.8698</td>\n",
       "      <td>Medium</td>\n",
       "      <td>3297.7074</td>\n",
       "    </tr>\n",
       "    <tr>\n",
       "      <th>NCZ17</th>\n",
       "      <td>Low Fat</td>\n",
       "      <td>0.079047</td>\n",
       "      <td>Health and Hygiene</td>\n",
       "      <td>39.8506</td>\n",
       "      <td>Medium</td>\n",
       "      <td>1480.0734</td>\n",
       "    </tr>\n",
       "    <tr>\n",
       "      <th>NCZ30</th>\n",
       "      <td>Low Fat</td>\n",
       "      <td>0.026058</td>\n",
       "      <td>Household</td>\n",
       "      <td>121.9098</td>\n",
       "      <td>Medium</td>\n",
       "      <td>3374.2744</td>\n",
       "    </tr>\n",
       "    <tr>\n",
       "      <th>NCZ53</th>\n",
       "      <td>Low Fat</td>\n",
       "      <td>0.024359</td>\n",
       "      <td>Health and Hygiene</td>\n",
       "      <td>190.4214</td>\n",
       "      <td>Medium</td>\n",
       "      <td>5652.6420</td>\n",
       "    </tr>\n",
       "    <tr>\n",
       "      <th>NCZ54</th>\n",
       "      <td>Low Fat</td>\n",
       "      <td>0.082956</td>\n",
       "      <td>Household</td>\n",
       "      <td>164.0552</td>\n",
       "      <td>Medium</td>\n",
       "      <td>5523.4768</td>\n",
       "    </tr>\n",
       "  </tbody>\n",
       "</table>\n",
       "<p>8523 rows × 6 columns</p>\n",
       "</div>"
      ],
      "text/plain": [
       "                                                                         Item_Fat_Content  \\\n",
       "Outlet_Location_Type Outlet_Type       Outlet_Identifier Item_Identifier                    \n",
       "Tier 1               Grocery Store     OUT019            DRA24                    Regular   \n",
       "                                                         DRA59                    Regular   \n",
       "                                                         DRC25                    Low Fat   \n",
       "                                                         DRD15                    Low Fat   \n",
       "                                                         DRD25                    Low Fat   \n",
       "...                                                                                   ...   \n",
       "Tier 3               Supermarket Type3 OUT027            NCZ06                    Low Fat   \n",
       "                                                         NCZ17                    Low Fat   \n",
       "                                                         NCZ30                    Low Fat   \n",
       "                                                         NCZ53                    Low Fat   \n",
       "                                                         NCZ54                    Low Fat   \n",
       "\n",
       "                                                                          Item_Visibility  \\\n",
       "Outlet_Location_Type Outlet_Type       Outlet_Identifier Item_Identifier                    \n",
       "Tier 1               Grocery Store     OUT019            DRA24                   0.069909   \n",
       "                                                         DRA59                   0.223985   \n",
       "                                                         DRC25                   0.079440   \n",
       "                                                         DRD15                   0.099442   \n",
       "                                                         DRD25                   0.138270   \n",
       "...                                                                                   ...   \n",
       "Tier 3               Supermarket Type3 OUT027            NCZ06                   0.093706   \n",
       "                                                         NCZ17                   0.079047   \n",
       "                                                         NCZ30                   0.026058   \n",
       "                                                         NCZ53                   0.024359   \n",
       "                                                         NCZ54                   0.082956   \n",
       "\n",
       "                                                                                   Item_Type  \\\n",
       "Outlet_Location_Type Outlet_Type       Outlet_Identifier Item_Identifier                       \n",
       "Tier 1               Grocery Store     OUT019            DRA24                   Soft Drinks   \n",
       "                                                         DRA59                   Soft Drinks   \n",
       "                                                         DRC25                   Soft Drinks   \n",
       "                                                         DRD15                         Dairy   \n",
       "                                                         DRD25                   Soft Drinks   \n",
       "...                                                                                      ...   \n",
       "Tier 3               Supermarket Type3 OUT027            NCZ06                     Household   \n",
       "                                                         NCZ17            Health and Hygiene   \n",
       "                                                         NCZ30                     Household   \n",
       "                                                         NCZ53            Health and Hygiene   \n",
       "                                                         NCZ54                     Household   \n",
       "\n",
       "                                                                          Item_MRP  \\\n",
       "Outlet_Location_Type Outlet_Type       Outlet_Identifier Item_Identifier             \n",
       "Tier 1               Grocery Store     OUT019            DRA24            163.2868   \n",
       "                                                         DRA59            186.2924   \n",
       "                                                         DRC25             86.7882   \n",
       "                                                         DRD15            233.1642   \n",
       "                                                         DRD25            111.6860   \n",
       "...                                                                            ...   \n",
       "Tier 3               Supermarket Type3 OUT027            NCZ06            253.8698   \n",
       "                                                         NCZ17             39.8506   \n",
       "                                                         NCZ30            121.9098   \n",
       "                                                         NCZ53            190.4214   \n",
       "                                                         NCZ54            164.0552   \n",
       "\n",
       "                                                                         Outlet_Size  \\\n",
       "Outlet_Location_Type Outlet_Type       Outlet_Identifier Item_Identifier               \n",
       "Tier 1               Grocery Store     OUT019            DRA24                 Small   \n",
       "                                                         DRA59                 Small   \n",
       "                                                         DRC25                 Small   \n",
       "                                                         DRD15                 Small   \n",
       "                                                         DRD25                 Small   \n",
       "...                                                                              ...   \n",
       "Tier 3               Supermarket Type3 OUT027            NCZ06                Medium   \n",
       "                                                         NCZ17                Medium   \n",
       "                                                         NCZ30                Medium   \n",
       "                                                         NCZ53                Medium   \n",
       "                                                         NCZ54                Medium   \n",
       "\n",
       "                                                                          Item_Outlet_Sales  \n",
       "Outlet_Location_Type Outlet_Type       Outlet_Identifier Item_Identifier                     \n",
       "Tier 1               Grocery Store     OUT019            DRA24                     491.3604  \n",
       "                                                         DRA59                     555.2772  \n",
       "                                                         DRC25                      85.8882  \n",
       "                                                         DRD15                     697.0926  \n",
       "                                                         DRD25                     452.7440  \n",
       "...                                                                                     ...  \n",
       "Tier 3               Supermarket Type3 OUT027            NCZ06                    3297.7074  \n",
       "                                                         NCZ17                    1480.0734  \n",
       "                                                         NCZ30                    3374.2744  \n",
       "                                                         NCZ53                    5652.6420  \n",
       "                                                         NCZ54                    5523.4768  \n",
       "\n",
       "[8523 rows x 6 columns]"
      ]
     },
     "execution_count": 115,
     "metadata": {},
     "output_type": "execute_result"
    }
   ],
   "source": [
    "df_indexed = df.set_index([\"Outlet_Location_Type\",\"Outlet_Type\",\"Outlet_Identifier\",\"Item_Identifier\"])\n",
    "df_indexed"
   ]
  },
  {
   "cell_type": "raw",
   "id": "9fb97078-397f-488b-8a90-6af4c2baaeb3",
   "metadata": {},
   "source": [
    "Let's generate a csv file to save the cleaning information"
   ]
  },
  {
   "cell_type": "code",
   "execution_count": 117,
   "id": "e259c32f-7490-4d92-8163-3da1c794e929",
   "metadata": {},
   "outputs": [],
   "source": [
    "df_indexed.to_csv(path_or_buf=\"food_sales_forecast_cleaned.csv\")"
   ]
  },
  {
   "cell_type": "markdown",
   "id": "f2f198df-e31a-43de-b5b0-314c02041544",
   "metadata": {
    "tags": []
   },
   "source": [
    "## Summary Statistics"
   ]
  },
  {
   "cell_type": "code",
   "execution_count": 65,
   "id": "7630c299-354d-4a77-a2b0-29f1751812e9",
   "metadata": {},
   "outputs": [
    {
     "data": {
      "text/html": [
       "<div>\n",
       "<style scoped>\n",
       "    .dataframe tbody tr th:only-of-type {\n",
       "        vertical-align: middle;\n",
       "    }\n",
       "\n",
       "    .dataframe tbody tr th {\n",
       "        vertical-align: top;\n",
       "    }\n",
       "\n",
       "    .dataframe thead th {\n",
       "        text-align: right;\n",
       "    }\n",
       "</style>\n",
       "<table border=\"1\" class=\"dataframe\">\n",
       "  <thead>\n",
       "    <tr style=\"text-align: right;\">\n",
       "      <th></th>\n",
       "      <th>Item_Weight</th>\n",
       "      <th>Item_Visibility</th>\n",
       "      <th>Item_MRP</th>\n",
       "      <th>Outlet_Establishment_Year</th>\n",
       "      <th>Item_Outlet_Sales</th>\n",
       "    </tr>\n",
       "  </thead>\n",
       "  <tbody>\n",
       "    <tr>\n",
       "      <th>count</th>\n",
       "      <td>7060.000000</td>\n",
       "      <td>8523.000000</td>\n",
       "      <td>8523.000000</td>\n",
       "      <td>8523.000000</td>\n",
       "      <td>8523.000000</td>\n",
       "    </tr>\n",
       "    <tr>\n",
       "      <th>mean</th>\n",
       "      <td>12.857645</td>\n",
       "      <td>0.066132</td>\n",
       "      <td>140.992782</td>\n",
       "      <td>1997.831867</td>\n",
       "      <td>2181.288914</td>\n",
       "    </tr>\n",
       "    <tr>\n",
       "      <th>std</th>\n",
       "      <td>4.643456</td>\n",
       "      <td>0.051598</td>\n",
       "      <td>62.275067</td>\n",
       "      <td>8.371760</td>\n",
       "      <td>1706.499616</td>\n",
       "    </tr>\n",
       "    <tr>\n",
       "      <th>min</th>\n",
       "      <td>4.555000</td>\n",
       "      <td>0.000000</td>\n",
       "      <td>31.290000</td>\n",
       "      <td>1985.000000</td>\n",
       "      <td>33.290000</td>\n",
       "    </tr>\n",
       "    <tr>\n",
       "      <th>25%</th>\n",
       "      <td>8.773750</td>\n",
       "      <td>0.026989</td>\n",
       "      <td>93.826500</td>\n",
       "      <td>1987.000000</td>\n",
       "      <td>834.247400</td>\n",
       "    </tr>\n",
       "    <tr>\n",
       "      <th>50%</th>\n",
       "      <td>12.600000</td>\n",
       "      <td>0.053931</td>\n",
       "      <td>143.012800</td>\n",
       "      <td>1999.000000</td>\n",
       "      <td>1794.331000</td>\n",
       "    </tr>\n",
       "    <tr>\n",
       "      <th>75%</th>\n",
       "      <td>16.850000</td>\n",
       "      <td>0.094585</td>\n",
       "      <td>185.643700</td>\n",
       "      <td>2004.000000</td>\n",
       "      <td>3101.296400</td>\n",
       "    </tr>\n",
       "    <tr>\n",
       "      <th>max</th>\n",
       "      <td>21.350000</td>\n",
       "      <td>0.328391</td>\n",
       "      <td>266.888400</td>\n",
       "      <td>2009.000000</td>\n",
       "      <td>13086.964800</td>\n",
       "    </tr>\n",
       "  </tbody>\n",
       "</table>\n",
       "</div>"
      ],
      "text/plain": [
       "       Item_Weight  Item_Visibility     Item_MRP  Outlet_Establishment_Year  \\\n",
       "count  7060.000000      8523.000000  8523.000000                8523.000000   \n",
       "mean     12.857645         0.066132   140.992782                1997.831867   \n",
       "std       4.643456         0.051598    62.275067                   8.371760   \n",
       "min       4.555000         0.000000    31.290000                1985.000000   \n",
       "25%       8.773750         0.026989    93.826500                1987.000000   \n",
       "50%      12.600000         0.053931   143.012800                1999.000000   \n",
       "75%      16.850000         0.094585   185.643700                2004.000000   \n",
       "max      21.350000         0.328391   266.888400                2009.000000   \n",
       "\n",
       "       Item_Outlet_Sales  \n",
       "count        8523.000000  \n",
       "mean         2181.288914  \n",
       "std          1706.499616  \n",
       "min            33.290000  \n",
       "25%           834.247400  \n",
       "50%          1794.331000  \n",
       "75%          3101.296400  \n",
       "max         13086.964800  "
      ]
     },
     "execution_count": 65,
     "metadata": {},
     "output_type": "execute_result"
    }
   ],
   "source": [
    "df.describe()"
   ]
  },
  {
   "cell_type": "markdown",
   "id": "67551f2a-9f2d-41a1-af72-01a0dd73d748",
   "metadata": {
    "jp-MarkdownHeadingCollapsed": true,
    "tags": []
   },
   "source": [
    "## Working Section"
   ]
  },
  {
   "cell_type": "code",
   "execution_count": 52,
   "id": "3df18f77-063d-41cf-8203-95ba85b5ed42",
   "metadata": {},
   "outputs": [
    {
     "data": {
      "text/plain": [
       "451"
      ]
     },
     "execution_count": 52,
     "metadata": {},
     "output_type": "execute_result"
    }
   ],
   "source": [
    "items_serie = df.groupby(\"Item_Identifier\")[\"Item_Weight\"].mean()\n",
    "#df[\"Item_Identifier\"].apply(lambda x: if x.isna() x = items_serie[x])\n",
    "#df.groupby(\"Item_Identifier\")[\"Item_Weight\"].mean().isna().sum()\n",
    "len(items_serie.unique())"
   ]
  },
  {
   "cell_type": "code",
   "execution_count": 47,
   "id": "3830a2d6-cd30-4f8c-a58d-7384f16d1c9a",
   "metadata": {
    "collapsed": true,
    "jupyter": {
     "outputs_hidden": true
    },
    "tags": []
   },
   "outputs": [
    {
     "name": "stdout",
     "output_type": "stream",
     "text": [
      "11.6\n",
      "19.35\n",
      "8.27\n",
      "7.39\n",
      "6.12\n",
      "8.79\n",
      "12.3\n",
      "16.75\n",
      "5.92\n",
      "17.85\n",
      "8.26\n",
      "17.85\n",
      "5.73\n",
      "13.8\n",
      "13.0\n",
      "8.67\n",
      "12.1\n",
      "6.96\n",
      "15.0\n"
     ]
    }
   ],
   "source": [
    "x = 1\n",
    "def replaceNan(x):\n",
    "    if type(x)!= \"float\":\n",
    "        print(round(x,2))\n",
    "    else:\n",
    "        pass\n",
    "    \n",
    "for i in items_serie:\n",
    "    if x == 20:\n",
    "        break\n",
    "    else:\n",
    "        replaceNan(i)\n",
    "        x+=1\n",
    "#items_serie.apply(lambda x: replaceNan(x))"
   ]
  },
  {
   "cell_type": "code",
   "execution_count": 55,
   "id": "d5112a45-3340-4ece-89a8-35ed23c3bcf8",
   "metadata": {},
   "outputs": [
    {
     "data": {
      "text/plain": [
       "10"
      ]
     },
     "execution_count": 55,
     "metadata": {},
     "output_type": "execute_result"
    }
   ],
   "source": [
    "len(df[\"Outlet_Identifier\"].unique())"
   ]
  }
 ],
 "metadata": {
  "kernelspec": {
   "display_name": "Python 3 (ipykernel)",
   "language": "python",
   "name": "python3"
  },
  "language_info": {
   "codemirror_mode": {
    "name": "ipython",
    "version": 3
   },
   "file_extension": ".py",
   "mimetype": "text/x-python",
   "name": "python",
   "nbconvert_exporter": "python",
   "pygments_lexer": "ipython3",
   "version": "3.10.4"
  }
 },
 "nbformat": 4,
 "nbformat_minor": 5
}
