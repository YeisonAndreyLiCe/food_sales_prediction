{
 "cells": [
  {
   "cell_type": "markdown",
   "id": "4691a60e-1e56-4144-8e3d-826455dd12be",
   "metadata": {},
   "source": [
    "# Implementation of Regression and Tree Decision Models"
   ]
  },
  {
   "cell_type": "markdown",
   "id": "a37b6267-49e8-476e-b189-37ceb979d3ea",
   "metadata": {},
   "source": [
    "In order to get a models that enables us to predict sales given the features two models were implemented: \n",
    "- **Linear Regression**\n",
    "    - $R²$ Score: 0.5564\n",
    "    - Average Error (RMSE): 1142.0976 USD\n",
    "- **Decision Tree Classifier** \n",
    "    - $R²$ Score: 0.5852\n",
    "    - Average Error (RMSE): 1104.4446 USD"
   ]
  },
  {
   "cell_type": "code",
   "execution_count": null,
   "id": "4bff7d2b-cdaa-4f62-81c4-a0c94217bf34",
   "metadata": {
    "tags": []
   },
   "outputs": [],
   "source": [
    "from sklearn.compose import make_column_selector, make_column_transformer\n",
    "from sklearn.preprocessing import StandardScaler, OneHotEncoder, OrdinalEncoder\n",
    "from sklearn.model_selection import train_test_split\n",
    "from sklearn.pipeline import make_pipeline\n",
    "from sklearn.impute import SimpleImputer\n",
    "from sklearn.linear_model import LinearRegression\n",
    "from sklearn.metrics import r2_score, mean_absolute_error, mean_squared_error\n",
    "from sklearn.tree import DecisionTreeRegressor\n",
    "import pandas as pd\n",
    "import numpy as np"
   ]
  },
  {
   "cell_type": "code",
   "execution_count": 2,
   "id": "4cf0cd6e-2cec-4838-b122-d849069b49c3",
   "metadata": {},
   "outputs": [
    {
     "data": {
      "text/html": [
       "<div>\n",
       "<style scoped>\n",
       "    .dataframe tbody tr th:only-of-type {\n",
       "        vertical-align: middle;\n",
       "    }\n",
       "\n",
       "    .dataframe tbody tr th {\n",
       "        vertical-align: top;\n",
       "    }\n",
       "\n",
       "    .dataframe thead th {\n",
       "        text-align: right;\n",
       "    }\n",
       "</style>\n",
       "<table border=\"1\" class=\"dataframe\">\n",
       "  <thead>\n",
       "    <tr style=\"text-align: right;\">\n",
       "      <th></th>\n",
       "      <th>Outlet_Location_Type</th>\n",
       "      <th>Outlet_Type</th>\n",
       "      <th>Outlet_Identifier</th>\n",
       "      <th>Item_Identifier</th>\n",
       "      <th>Item_Fat_Content</th>\n",
       "      <th>Item_Visibility</th>\n",
       "      <th>Item_Type</th>\n",
       "      <th>Item_MRP</th>\n",
       "      <th>Outlet_Size</th>\n",
       "      <th>Item_Outlet_Sales</th>\n",
       "    </tr>\n",
       "  </thead>\n",
       "  <tbody>\n",
       "    <tr>\n",
       "      <th>0</th>\n",
       "      <td>Tier 1</td>\n",
       "      <td>Grocery Store</td>\n",
       "      <td>OUT019</td>\n",
       "      <td>DRA24</td>\n",
       "      <td>Regular</td>\n",
       "      <td>0.069909</td>\n",
       "      <td>Soft Drinks</td>\n",
       "      <td>163.2868</td>\n",
       "      <td>Small</td>\n",
       "      <td>491.3604</td>\n",
       "    </tr>\n",
       "    <tr>\n",
       "      <th>1</th>\n",
       "      <td>Tier 1</td>\n",
       "      <td>Grocery Store</td>\n",
       "      <td>OUT019</td>\n",
       "      <td>DRA59</td>\n",
       "      <td>Regular</td>\n",
       "      <td>0.223985</td>\n",
       "      <td>Soft Drinks</td>\n",
       "      <td>186.2924</td>\n",
       "      <td>Small</td>\n",
       "      <td>555.2772</td>\n",
       "    </tr>\n",
       "    <tr>\n",
       "      <th>2</th>\n",
       "      <td>Tier 1</td>\n",
       "      <td>Grocery Store</td>\n",
       "      <td>OUT019</td>\n",
       "      <td>DRC25</td>\n",
       "      <td>Low Fat</td>\n",
       "      <td>0.079440</td>\n",
       "      <td>Soft Drinks</td>\n",
       "      <td>86.7882</td>\n",
       "      <td>Small</td>\n",
       "      <td>85.8882</td>\n",
       "    </tr>\n",
       "    <tr>\n",
       "      <th>3</th>\n",
       "      <td>Tier 1</td>\n",
       "      <td>Grocery Store</td>\n",
       "      <td>OUT019</td>\n",
       "      <td>DRD15</td>\n",
       "      <td>Low Fat</td>\n",
       "      <td>0.099442</td>\n",
       "      <td>Dairy</td>\n",
       "      <td>233.1642</td>\n",
       "      <td>Small</td>\n",
       "      <td>697.0926</td>\n",
       "    </tr>\n",
       "    <tr>\n",
       "      <th>4</th>\n",
       "      <td>Tier 1</td>\n",
       "      <td>Grocery Store</td>\n",
       "      <td>OUT019</td>\n",
       "      <td>DRD25</td>\n",
       "      <td>Low Fat</td>\n",
       "      <td>0.138270</td>\n",
       "      <td>Soft Drinks</td>\n",
       "      <td>111.6860</td>\n",
       "      <td>Small</td>\n",
       "      <td>452.7440</td>\n",
       "    </tr>\n",
       "  </tbody>\n",
       "</table>\n",
       "</div>"
      ],
      "text/plain": [
       "  Outlet_Location_Type    Outlet_Type Outlet_Identifier Item_Identifier  \\\n",
       "0               Tier 1  Grocery Store            OUT019           DRA24   \n",
       "1               Tier 1  Grocery Store            OUT019           DRA59   \n",
       "2               Tier 1  Grocery Store            OUT019           DRC25   \n",
       "3               Tier 1  Grocery Store            OUT019           DRD15   \n",
       "4               Tier 1  Grocery Store            OUT019           DRD25   \n",
       "\n",
       "  Item_Fat_Content  Item_Visibility    Item_Type  Item_MRP Outlet_Size  \\\n",
       "0          Regular         0.069909  Soft Drinks  163.2868       Small   \n",
       "1          Regular         0.223985  Soft Drinks  186.2924       Small   \n",
       "2          Low Fat         0.079440  Soft Drinks   86.7882       Small   \n",
       "3          Low Fat         0.099442        Dairy  233.1642       Small   \n",
       "4          Low Fat         0.138270  Soft Drinks  111.6860       Small   \n",
       "\n",
       "   Item_Outlet_Sales  \n",
       "0           491.3604  \n",
       "1           555.2772  \n",
       "2            85.8882  \n",
       "3           697.0926  \n",
       "4           452.7440  "
      ]
     },
     "execution_count": 2,
     "metadata": {},
     "output_type": "execute_result"
    }
   ],
   "source": [
    "df = pd.read_csv(\"food_sales_forecast_cleaned.csv\")\n",
    "df.head()"
   ]
  },
  {
   "cell_type": "markdown",
   "id": "dc14ad1f-1095-4719-8769-9a0913b996dd",
   "metadata": {},
   "source": [
    "## Splitting the Dataset "
   ]
  },
  {
   "cell_type": "code",
   "execution_count": 3,
   "id": "aa7c96d6-9c99-44c6-9726-615106873d1d",
   "metadata": {},
   "outputs": [],
   "source": [
    "X = df.drop(columns=[\"Item_Outlet_Sales\", \"Item_Identifier\"])\n",
    "y = df[\"Item_Outlet_Sales\"]\n",
    "\n",
    "X_train, X_test, y_train, y_test = train_test_split(X, y, random_state=42)"
   ]
  },
  {
   "cell_type": "code",
   "execution_count": 5,
   "id": "05b0d889-e0d2-43f4-b338-31b32b3e6ebb",
   "metadata": {},
   "outputs": [
    {
     "name": "stdout",
     "output_type": "stream",
     "text": [
      "Numerical columns: ['Item_Visibility', 'Item_MRP'] \n",
      "Categorical columns: ['Outlet_Location_Type', 'Outlet_Type', 'Outlet_Identifier', 'Item_Fat_Content', 'Item_Type', 'Outlet_Size']\n"
     ]
    }
   ],
   "source": [
    "num_features = make_column_selector(dtype_include=\"number\")(X)\n",
    "cat_features = make_column_selector(dtype_include=\"object\")(X)\n",
    "print(f\"Numerical columns: {num_features} \\nCategorical columns: {cat_features}\")\n",
    "#print(f\"Nominal features: {features[0]} \\nCategorical features: {features[1]}\")"
   ]
  },
  {
   "cell_type": "markdown",
   "id": "cc38a062-6909-4b35-aff8-700f5c73c834",
   "metadata": {},
   "source": [
    "In this case we can observe that the all the **ordinal features** are as follow:\n",
    "- Item_Fat_content\n",
    "- Outlet_Size\n",
    "\n",
    "The **nominal features** are the following:\n",
    "- Item_Identifier --> This column will be deleted because it has more that 1000 categories and it is possible to do the analysis without the column.\n",
    "- Item_Type\n",
    "- Outlet_Identifier\n",
    "- Outlet_Location_Type\n",
    "- Outlet_Type"
   ]
  },
  {
   "cell_type": "markdown",
   "id": "e8a1734e-6ab8-4057-bdfa-cf4ad12c16cf",
   "metadata": {},
   "source": [
    "## Instantiate Transformers"
   ]
  },
  {
   "cell_type": "code",
   "execution_count": 6,
   "id": "77e4b397-7737-47b8-b07d-d09071ba9988",
   "metadata": {},
   "outputs": [],
   "source": [
    "ordinal_encoder = OrdinalEncoder()\n",
    "scaler = StandardScaler()\n",
    "ohe = OneHotEncoder(handle_unknown=\"ignore\", sparse=False)"
   ]
  },
  {
   "cell_type": "markdown",
   "id": "fa090de8-4fe3-4fe6-a344-5714d9fc8274",
   "metadata": {},
   "source": [
    "## Instantiate Pipelines"
   ]
  },
  {
   "cell_type": "code",
   "execution_count": 7,
   "id": "7cf0e73f-f477-4ec2-96e7-1787744bc331",
   "metadata": {},
   "outputs": [],
   "source": [
    "num_pipe = make_pipeline(scaler)\n",
    "ord_cat_pipe = make_pipeline(ordinal_encoder)\n",
    "nom_cat_pipe = make_pipeline(ohe)"
   ]
  },
  {
   "cell_type": "code",
   "execution_count": 8,
   "id": "6f5040fa-841c-47cb-965b-60b43c769e51",
   "metadata": {},
   "outputs": [],
   "source": [
    "num_tuple = (num_pipe, ['Item_Visibility', 'Item_MRP'])\n",
    "ord_tuple = (ord_cat_pipe, [\"Item_Fat_Content\", \"Outlet_Size\"])\n",
    "nom_tuple = (nom_cat_pipe, [\"Item_Type\", \"Outlet_Identifier\", \"Outlet_Location_Type\", \"Outlet_Type\"])"
   ]
  },
  {
   "cell_type": "markdown",
   "id": "19fb8161-fa83-4864-9067-818497252e30",
   "metadata": {},
   "source": [
    "## Instantiate ColumnTransformer"
   ]
  },
  {
   "cell_type": "code",
   "execution_count": 10,
   "id": "33565eaa-3b5e-42bb-bad3-e28baf866caa",
   "metadata": {},
   "outputs": [
    {
     "data": {
      "text/html": [
       "<style>#sk-container-id-2 {color: black;background-color: white;}#sk-container-id-2 pre{padding: 0;}#sk-container-id-2 div.sk-toggleable {background-color: white;}#sk-container-id-2 label.sk-toggleable__label {cursor: pointer;display: block;width: 100%;margin-bottom: 0;padding: 0.3em;box-sizing: border-box;text-align: center;}#sk-container-id-2 label.sk-toggleable__label-arrow:before {content: \"▸\";float: left;margin-right: 0.25em;color: #696969;}#sk-container-id-2 label.sk-toggleable__label-arrow:hover:before {color: black;}#sk-container-id-2 div.sk-estimator:hover label.sk-toggleable__label-arrow:before {color: black;}#sk-container-id-2 div.sk-toggleable__content {max-height: 0;max-width: 0;overflow: hidden;text-align: left;background-color: #f0f8ff;}#sk-container-id-2 div.sk-toggleable__content pre {margin: 0.2em;color: black;border-radius: 0.25em;background-color: #f0f8ff;}#sk-container-id-2 input.sk-toggleable__control:checked~div.sk-toggleable__content {max-height: 200px;max-width: 100%;overflow: auto;}#sk-container-id-2 input.sk-toggleable__control:checked~label.sk-toggleable__label-arrow:before {content: \"▾\";}#sk-container-id-2 div.sk-estimator input.sk-toggleable__control:checked~label.sk-toggleable__label {background-color: #d4ebff;}#sk-container-id-2 div.sk-label input.sk-toggleable__control:checked~label.sk-toggleable__label {background-color: #d4ebff;}#sk-container-id-2 input.sk-hidden--visually {border: 0;clip: rect(1px 1px 1px 1px);clip: rect(1px, 1px, 1px, 1px);height: 1px;margin: -1px;overflow: hidden;padding: 0;position: absolute;width: 1px;}#sk-container-id-2 div.sk-estimator {font-family: monospace;background-color: #f0f8ff;border: 1px dotted black;border-radius: 0.25em;box-sizing: border-box;margin-bottom: 0.5em;}#sk-container-id-2 div.sk-estimator:hover {background-color: #d4ebff;}#sk-container-id-2 div.sk-parallel-item::after {content: \"\";width: 100%;border-bottom: 1px solid gray;flex-grow: 1;}#sk-container-id-2 div.sk-label:hover label.sk-toggleable__label {background-color: #d4ebff;}#sk-container-id-2 div.sk-serial::before {content: \"\";position: absolute;border-left: 1px solid gray;box-sizing: border-box;top: 0;bottom: 0;left: 50%;z-index: 0;}#sk-container-id-2 div.sk-serial {display: flex;flex-direction: column;align-items: center;background-color: white;padding-right: 0.2em;padding-left: 0.2em;position: relative;}#sk-container-id-2 div.sk-item {position: relative;z-index: 1;}#sk-container-id-2 div.sk-parallel {display: flex;align-items: stretch;justify-content: center;background-color: white;position: relative;}#sk-container-id-2 div.sk-item::before, #sk-container-id-2 div.sk-parallel-item::before {content: \"\";position: absolute;border-left: 1px solid gray;box-sizing: border-box;top: 0;bottom: 0;left: 50%;z-index: -1;}#sk-container-id-2 div.sk-parallel-item {display: flex;flex-direction: column;z-index: 1;position: relative;background-color: white;}#sk-container-id-2 div.sk-parallel-item:first-child::after {align-self: flex-end;width: 50%;}#sk-container-id-2 div.sk-parallel-item:last-child::after {align-self: flex-start;width: 50%;}#sk-container-id-2 div.sk-parallel-item:only-child::after {width: 0;}#sk-container-id-2 div.sk-dashed-wrapped {border: 1px dashed gray;margin: 0 0.4em 0.5em 0.4em;box-sizing: border-box;padding-bottom: 0.4em;background-color: white;}#sk-container-id-2 div.sk-label label {font-family: monospace;font-weight: bold;display: inline-block;line-height: 1.2em;}#sk-container-id-2 div.sk-label-container {text-align: center;}#sk-container-id-2 div.sk-container {/* jupyter's `normalize.less` sets `[hidden] { display: none; }` but bootstrap.min.css set `[hidden] { display: none !important; }` so we also need the `!important` here to be able to override the default hidden behavior on the sphinx rendered scikit-learn.org. See: https://github.com/scikit-learn/scikit-learn/issues/21755 */display: inline-block !important;position: relative;}#sk-container-id-2 div.sk-text-repr-fallback {display: none;}</style><div id=\"sk-container-id-2\" class=\"sk-top-container\"><div class=\"sk-text-repr-fallback\"><pre>ColumnTransformer(transformers=[(&#x27;pipeline-1&#x27;,\n",
       "                                 Pipeline(steps=[(&#x27;standardscaler&#x27;,\n",
       "                                                  StandardScaler())]),\n",
       "                                 [&#x27;Item_Visibility&#x27;, &#x27;Item_MRP&#x27;]),\n",
       "                                (&#x27;pipeline-2&#x27;,\n",
       "                                 Pipeline(steps=[(&#x27;ordinalencoder&#x27;,\n",
       "                                                  OrdinalEncoder())]),\n",
       "                                 [&#x27;Item_Fat_Content&#x27;, &#x27;Outlet_Size&#x27;]),\n",
       "                                (&#x27;pipeline-3&#x27;,\n",
       "                                 Pipeline(steps=[(&#x27;onehotencoder&#x27;,\n",
       "                                                  OneHotEncoder(handle_unknown=&#x27;ignore&#x27;,\n",
       "                                                                sparse=False))]),\n",
       "                                 [&#x27;Item_Type&#x27;, &#x27;Outlet_Identifier&#x27;,\n",
       "                                  &#x27;Outlet_Location_Type&#x27;, &#x27;Outlet_Type&#x27;])])</pre><b>In a Jupyter environment, please rerun this cell to show the HTML representation or trust the notebook. <br />On GitHub, the HTML representation is unable to render, please try loading this page with nbviewer.org.</b></div><div class=\"sk-container\" hidden><div class=\"sk-item sk-dashed-wrapped\"><div class=\"sk-label-container\"><div class=\"sk-label sk-toggleable\"><input class=\"sk-toggleable__control sk-hidden--visually\" id=\"sk-estimator-id-8\" type=\"checkbox\" ><label for=\"sk-estimator-id-8\" class=\"sk-toggleable__label sk-toggleable__label-arrow\">ColumnTransformer</label><div class=\"sk-toggleable__content\"><pre>ColumnTransformer(transformers=[(&#x27;pipeline-1&#x27;,\n",
       "                                 Pipeline(steps=[(&#x27;standardscaler&#x27;,\n",
       "                                                  StandardScaler())]),\n",
       "                                 [&#x27;Item_Visibility&#x27;, &#x27;Item_MRP&#x27;]),\n",
       "                                (&#x27;pipeline-2&#x27;,\n",
       "                                 Pipeline(steps=[(&#x27;ordinalencoder&#x27;,\n",
       "                                                  OrdinalEncoder())]),\n",
       "                                 [&#x27;Item_Fat_Content&#x27;, &#x27;Outlet_Size&#x27;]),\n",
       "                                (&#x27;pipeline-3&#x27;,\n",
       "                                 Pipeline(steps=[(&#x27;onehotencoder&#x27;,\n",
       "                                                  OneHotEncoder(handle_unknown=&#x27;ignore&#x27;,\n",
       "                                                                sparse=False))]),\n",
       "                                 [&#x27;Item_Type&#x27;, &#x27;Outlet_Identifier&#x27;,\n",
       "                                  &#x27;Outlet_Location_Type&#x27;, &#x27;Outlet_Type&#x27;])])</pre></div></div></div><div class=\"sk-parallel\"><div class=\"sk-parallel-item\"><div class=\"sk-item\"><div class=\"sk-label-container\"><div class=\"sk-label sk-toggleable\"><input class=\"sk-toggleable__control sk-hidden--visually\" id=\"sk-estimator-id-9\" type=\"checkbox\" ><label for=\"sk-estimator-id-9\" class=\"sk-toggleable__label sk-toggleable__label-arrow\">pipeline-1</label><div class=\"sk-toggleable__content\"><pre>[&#x27;Item_Visibility&#x27;, &#x27;Item_MRP&#x27;]</pre></div></div></div><div class=\"sk-serial\"><div class=\"sk-item\"><div class=\"sk-serial\"><div class=\"sk-item\"><div class=\"sk-estimator sk-toggleable\"><input class=\"sk-toggleable__control sk-hidden--visually\" id=\"sk-estimator-id-10\" type=\"checkbox\" ><label for=\"sk-estimator-id-10\" class=\"sk-toggleable__label sk-toggleable__label-arrow\">StandardScaler</label><div class=\"sk-toggleable__content\"><pre>StandardScaler()</pre></div></div></div></div></div></div></div></div><div class=\"sk-parallel-item\"><div class=\"sk-item\"><div class=\"sk-label-container\"><div class=\"sk-label sk-toggleable\"><input class=\"sk-toggleable__control sk-hidden--visually\" id=\"sk-estimator-id-11\" type=\"checkbox\" ><label for=\"sk-estimator-id-11\" class=\"sk-toggleable__label sk-toggleable__label-arrow\">pipeline-2</label><div class=\"sk-toggleable__content\"><pre>[&#x27;Item_Fat_Content&#x27;, &#x27;Outlet_Size&#x27;]</pre></div></div></div><div class=\"sk-serial\"><div class=\"sk-item\"><div class=\"sk-serial\"><div class=\"sk-item\"><div class=\"sk-estimator sk-toggleable\"><input class=\"sk-toggleable__control sk-hidden--visually\" id=\"sk-estimator-id-12\" type=\"checkbox\" ><label for=\"sk-estimator-id-12\" class=\"sk-toggleable__label sk-toggleable__label-arrow\">OrdinalEncoder</label><div class=\"sk-toggleable__content\"><pre>OrdinalEncoder()</pre></div></div></div></div></div></div></div></div><div class=\"sk-parallel-item\"><div class=\"sk-item\"><div class=\"sk-label-container\"><div class=\"sk-label sk-toggleable\"><input class=\"sk-toggleable__control sk-hidden--visually\" id=\"sk-estimator-id-13\" type=\"checkbox\" ><label for=\"sk-estimator-id-13\" class=\"sk-toggleable__label sk-toggleable__label-arrow\">pipeline-3</label><div class=\"sk-toggleable__content\"><pre>[&#x27;Item_Type&#x27;, &#x27;Outlet_Identifier&#x27;, &#x27;Outlet_Location_Type&#x27;, &#x27;Outlet_Type&#x27;]</pre></div></div></div><div class=\"sk-serial\"><div class=\"sk-item\"><div class=\"sk-serial\"><div class=\"sk-item\"><div class=\"sk-estimator sk-toggleable\"><input class=\"sk-toggleable__control sk-hidden--visually\" id=\"sk-estimator-id-14\" type=\"checkbox\" ><label for=\"sk-estimator-id-14\" class=\"sk-toggleable__label sk-toggleable__label-arrow\">OneHotEncoder</label><div class=\"sk-toggleable__content\"><pre>OneHotEncoder(handle_unknown=&#x27;ignore&#x27;, sparse=False)</pre></div></div></div></div></div></div></div></div></div></div></div></div>"
      ],
      "text/plain": [
       "ColumnTransformer(transformers=[('pipeline-1',\n",
       "                                 Pipeline(steps=[('standardscaler',\n",
       "                                                  StandardScaler())]),\n",
       "                                 ['Item_Visibility', 'Item_MRP']),\n",
       "                                ('pipeline-2',\n",
       "                                 Pipeline(steps=[('ordinalencoder',\n",
       "                                                  OrdinalEncoder())]),\n",
       "                                 ['Item_Fat_Content', 'Outlet_Size']),\n",
       "                                ('pipeline-3',\n",
       "                                 Pipeline(steps=[('onehotencoder',\n",
       "                                                  OneHotEncoder(handle_unknown='ignore',\n",
       "                                                                sparse=False))]),\n",
       "                                 ['Item_Type', 'Outlet_Identifier',\n",
       "                                  'Outlet_Location_Type', 'Outlet_Type'])])"
      ]
     },
     "execution_count": 10,
     "metadata": {},
     "output_type": "execute_result"
    }
   ],
   "source": [
    "preprocessor = make_column_transformer(num_tuple, ord_tuple, nom_tuple)\n",
    "preprocessor.fit(X_train)"
   ]
  },
  {
   "cell_type": "code",
   "execution_count": 11,
   "id": "40c95c34-6a0d-44c7-a6a8-b23d45391511",
   "metadata": {},
   "outputs": [],
   "source": [
    "X_train_processed = preprocessor.transform(X_train)\n",
    "X_test_processed = preprocessor.transform(X_test)"
   ]
  },
  {
   "cell_type": "markdown",
   "id": "f18556e2-12fa-4fea-834d-238f65842b94",
   "metadata": {},
   "source": [
    "# Models"
   ]
  },
  {
   "cell_type": "markdown",
   "id": "de6623e3-e0d0-4ab8-8445-0c2dc483cbce",
   "metadata": {},
   "source": [
    "## Linear regression"
   ]
  },
  {
   "cell_type": "code",
   "execution_count": 12,
   "id": "27f11fd5-6a4c-4caf-8e00-7ef205bd6f5c",
   "metadata": {},
   "outputs": [
    {
     "data": {
      "text/html": [
       "<style>#sk-container-id-3 {color: black;background-color: white;}#sk-container-id-3 pre{padding: 0;}#sk-container-id-3 div.sk-toggleable {background-color: white;}#sk-container-id-3 label.sk-toggleable__label {cursor: pointer;display: block;width: 100%;margin-bottom: 0;padding: 0.3em;box-sizing: border-box;text-align: center;}#sk-container-id-3 label.sk-toggleable__label-arrow:before {content: \"▸\";float: left;margin-right: 0.25em;color: #696969;}#sk-container-id-3 label.sk-toggleable__label-arrow:hover:before {color: black;}#sk-container-id-3 div.sk-estimator:hover label.sk-toggleable__label-arrow:before {color: black;}#sk-container-id-3 div.sk-toggleable__content {max-height: 0;max-width: 0;overflow: hidden;text-align: left;background-color: #f0f8ff;}#sk-container-id-3 div.sk-toggleable__content pre {margin: 0.2em;color: black;border-radius: 0.25em;background-color: #f0f8ff;}#sk-container-id-3 input.sk-toggleable__control:checked~div.sk-toggleable__content {max-height: 200px;max-width: 100%;overflow: auto;}#sk-container-id-3 input.sk-toggleable__control:checked~label.sk-toggleable__label-arrow:before {content: \"▾\";}#sk-container-id-3 div.sk-estimator input.sk-toggleable__control:checked~label.sk-toggleable__label {background-color: #d4ebff;}#sk-container-id-3 div.sk-label input.sk-toggleable__control:checked~label.sk-toggleable__label {background-color: #d4ebff;}#sk-container-id-3 input.sk-hidden--visually {border: 0;clip: rect(1px 1px 1px 1px);clip: rect(1px, 1px, 1px, 1px);height: 1px;margin: -1px;overflow: hidden;padding: 0;position: absolute;width: 1px;}#sk-container-id-3 div.sk-estimator {font-family: monospace;background-color: #f0f8ff;border: 1px dotted black;border-radius: 0.25em;box-sizing: border-box;margin-bottom: 0.5em;}#sk-container-id-3 div.sk-estimator:hover {background-color: #d4ebff;}#sk-container-id-3 div.sk-parallel-item::after {content: \"\";width: 100%;border-bottom: 1px solid gray;flex-grow: 1;}#sk-container-id-3 div.sk-label:hover label.sk-toggleable__label {background-color: #d4ebff;}#sk-container-id-3 div.sk-serial::before {content: \"\";position: absolute;border-left: 1px solid gray;box-sizing: border-box;top: 0;bottom: 0;left: 50%;z-index: 0;}#sk-container-id-3 div.sk-serial {display: flex;flex-direction: column;align-items: center;background-color: white;padding-right: 0.2em;padding-left: 0.2em;position: relative;}#sk-container-id-3 div.sk-item {position: relative;z-index: 1;}#sk-container-id-3 div.sk-parallel {display: flex;align-items: stretch;justify-content: center;background-color: white;position: relative;}#sk-container-id-3 div.sk-item::before, #sk-container-id-3 div.sk-parallel-item::before {content: \"\";position: absolute;border-left: 1px solid gray;box-sizing: border-box;top: 0;bottom: 0;left: 50%;z-index: -1;}#sk-container-id-3 div.sk-parallel-item {display: flex;flex-direction: column;z-index: 1;position: relative;background-color: white;}#sk-container-id-3 div.sk-parallel-item:first-child::after {align-self: flex-end;width: 50%;}#sk-container-id-3 div.sk-parallel-item:last-child::after {align-self: flex-start;width: 50%;}#sk-container-id-3 div.sk-parallel-item:only-child::after {width: 0;}#sk-container-id-3 div.sk-dashed-wrapped {border: 1px dashed gray;margin: 0 0.4em 0.5em 0.4em;box-sizing: border-box;padding-bottom: 0.4em;background-color: white;}#sk-container-id-3 div.sk-label label {font-family: monospace;font-weight: bold;display: inline-block;line-height: 1.2em;}#sk-container-id-3 div.sk-label-container {text-align: center;}#sk-container-id-3 div.sk-container {/* jupyter's `normalize.less` sets `[hidden] { display: none; }` but bootstrap.min.css set `[hidden] { display: none !important; }` so we also need the `!important` here to be able to override the default hidden behavior on the sphinx rendered scikit-learn.org. See: https://github.com/scikit-learn/scikit-learn/issues/21755 */display: inline-block !important;position: relative;}#sk-container-id-3 div.sk-text-repr-fallback {display: none;}</style><div id=\"sk-container-id-3\" class=\"sk-top-container\"><div class=\"sk-text-repr-fallback\"><pre>LinearRegression()</pre><b>In a Jupyter environment, please rerun this cell to show the HTML representation or trust the notebook. <br />On GitHub, the HTML representation is unable to render, please try loading this page with nbviewer.org.</b></div><div class=\"sk-container\" hidden><div class=\"sk-item\"><div class=\"sk-estimator sk-toggleable\"><input class=\"sk-toggleable__control sk-hidden--visually\" id=\"sk-estimator-id-15\" type=\"checkbox\" checked><label for=\"sk-estimator-id-15\" class=\"sk-toggleable__label sk-toggleable__label-arrow\">LinearRegression</label><div class=\"sk-toggleable__content\"><pre>LinearRegression()</pre></div></div></div></div></div>"
      ],
      "text/plain": [
       "LinearRegression()"
      ]
     },
     "execution_count": 12,
     "metadata": {},
     "output_type": "execute_result"
    }
   ],
   "source": [
    "reg = LinearRegression() # to instantiate the class\n",
    "reg.fit(X_train_processed, y_train) # stimate the parameters"
   ]
  },
  {
   "cell_type": "code",
   "execution_count": 13,
   "id": "56167c36-ccbd-42be-905d-c2508a49bc72",
   "metadata": {},
   "outputs": [
    {
     "data": {
      "text/plain": [
       "{'copy_X': True,\n",
       " 'fit_intercept': True,\n",
       " 'n_jobs': None,\n",
       " 'normalize': 'deprecated',\n",
       " 'positive': False}"
      ]
     },
     "execution_count": 13,
     "metadata": {},
     "output_type": "execute_result"
    }
   ],
   "source": [
    "reg.get_params()"
   ]
  },
  {
   "cell_type": "markdown",
   "id": "5b5cbd94-8598-4334-9ce9-cc35cd507c91",
   "metadata": {},
   "source": [
    "### Regression predictions"
   ]
  },
  {
   "cell_type": "code",
   "execution_count": 18,
   "id": "090f0f3e-2497-4108-b3d5-912003480319",
   "metadata": {},
   "outputs": [
    {
     "name": "stdout",
     "output_type": "stream",
     "text": [
      "Prediction [2092.0, 2006.0, 2256.0, 2396.0, 4136.0, 3372.0, 2928.0, 1864.0, -428.0, 3092.0, 1512.0, 2730.0, 3590.0, 1388.0, 836.0, 3200.0, -12.0, 1532.0, 4800.0, 2744.0]\n",
      "\n",
      "Actual [1177.1344, 3552.7088, 1662.5026, 3611.2992, 4207.856, 8323.8316, 2328.3026, 1969.4364, 186.424, 2876.256, 1076.5986, 5077.3908, 2055.3246, 856.8846, 172.4422, 5084.0488, 487.3656, 930.1226, 6964.9338, 4813.734]\n"
     ]
    }
   ],
   "source": [
    "reg_test_predictions = reg.predict(X_test_processed)\n",
    "\n",
    "print(f\"Prediction {reg_test_predictions[:20].tolist()}\")\n",
    "print(f\"\\nActual {y_test[:20].tolist()}\")"
   ]
  },
  {
   "cell_type": "markdown",
   "id": "96b5a5b6-6561-4e31-a946-9b9dc204ccf9",
   "metadata": {},
   "source": [
    "There are predictions below zero which does not make sense. It seem that the performance of this model will not be so good. Let's evaluate the model."
   ]
  },
  {
   "cell_type": "markdown",
   "id": "bf9bfd54-d207-4cec-a031-4aa654886666",
   "metadata": {},
   "source": [
    "### $R²$ Linear Regression"
   ]
  },
  {
   "cell_type": "code",
   "execution_count": 19,
   "id": "16122785-32b1-4d35-9e51-3a82630337b1",
   "metadata": {},
   "outputs": [
    {
     "name": "stdout",
     "output_type": "stream",
     "text": [
      "Train Score: 0.5657800090786036\n",
      "Test Score: 0.5564388562864708\n"
     ]
    }
   ],
   "source": [
    "reg_train_score = reg.score(X_train_processed, y_train)\n",
    "reg_test_score = reg.score(X_test_processed, y_test)\n",
    "print(f\"Train Score: {reg_train_score}\")\n",
    "print(f\"Test Score: {reg_test_score}\")"
   ]
  },
  {
   "cell_type": "markdown",
   "id": "6fb8312f-0d3d-45c6-b048-fd8a618e093c",
   "metadata": {},
   "source": [
    "Having seen the scores in both training ad test data sets it can be said that the model **does not present overfitting, but it does not explain so good the relationship among the features and the label** which was to be expected since the characteristics were not correlated. Let's check the root of the mean square error."
   ]
  },
  {
   "cell_type": "markdown",
   "id": "e7a48a3a-5fc7-4423-a65a-ac3fe64c5852",
   "metadata": {},
   "source": [
    "### Mean Square Error Linear regression"
   ]
  },
  {
   "cell_type": "code",
   "execution_count": 24,
   "id": "75bfe3d3-f5a5-41b3-ae94-0031cc297eb6",
   "metadata": {},
   "outputs": [],
   "source": [
    "train_pred = reg.predict(X_train_processed)\n",
    "test_pred = reg.predict(X_test_processed)"
   ]
  },
  {
   "cell_type": "code",
   "execution_count": 25,
   "id": "3675dd9f-4e25-4a25-989d-d2491c1f2cd1",
   "metadata": {},
   "outputs": [
    {
     "name": "stdout",
     "output_type": "stream",
     "text": [
      "Training Score: 1260169.7130376247\n",
      "Testing Score: 1304386.9835676693\n"
     ]
    }
   ],
   "source": [
    "mse_train = mean_squared_error(y_train, train_pred)\n",
    "mse_test = mean_squared_error(y_test, test_pred)\n",
    "print(f\"Training Score: {mse_train}\")\n",
    "print(f\"Testing Score: {mse_test}\")"
   ]
  },
  {
   "cell_type": "code",
   "execution_count": 26,
   "id": "7a1543f2-f131-422f-95a2-56f1eb17d3b2",
   "metadata": {},
   "outputs": [
    {
     "name": "stdout",
     "output_type": "stream",
     "text": [
      "Training Score: 1122.572809682127 \n",
      "Testing Score 1142.0976243595244\n"
     ]
    }
   ],
   "source": [
    "print(f\"Training Score: {np.sqrt(mse_train)}\", f\"\\nTesting Score {np.sqrt(mse_test)}\")"
   ]
  },
  {
   "cell_type": "markdown",
   "id": "2687477d-e0bc-434f-92cd-369e2ebb6886",
   "metadata": {},
   "source": [
    "Given the scores it can be said that in average the error in the prediction is $\\pm$ 1142.10 dollars in the sales prediction, given the test data set. "
   ]
  },
  {
   "cell_type": "code",
   "execution_count": 68,
   "id": "4334b4e6-579b-4d9f-b598-a3e94c2a3ddb",
   "metadata": {},
   "outputs": [
    {
     "data": {
      "image/png": "[encoded data removed]",
      "text/plain": [
       "<Figure size 1200x600 with 2 Axes>"
      ]
     },
     "metadata": {},
     "output_type": "display_data"
    }
   ],
   "source": [
    "fig, (ax1, ax2) = plt.subplots(1,2, sharey=True, figsize=(12,6))\n",
    "sns.histplot(test_pred, color=\"red\", bins=30, ax=ax1)\n",
    "sns.histplot(train_pred, bins=30, alpha=0.5, ax=ax1)\n",
    "sns.histplot(y_test, bins=30, ax=ax2, color=\"red\")\n",
    "sns.histplot(y_train, bins=30, ax=ax2, alpha=0.5)\n",
    "#plt.xlim(0, 6500)\n",
    "ax1.legend(labels=[\"Test\", \"Training\"])\n",
    "ax2.legend(labels=[\"Test\", \"Training\"])\n",
    "plt.suptitle(\"Predicted vs Actual Sales Distribution\", y=0.96, fontsize=16)\n",
    "plt.show()"
   ]
  },
  {
   "cell_type": "markdown",
   "id": "75bea47e-876c-4b6c-905b-6419dfb05155",
   "metadata": {},
   "source": [
    "## Regression Tree"
   ]
  },
  {
   "cell_type": "code",
   "execution_count": 28,
   "id": "54f1230c-65d3-492d-843c-21967a9e40cb",
   "metadata": {},
   "outputs": [
    {
     "data": {
      "text/html": [
       "<style>#sk-container-id-4 {color: black;background-color: white;}#sk-container-id-4 pre{padding: 0;}#sk-container-id-4 div.sk-toggleable {background-color: white;}#sk-container-id-4 label.sk-toggleable__label {cursor: pointer;display: block;width: 100%;margin-bottom: 0;padding: 0.3em;box-sizing: border-box;text-align: center;}#sk-container-id-4 label.sk-toggleable__label-arrow:before {content: \"▸\";float: left;margin-right: 0.25em;color: #696969;}#sk-container-id-4 label.sk-toggleable__label-arrow:hover:before {color: black;}#sk-container-id-4 div.sk-estimator:hover label.sk-toggleable__label-arrow:before {color: black;}#sk-container-id-4 div.sk-toggleable__content {max-height: 0;max-width: 0;overflow: hidden;text-align: left;background-color: #f0f8ff;}#sk-container-id-4 div.sk-toggleable__content pre {margin: 0.2em;color: black;border-radius: 0.25em;background-color: #f0f8ff;}#sk-container-id-4 input.sk-toggleable__control:checked~div.sk-toggleable__content {max-height: 200px;max-width: 100%;overflow: auto;}#sk-container-id-4 input.sk-toggleable__control:checked~label.sk-toggleable__label-arrow:before {content: \"▾\";}#sk-container-id-4 div.sk-estimator input.sk-toggleable__control:checked~label.sk-toggleable__label {background-color: #d4ebff;}#sk-container-id-4 div.sk-label input.sk-toggleable__control:checked~label.sk-toggleable__label {background-color: #d4ebff;}#sk-container-id-4 input.sk-hidden--visually {border: 0;clip: rect(1px 1px 1px 1px);clip: rect(1px, 1px, 1px, 1px);height: 1px;margin: -1px;overflow: hidden;padding: 0;position: absolute;width: 1px;}#sk-container-id-4 div.sk-estimator {font-family: monospace;background-color: #f0f8ff;border: 1px dotted black;border-radius: 0.25em;box-sizing: border-box;margin-bottom: 0.5em;}#sk-container-id-4 div.sk-estimator:hover {background-color: #d4ebff;}#sk-container-id-4 div.sk-parallel-item::after {content: \"\";width: 100%;border-bottom: 1px solid gray;flex-grow: 1;}#sk-container-id-4 div.sk-label:hover label.sk-toggleable__label {background-color: #d4ebff;}#sk-container-id-4 div.sk-serial::before {content: \"\";position: absolute;border-left: 1px solid gray;box-sizing: border-box;top: 0;bottom: 0;left: 50%;z-index: 0;}#sk-container-id-4 div.sk-serial {display: flex;flex-direction: column;align-items: center;background-color: white;padding-right: 0.2em;padding-left: 0.2em;position: relative;}#sk-container-id-4 div.sk-item {position: relative;z-index: 1;}#sk-container-id-4 div.sk-parallel {display: flex;align-items: stretch;justify-content: center;background-color: white;position: relative;}#sk-container-id-4 div.sk-item::before, #sk-container-id-4 div.sk-parallel-item::before {content: \"\";position: absolute;border-left: 1px solid gray;box-sizing: border-box;top: 0;bottom: 0;left: 50%;z-index: -1;}#sk-container-id-4 div.sk-parallel-item {display: flex;flex-direction: column;z-index: 1;position: relative;background-color: white;}#sk-container-id-4 div.sk-parallel-item:first-child::after {align-self: flex-end;width: 50%;}#sk-container-id-4 div.sk-parallel-item:last-child::after {align-self: flex-start;width: 50%;}#sk-container-id-4 div.sk-parallel-item:only-child::after {width: 0;}#sk-container-id-4 div.sk-dashed-wrapped {border: 1px dashed gray;margin: 0 0.4em 0.5em 0.4em;box-sizing: border-box;padding-bottom: 0.4em;background-color: white;}#sk-container-id-4 div.sk-label label {font-family: monospace;font-weight: bold;display: inline-block;line-height: 1.2em;}#sk-container-id-4 div.sk-label-container {text-align: center;}#sk-container-id-4 div.sk-container {/* jupyter's `normalize.less` sets `[hidden] { display: none; }` but bootstrap.min.css set `[hidden] { display: none !important; }` so we also need the `!important` here to be able to override the default hidden behavior on the sphinx rendered scikit-learn.org. See: https://github.com/scikit-learn/scikit-learn/issues/21755 */display: inline-block !important;position: relative;}#sk-container-id-4 div.sk-text-repr-fallback {display: none;}</style><div id=\"sk-container-id-4\" class=\"sk-top-container\"><div class=\"sk-text-repr-fallback\"><pre>DecisionTreeRegressor(random_state=42)</pre><b>In a Jupyter environment, please rerun this cell to show the HTML representation or trust the notebook. <br />On GitHub, the HTML representation is unable to render, please try loading this page with nbviewer.org.</b></div><div class=\"sk-container\" hidden><div class=\"sk-item\"><div class=\"sk-estimator sk-toggleable\"><input class=\"sk-toggleable__control sk-hidden--visually\" id=\"sk-estimator-id-16\" type=\"checkbox\" checked><label for=\"sk-estimator-id-16\" class=\"sk-toggleable__label sk-toggleable__label-arrow\">DecisionTreeRegressor</label><div class=\"sk-toggleable__content\"><pre>DecisionTreeRegressor(random_state=42)</pre></div></div></div></div></div>"
      ],
      "text/plain": [
       "DecisionTreeRegressor(random_state=42)"
      ]
     },
     "execution_count": 28,
     "metadata": {},
     "output_type": "execute_result"
    }
   ],
   "source": [
    "dec_tree = DecisionTreeRegressor(random_state=42)\n",
    "dec_tree.fit(X_train_processed, y_train)"
   ]
  },
  {
   "cell_type": "code",
   "execution_count": 29,
   "id": "e90081f8-cd5d-440e-835d-ee1ea3259dbe",
   "metadata": {},
   "outputs": [
    {
     "name": "stdout",
     "output_type": "stream",
     "text": [
      "Test Prediction [2982.784, 367.5216, 1662.5026, 2871.5954, 2878.2534, 2900.2248, 3067.3406, 1621.8888, 189.0872, 1701.7848, 2094.6068, 1304.968, 4725.8484, 934.7832, 174.4396, 2387.5588, 121.1756, 610.5386, 8958.339, 2406.867]\n",
      "\n",
      "Actual Test [1177.1344, 3552.7088, 1662.5026, 3611.2992, 4207.856, 8323.8316, 2328.3026, 1969.4364, 186.424, 2876.256, 1076.5986, 5077.3908, 2055.3246, 856.8846, 172.4422, 5084.0488, 487.3656, 930.1226, 6964.9338, 4813.734]\n"
     ]
    }
   ],
   "source": [
    "tree_train_pred = dec_tree.predict(X_train_processed)\n",
    "tree_test_pred = dec_tree.predict(X_test_processed)\n",
    "print(f\"Test Prediction {tree_test_pred[:20].tolist()}\")\n",
    "print(f\"\\nActual Test {y_test[:20].tolist()}\")"
   ]
  },
  {
   "cell_type": "code",
   "execution_count": 30,
   "id": "a3f84957-6f69-4556-b4a0-89299173846d",
   "metadata": {},
   "outputs": [
    {
     "name": "stdout",
     "output_type": "stream",
     "text": [
      "Training Score: 1.0 \n",
      "Testting Score: 0.22132827141710942\n"
     ]
    }
   ],
   "source": [
    "tree_r2_train_score = dec_tree.score(X_train_processed, y_train)\n",
    "tree_r2_test_score = dec_tree.score(X_test_processed, y_test)\n",
    "print(f\"Training Score: {tree_r2_train_score}\",f\"\\nTestting Score: {tree_r2_test_score}\")"
   ]
  },
  {
   "cell_type": "markdown",
   "id": "293b4fac-92e9-43da-bb1a-60708356c489",
   "metadata": {},
   "source": [
    "We see that the model presents **overfitting**, so let's modify the hyperparameters. "
   ]
  },
  {
   "cell_type": "code",
   "execution_count": 49,
   "id": "00dd24bc-76ec-4311-a221-72ad4ade165a",
   "metadata": {},
   "outputs": [
    {
     "data": {
      "text/plain": [
       "{'ccp_alpha': 0.0,\n",
       " 'criterion': 'squared_error',\n",
       " 'max_depth': None,\n",
       " 'max_features': None,\n",
       " 'max_leaf_nodes': None,\n",
       " 'min_impurity_decrease': 0.0,\n",
       " 'min_samples_leaf': 1,\n",
       " 'min_samples_split': 2,\n",
       " 'min_weight_fraction_leaf': 0.0,\n",
       " 'random_state': 42,\n",
       " 'splitter': 'best'}"
      ]
     },
     "execution_count": 49,
     "metadata": {},
     "output_type": "execute_result"
    }
   ],
   "source": [
    "dec_tree.get_params()"
   ]
  },
  {
   "cell_type": "markdown",
   "id": "f55c506a-a3b8-451f-93d9-b25c315465e4",
   "metadata": {},
   "source": [
    "Let's get the depth to see the prove the performance with different depths. "
   ]
  },
  {
   "cell_type": "code",
   "execution_count": 50,
   "id": "c59d101d-dff4-4783-b8e2-d8a0a91da460",
   "metadata": {},
   "outputs": [
    {
     "data": {
      "text/plain": [
       "39"
      ]
     },
     "execution_count": 50,
     "metadata": {},
     "output_type": "execute_result"
    }
   ],
   "source": [
    "dec_tree.get_depth()"
   ]
  },
  {
   "cell_type": "code",
   "execution_count": 51,
   "id": "4f08fdf6-3b0c-49ea-9e72-753442aff058",
   "metadata": {},
   "outputs": [],
   "source": [
    "max_depth_range = list(range(2, 39))\n",
    "r2 = []\n",
    "\n",
    "for depth in max_depth_range:\n",
    "    tree = DecisionTreeRegressor(max_depth=depth,\n",
    "                                random_state=42)\n",
    "    tree.fit(X_train_processed, y_train)\n",
    "    r2.append(tree.score(X_test_processed, y_test))"
   ]
  },
  {
   "cell_type": "code",
   "execution_count": 52,
   "id": "87ffae6a-40d4-4243-ad5b-38cc9d62f451",
   "metadata": {},
   "outputs": [
    {
     "data": {
      "image/png": "[encoded data removed]",
      "text/plain": [
       "<Figure size 1100x940 with 1 Axes>"
      ]
     },
     "metadata": {},
     "output_type": "display_data"
    }
   ],
   "source": [
    "plt.plot(max_depth_range, r2)\n",
    "plt.xlabel(\"Depth\")\n",
    "plt.ylabel(\"R2\")\n",
    "plt.show()"
   ]
  },
  {
   "cell_type": "markdown",
   "id": "286d7dfc-f2d4-4420-a22a-2217608f4f7d",
   "metadata": {},
   "source": [
    "Getting the scores in the test data set we see that the model presents a better performance when the depth has a vaue of six, so let's use that value in the model."
   ]
  },
  {
   "cell_type": "markdown",
   "id": "054723ec-56c8-4190-9cc7-1e3b3c163422",
   "metadata": {},
   "source": [
    "### $R²$ Decision Tree Regressor"
   ]
  },
  {
   "cell_type": "code",
   "execution_count": 34,
   "id": "11b0a868-9815-4bf5-9c3b-d1a5ba1c626b",
   "metadata": {},
   "outputs": [
    {
     "name": "stdout",
     "output_type": "stream",
     "text": [
      "Training Score: 0.6177652319981206 Testing Score: 0.5852036194426379\n"
     ]
    }
   ],
   "source": [
    "tree_depth_6 = DecisionTreeRegressor(max_depth=6, random_state=42)\n",
    "tree_depth_6.fit(X_train_processed, y_train)\n",
    "print(f\"Training Score: {tree_depth_6.score(X_train_processed, y_train)}\",\n",
    "     f\"Testing Score: {tree_depth_6.score(X_test_processed, y_test)}\")"
   ]
  },
  {
   "cell_type": "markdown",
   "id": "60481731-d441-4473-853c-1aa37ef732e9",
   "metadata": {},
   "source": [
    "In this case we have get a better score in the testing data set. Let's check the root of the mean square error."
   ]
  },
  {
   "cell_type": "markdown",
   "id": "9845d944-d5fa-4d7d-b72d-0235fa0ae732",
   "metadata": {},
   "source": [
    "### RMSE "
   ]
  },
  {
   "cell_type": "code",
   "execution_count": 35,
   "id": "b5b1edf3-1149-4b1b-9d1b-3b6acbb024ea",
   "metadata": {},
   "outputs": [],
   "source": [
    "train_pred_dtree = tree_depth_6.predict(X_train_processed)\n",
    "test_pred_dtree = tree_depth_6.predict(X_test_processed)"
   ]
  },
  {
   "cell_type": "code",
   "execution_count": 36,
   "id": "5dcf64bf-ed1c-4327-9b71-97c471bb8f35",
   "metadata": {},
   "outputs": [
    {
     "name": "stdout",
     "output_type": "stream",
     "text": [
      "Training Score: 1109301.0178638375\n",
      "Testing Score: 1219798.008230047\n"
     ]
    }
   ],
   "source": [
    "mse_train_dtree = mean_squared_error(y_train, train_pred_dtree)\n",
    "mse_test_dtree = mean_squared_error(y_test, test_pred_dtree)\n",
    "print(f\"Training Score: {mse_train_dtree}\")\n",
    "print(f\"Testing Score: {mse_test_dtree}\")"
   ]
  },
  {
   "cell_type": "code",
   "execution_count": 37,
   "id": "56e9df62-c5dd-4715-b291-611c3023da83",
   "metadata": {},
   "outputs": [
    {
     "name": "stdout",
     "output_type": "stream",
     "text": [
      "Training Score: 1053.2336008046066 \n",
      "Testing Score 1104.4446605557234\n"
     ]
    }
   ],
   "source": [
    "print(f\"Training Score: {np.sqrt(mse_train_dtree)}\", f\"\\nTesting Score {np.sqrt(mse_test_dtree)}\")"
   ]
  },
  {
   "cell_type": "markdown",
   "id": "9caf8876-59e8-4b8d-b569-88b71bc6dbdc",
   "metadata": {
    "tags": []
   },
   "source": [
    "Given the scores it can be said that in average the error in the prediction is $\\pm$ 1104.44 dollars in the sales prediction, given the test data set. Which is less compare to the regression model."
   ]
  },
  {
   "cell_type": "markdown",
   "id": "baebd6e6-dc40-417b-9c20-7bd77e070947",
   "metadata": {},
   "source": [
    "## Sales Distribution"
   ]
  },
  {
   "cell_type": "code",
   "execution_count": 67,
   "id": "106def67-29be-4ef1-be33-e3dbac232800",
   "metadata": {},
   "outputs": [
    {
     "data": {
      "image/png": "[encoded data removed]",
      "text/plain": [
       "<Figure size 1200x600 with 2 Axes>"
      ]
     },
     "metadata": {},
     "output_type": "display_data"
    }
   ],
   "source": [
    "import matplotlib.pyplot as plt\n",
    "import seaborn as sns\n",
    "fig, (ax1, ax2) = plt.subplots(1,2, sharey=True, figsize=(12,6))\n",
    "sns.histplot(test_pred_dtree, color=\"red\", bins=30, ax=ax1)\n",
    "sns.histplot(train_pred_dtree, bins=30, alpha=0.5, ax=ax1)\n",
    "sns.histplot(y_test, bins=30, ax=ax2, color=\"red\")\n",
    "sns.histplot(y_train, bins=30, ax=ax2, alpha=0.5)\n",
    "#plt.xlim(0, 6500)\n",
    "ax1.legend(labels=[\"Test\", \"Training\"])\n",
    "ax2.legend(labels=[\"Test\", \"Training\"])\n",
    "plt.suptitle(\"Predicted vs Actual Sales Distribution\", y=0.96, fontsize=16)\n",
    "plt.show()"
   ]
  },
  {
   "cell_type": "markdown",
   "id": "e6db58d0-bd42-4e68-8c85-da9e9e16b3ba",
   "metadata": {},
   "source": [
    "# Model Selection"
   ]
  },
  {
   "cell_type": "markdown",
   "id": "a757370f-8785-4d7e-be20-50659f8fbd57",
   "metadata": {},
   "source": [
    "Given the results, the model that best fits the real data is the Regression Tree, obtaining a score of 58% on the test data set. Although the intended distribution is quite different from the actual one, this is the best option so far."
   ]
  },
  {
   "cell_type": "raw",
   "id": "0cf3ad99-382b-4ab6-bd4e-9e726e2f8a9d",
   "metadata": {},
   "source": [
    "from sklearn.ensemble import RandomForestRegressor\n",
    "rndf = RandomForestRegressor(random_state = 42, max_depth=6)\n",
    "rndf.fit(X_train_processed, y_train)"
   ]
  },
  {
   "cell_type": "raw",
   "id": "916a8227-296f-4a95-890a-71681df5dbc1",
   "metadata": {},
   "source": [
    "rf_train_score = rndf.score(X_train_processed, y_train)\n",
    "rf_test_score = rndf.score(X_test_processed, y_test)\n",
    "print(rf_train_score)\n",
    "print(rf_test_score)"
   ]
  },
  {
   "cell_type": "raw",
   "id": "6d7ff891-eb8a-4e3d-b0c8-94a0e5a0b7fa",
   "metadata": {},
   "source": [
    "test_pred_rndf = rndf.predict(X_test_processed)\n",
    "train_pred_rndf = rndf.predict(X_train_processed)\n",
    "\n",
    "fig, (ax1, ax2) = plt.subplots(1,2, sharey=True, figsize=(12,6))\n",
    "sns.histplot(test_pred_rndf, color=\"red\", bins=30, ax=ax1)\n",
    "sns.histplot(train_pred_rndf, bins=30, alpha=0.5, ax=ax1)\n",
    "sns.histplot(y_test, bins=30, ax=ax2, color=\"red\")\n",
    "sns.histplot(y_train, bins=30, ax=ax2, alpha=0.5)\n",
    "#plt.xlim(0, 6500)\n",
    "ax1.legend(labels=[\"Test\", \"Training\"])\n",
    "ax2.legend(labels=[\"Test\", \"Training\"])\n",
    "plt.suptitle(\"Predicted vs Actual Sales Distribution\", y=0.96, fontsize=16)\n",
    "plt.show()"
   ]
  }
 ],
 "metadata": {
  "kernelspec": {
   "display_name": "Python 3 (ipykernel)",
   "language": "python",
   "name": "python3"
  },
  "language_info": {
   "codemirror_mode": {
    "name": "ipython",
    "version": 3
   },
   "file_extension": ".py",
   "mimetype": "text/x-python",
   "name": "python",
   "nbconvert_exporter": "python",
   "pygments_lexer": "ipython3",
   "version": "3.10.4"
  }
 },
 "nbformat": 4,
 "nbformat_minor": 5
}
